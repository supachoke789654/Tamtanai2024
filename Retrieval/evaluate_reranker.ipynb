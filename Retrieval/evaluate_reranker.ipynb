{
 "cells": [
  {
   "cell_type": "code",
   "execution_count": 1,
   "id": "f7910b1c-10e2-4fdf-ac4e-791affe7188f",
   "metadata": {},
   "outputs": [
    {
     "name": "stderr",
     "output_type": "stream",
     "text": [
      "/home/shanwibo/.conda/envs/retrieval/lib/python3.10/site-packages/tqdm/auto.py:21: TqdmWarning: IProgress not found. Please update jupyter and ipywidgets. See https://ipywidgets.readthedocs.io/en/stable/user_install.html\n",
      "  from .autonotebook import tqdm as notebook_tqdm\n"
     ]
    }
   ],
   "source": [
    "import json\n",
    "import numpy as np\n",
    "from tqdm import tqdm\n",
    "from FlagEmbedding import FlagReranker\n",
    "\n",
    "import warnings\n",
    "warnings.filterwarnings('ignore')"
   ]
  },
  {
   "cell_type": "code",
   "execution_count": 2,
   "id": "b45fc3f3-4c02-4300-ac8f-3c8c23037b7e",
   "metadata": {},
   "outputs": [
    {
     "name": "stdout",
     "output_type": "stream",
     "text": [
      "----------using 4*GPUs----------\n"
     ]
    }
   ],
   "source": [
    "based_reranker = FlagReranker('/project/lt200301-edubot/Capstone-TamTanai/models/bge-reranker-v2-m3', use_fp16=True)"
   ]
  },
  {
   "cell_type": "code",
   "execution_count": 3,
   "id": "6afec21b-c2f7-4786-acda-2444e90b3336",
   "metadata": {},
   "outputs": [],
   "source": [
    "def run_evaluate(model, dataset):\n",
    "    correct = 0\n",
    "    for data in tqdm(dataset):\n",
    "        input_data = [[data['query'], data['pos'][0]]] + [[data['query'], neg] for neg in data['neg']]\n",
    "        scores = model.compute_score(input_data, normalize=True)\n",
    "        correct += np.argmax(scores) == 0\n",
    "    return correct"
   ]
  },
  {
   "cell_type": "code",
   "execution_count": 4,
   "id": "21145da9-f492-4dae-89e7-8f37cd5afa31",
   "metadata": {},
   "outputs": [
    {
     "name": "stdout",
     "output_type": "stream",
     "text": [
      "----------using 4*GPUs----------\n"
     ]
    },
    {
     "name": "stderr",
     "output_type": "stream",
     "text": [
      "100%|██████████| 3296/3296 [02:30<00:00, 21.84it/s]\n",
      "100%|██████████| 825/825 [00:37<00:00, 22.20it/s]\n",
      "100%|██████████| 3296/3296 [02:27<00:00, 22.28it/s]\n",
      "100%|██████████| 825/825 [00:37<00:00, 22.18it/s]\n"
     ]
    },
    {
     "name": "stdout",
     "output_type": "stream",
     "text": [
      "Based model\n",
      "Training set\n",
      "Top 1 accuracy: 98.67\n",
      "Validation set\n",
      "Top 1 accuracy: 98.55\n",
      "\n",
      "Finetuned model\n",
      "Training set\n",
      "Top 1 accuracy: 100.00\n",
      "Validation set\n",
      "Top 1 accuracy: 100.00\n"
     ]
    }
   ],
   "source": [
    "n_negative = 1\n",
    "\n",
    "dataset_name = f'reranker_training_dataset_with_Negative={n_negative}_train.jsonl'\n",
    "dataset_path = f'/project/lt200301-edubot/Capstone-TamTanai/reranker_training_dataset/{dataset_name}'\n",
    "\n",
    "train_dataset = []\n",
    "with open(dataset_path) as file:\n",
    "    train_dataset = list(file)\n",
    "train_dataset = [json.loads(data) for data in train_dataset]\n",
    "\n",
    "dataset_name = f'reranker_training_dataset_with_Negative={n_negative}_validate.jsonl'\n",
    "dataset_path = f'/project/lt200301-edubot/Capstone-TamTanai/reranker_training_dataset/{dataset_name}'\n",
    "\n",
    "validate_dataset = []\n",
    "with open(dataset_path) as file:\n",
    "    validate_dataset = list(file)\n",
    "validate_dataset = [json.loads(data) for data in validate_dataset]\n",
    "\n",
    "model_path = f'/project/lt200301-edubot/Capstone-TamTanai/models/bge-reranker-v2-m3-finetune-with_Negative={n_negative}'\n",
    "reranker = FlagReranker(model_path, use_fp16=True)\n",
    "\n",
    "based_train_correct = run_evaluate(based_reranker, train_dataset)\n",
    "based_validate_correct = run_evaluate(based_reranker, validate_dataset)\n",
    "finetuned_train_correct = run_evaluate(reranker, train_dataset)\n",
    "finetuned_validate_correct = run_evaluate(reranker, validate_dataset)\n",
    "del reranker\n",
    "\n",
    "print('Based model')\n",
    "print('Training set')\n",
    "print(f'Top 1 accuracy: {based_train_correct/len(train_dataset)*100:.02f}')\n",
    "print('Validation set')\n",
    "print(f'Top 1 accuracy: {based_validate_correct/len(validate_dataset)*100:.02f}')\n",
    "print()\n",
    "print('Finetuned model')\n",
    "print('Training set')\n",
    "print(f'Top 1 accuracy: {finetuned_train_correct/len(train_dataset)*100:.02f}')\n",
    "print('Validation set')\n",
    "print(f'Top 1 accuracy: {finetuned_validate_correct/len(validate_dataset)*100:.02f}')"
   ]
  },
  {
   "cell_type": "code",
   "execution_count": 4,
   "id": "39504efb-7d95-4260-8fdc-6f15dfa7ba07",
   "metadata": {},
   "outputs": [
    {
     "name": "stdout",
     "output_type": "stream",
     "text": [
      "----------using 4*GPUs----------\n"
     ]
    },
    {
     "name": "stderr",
     "output_type": "stream",
     "text": [
      "100%|██████████| 3296/3296 [03:51<00:00, 14.25it/s]\n",
      "100%|██████████| 825/825 [00:57<00:00, 14.46it/s]\n",
      "100%|██████████| 3296/3296 [03:51<00:00, 14.22it/s]\n",
      "100%|██████████| 825/825 [00:57<00:00, 14.45it/s]\n"
     ]
    },
    {
     "name": "stdout",
     "output_type": "stream",
     "text": [
      "Based model\n",
      "Training set\n",
      "Top 1 accuracy: 96.94\n",
      "Validation set\n",
      "Top 1 accuracy: 95.64\n",
      "\n",
      "Finetuned model\n",
      "Training set\n",
      "Top 1 accuracy: 99.97\n",
      "Validation set\n",
      "Top 1 accuracy: 99.88\n"
     ]
    }
   ],
   "source": [
    "n_negative = 5\n",
    "\n",
    "dataset_name = f'reranker_training_dataset_with_Negative={n_negative}_train.jsonl'\n",
    "dataset_path = f'/project/lt200301-edubot/Capstone-TamTanai/reranker_training_dataset/{dataset_name}'\n",
    "\n",
    "train_dataset = []\n",
    "with open(dataset_path) as file:\n",
    "    train_dataset = list(file)\n",
    "train_dataset = [json.loads(data) for data in train_dataset]\n",
    "\n",
    "dataset_name = f'reranker_training_dataset_with_Negative={n_negative}_validate.jsonl'\n",
    "dataset_path = f'/project/lt200301-edubot/Capstone-TamTanai/reranker_training_dataset/{dataset_name}'\n",
    "\n",
    "validate_dataset = []\n",
    "with open(dataset_path) as file:\n",
    "    validate_dataset = list(file)\n",
    "validate_dataset = [json.loads(data) for data in validate_dataset]\n",
    "\n",
    "model_path = f'/project/lt200301-edubot/Capstone-TamTanai/models/bge-reranker-v2-m3-finetune-with_Negative={n_negative}'\n",
    "reranker = FlagReranker(model_path, use_fp16=True)\n",
    "\n",
    "based_train_correct = run_evaluate(based_reranker, train_dataset)\n",
    "based_validate_correct = run_evaluate(based_reranker, validate_dataset)\n",
    "finetuned_train_correct = run_evaluate(reranker, train_dataset)\n",
    "finetuned_validate_correct = run_evaluate(reranker, validate_dataset)\n",
    "del reranker\n",
    "\n",
    "print('Based model')\n",
    "print('Training set')\n",
    "print(f'Top 1 accuracy: {based_train_correct/len(train_dataset)*100:.02f}')\n",
    "print('Validation set')\n",
    "print(f'Top 1 accuracy: {based_validate_correct/len(validate_dataset)*100:.02f}')\n",
    "print()\n",
    "print('Finetuned model')\n",
    "print('Training set')\n",
    "print(f'Top 1 accuracy: {finetuned_train_correct/len(train_dataset)*100:.02f}')\n",
    "print('Validation set')\n",
    "print(f'Top 1 accuracy: {finetuned_validate_correct/len(validate_dataset)*100:.02f}')"
   ]
  },
  {
   "cell_type": "code",
   "execution_count": 5,
   "id": "1b83a86e-31a9-4e7c-947b-a2213b242765",
   "metadata": {},
   "outputs": [
    {
     "name": "stdout",
     "output_type": "stream",
     "text": [
      "----------using 4*GPUs----------\n"
     ]
    },
    {
     "name": "stderr",
     "output_type": "stream",
     "text": [
      "100%|██████████| 3296/3296 [05:32<00:00,  9.93it/s]\n",
      "100%|██████████| 825/825 [01:22<00:00,  9.95it/s]\n",
      "100%|██████████| 3296/3296 [05:29<00:00, 10.00it/s]\n",
      "100%|██████████| 825/825 [01:22<00:00,  9.95it/s]\n"
     ]
    },
    {
     "name": "stdout",
     "output_type": "stream",
     "text": [
      "Based model\n",
      "Training set\n",
      "Top 1 accuracy: 95.33\n",
      "Validation set\n",
      "Top 1 accuracy: 94.79\n",
      "\n",
      "Finetuned model\n",
      "Training set\n",
      "Top 1 accuracy: 99.88\n",
      "Validation set\n",
      "Top 1 accuracy: 99.76\n"
     ]
    }
   ],
   "source": [
    "n_negative = 10\n",
    "\n",
    "dataset_name = f'reranker_training_dataset_with_Negative={n_negative}_train.jsonl'\n",
    "dataset_path = f'/project/lt200301-edubot/Capstone-TamTanai/reranker_training_dataset/{dataset_name}'\n",
    "\n",
    "train_dataset = []\n",
    "with open(dataset_path) as file:\n",
    "    train_dataset = list(file)\n",
    "train_dataset = [json.loads(data) for data in train_dataset]\n",
    "\n",
    "dataset_name = f'reranker_training_dataset_with_Negative={n_negative}_validate.jsonl'\n",
    "dataset_path = f'/project/lt200301-edubot/Capstone-TamTanai/reranker_training_dataset/{dataset_name}'\n",
    "\n",
    "validate_dataset = []\n",
    "with open(dataset_path) as file:\n",
    "    validate_dataset = list(file)\n",
    "validate_dataset = [json.loads(data) for data in validate_dataset]\n",
    "\n",
    "model_path = f'/project/lt200301-edubot/Capstone-TamTanai/models/bge-reranker-v2-m3-finetune-with_Negative={n_negative}'\n",
    "reranker = FlagReranker(model_path, use_fp16=True)\n",
    "\n",
    "based_train_correct = run_evaluate(based_reranker, train_dataset)\n",
    "based_validate_correct = run_evaluate(based_reranker, validate_dataset)\n",
    "finetuned_train_correct = run_evaluate(reranker, train_dataset)\n",
    "finetuned_validate_correct = run_evaluate(reranker, validate_dataset)\n",
    "del reranker\n",
    "\n",
    "print('Based model')\n",
    "print('Training set')\n",
    "print(f'Top 1 accuracy: {based_train_correct/len(train_dataset)*100:.02f}')\n",
    "print('Validation set')\n",
    "print(f'Top 1 accuracy: {based_validate_correct/len(validate_dataset)*100:.02f}')\n",
    "print()\n",
    "print('Finetuned model')\n",
    "print('Training set')\n",
    "print(f'Top 1 accuracy: {finetuned_train_correct/len(train_dataset)*100:.02f}')\n",
    "print('Validation set')\n",
    "print(f'Top 1 accuracy: {finetuned_validate_correct/len(validate_dataset)*100:.02f}')"
   ]
  },
  {
   "cell_type": "markdown",
   "id": "c903566d-806d-4923-b9c1-d49df3104679",
   "metadata": {},
   "source": [
    "# Similar"
   ]
  },
  {
   "cell_type": "markdown",
   "id": "7a46e751-8c82-4a0e-bfbd-a93eb57463e5",
   "metadata": {},
   "source": [
    "## 5"
   ]
  },
  {
   "cell_type": "code",
   "execution_count": 10,
   "id": "ba1f6ec2-b49f-4cb1-a5a4-d2c43654b1c2",
   "metadata": {},
   "outputs": [
    {
     "name": "stdout",
     "output_type": "stream",
     "text": [
      "----------using 4*GPUs----------\n"
     ]
    },
    {
     "name": "stderr",
     "output_type": "stream",
     "text": [
      "100%|██████████| 3296/3296 [04:11<00:00, 13.12it/s]\n",
      "100%|██████████| 825/825 [01:00<00:00, 13.67it/s]\n",
      "100%|██████████| 3296/3296 [04:34<00:00, 12.01it/s]\n",
      "100%|██████████| 825/825 [01:10<00:00, 11.76it/s]\n"
     ]
    },
    {
     "name": "stdout",
     "output_type": "stream",
     "text": [
      "Based model\n",
      "Training set\n",
      "Top 1 accuracy: 70.57\n",
      "Validation set\n",
      "Top 1 accuracy: 73.45\n",
      "\n",
      "Finetuned model\n",
      "Training set\n",
      "Top 1 accuracy: 99.76\n",
      "Validation set\n",
      "Top 1 accuracy: 89.21\n"
     ]
    }
   ],
   "source": [
    "n_negative = 5\n",
    "\n",
    "dataset_name = f'reranker_training_dataset_with_similar={n_negative}_train.jsonl'\n",
    "dataset_path = f'/project/lt200301-edubot/Capstone-TamTanai/reranker_training_dataset/{dataset_name}'\n",
    "\n",
    "train_dataset = []\n",
    "with open(dataset_path) as file:\n",
    "    train_dataset = list(file)\n",
    "train_dataset = [json.loads(data) for data in train_dataset]\n",
    "\n",
    "dataset_name = f'reranker_training_dataset_with_similar={n_negative}_validate.jsonl'\n",
    "dataset_path = f'/project/lt200301-edubot/Capstone-TamTanai/reranker_training_dataset/{dataset_name}'\n",
    "\n",
    "validate_dataset = []\n",
    "with open(dataset_path) as file:\n",
    "    validate_dataset = list(file)\n",
    "validate_dataset = [json.loads(data) for data in validate_dataset]\n",
    "\n",
    "model_path = f'/project/lt200301-edubot/Capstone-TamTanai/models/bge-reranker-v2-m3-finetune-with_similar={n_negative}'\n",
    "reranker = FlagReranker(model_path, use_fp16=True)\n",
    "\n",
    "based_train_correct = run_evaluate(based_reranker, train_dataset)\n",
    "based_validate_correct = run_evaluate(based_reranker, validate_dataset)\n",
    "finetuned_train_correct = run_evaluate(reranker, train_dataset)\n",
    "finetuned_validate_correct = run_evaluate(reranker, validate_dataset)\n",
    "del reranker\n",
    "\n",
    "print('Based model')\n",
    "print('Training set')\n",
    "print(f'Top 1 accuracy: {based_train_correct/len(train_dataset)*100:.02f}')\n",
    "print('Validation set')\n",
    "print(f'Top 1 accuracy: {based_validate_correct/len(validate_dataset)*100:.02f}')\n",
    "print()\n",
    "print('Finetuned model')\n",
    "print('Training set')\n",
    "print(f'Top 1 accuracy: {finetuned_train_correct/len(train_dataset)*100:.02f}')\n",
    "print('Validation set')\n",
    "print(f'Top 1 accuracy: {finetuned_validate_correct/len(validate_dataset)*100:.02f}')"
   ]
  },
  {
   "cell_type": "markdown",
   "id": "865804ac-ad37-4617-ab8d-4696b732ce10",
   "metadata": {},
   "source": [
    "### Other validation set"
   ]
  },
  {
   "cell_type": "code",
   "execution_count": 12,
   "id": "369d4460-591c-40ab-a5e2-e492e98ebc51",
   "metadata": {},
   "outputs": [
    {
     "name": "stdout",
     "output_type": "stream",
     "text": [
      "----------using 4*GPUs----------\n"
     ]
    },
    {
     "name": "stderr",
     "output_type": "stream",
     "text": [
      "100%|██████████| 3296/3296 [05:34<00:00,  9.85it/s]\n",
      "100%|██████████| 825/825 [01:23<00:00,  9.91it/s]\n"
     ]
    },
    {
     "name": "stdout",
     "output_type": "stream",
     "text": [
      "Finetuned model\n",
      "Training set\n",
      "Top 1 accuracy: 98.36\n",
      "Validation set\n",
      "Top 1 accuracy: 93.70\n"
     ]
    }
   ],
   "source": [
    "n_negative = 5\n",
    "\n",
    "dataset_name = f'reranker_training_dataset_with_Negative=10_train.jsonl'\n",
    "dataset_path = f'/project/lt200301-edubot/Capstone-TamTanai/reranker_training_dataset/{dataset_name}'\n",
    "\n",
    "train_dataset = []\n",
    "with open(dataset_path) as file:\n",
    "    train_dataset = list(file)\n",
    "train_dataset = [json.loads(data) for data in train_dataset]\n",
    "\n",
    "dataset_name = f'reranker_training_dataset_with_Negative=10_validate.jsonl'\n",
    "dataset_path = f'/project/lt200301-edubot/Capstone-TamTanai/reranker_training_dataset/{dataset_name}'\n",
    "\n",
    "validate_dataset = []\n",
    "with open(dataset_path) as file:\n",
    "    validate_dataset = list(file)\n",
    "validate_dataset = [json.loads(data) for data in validate_dataset]\n",
    "\n",
    "model_path = f'/project/lt200301-edubot/Capstone-TamTanai/models/bge-reranker-v2-m3-finetune-with_similar={n_negative}'\n",
    "reranker = FlagReranker(model_path, use_fp16=True)\n",
    "\n",
    "finetuned_train_correct = run_evaluate(reranker, train_dataset)\n",
    "finetuned_validate_correct = run_evaluate(reranker, validate_dataset)\n",
    "del reranker\n",
    "\n",
    "print('Finetuned model')\n",
    "print('Training set')\n",
    "print(f'Top 1 accuracy: {finetuned_train_correct/len(train_dataset)*100:.02f}')\n",
    "print('Validation set')\n",
    "print(f'Top 1 accuracy: {finetuned_validate_correct/len(validate_dataset)*100:.02f}')"
   ]
  },
  {
   "cell_type": "markdown",
   "id": "f8709540-65ae-4354-b6a6-b69b08c9c772",
   "metadata": {},
   "source": [
    "# Similar + Keyword"
   ]
  },
  {
   "cell_type": "markdown",
   "id": "b91b47b9-97a9-4dfc-979a-72c6d4ddb642",
   "metadata": {},
   "source": [
    "## 5"
   ]
  },
  {
   "cell_type": "code",
   "execution_count": 5,
   "id": "f9130b0a-4e9e-4d50-bd7c-3d004f19c33c",
   "metadata": {},
   "outputs": [
    {
     "name": "stdout",
     "output_type": "stream",
     "text": [
      "----------using 4*GPUs----------\n"
     ]
    },
    {
     "name": "stderr",
     "output_type": "stream",
     "text": [
      "100%|██████████| 6513/6513 [08:10<00:00, 13.29it/s]\n",
      "100%|██████████| 1620/1620 [01:59<00:00, 13.59it/s]\n",
      "100%|██████████| 6513/6513 [07:54<00:00, 13.71it/s]\n",
      "100%|██████████| 1620/1620 [01:58<00:00, 13.67it/s]\n"
     ]
    },
    {
     "name": "stdout",
     "output_type": "stream",
     "text": [
      "Based model\n",
      "Training set\n",
      "Top 1 accuracy: 80.38\n",
      "Validation set\n",
      "Top 1 accuracy: 81.98\n",
      "\n",
      "Finetuned model\n",
      "Training set\n",
      "Top 1 accuracy: 99.92\n",
      "Validation set\n",
      "Top 1 accuracy: 92.22\n"
     ]
    }
   ],
   "source": [
    "n_negative = 5\n",
    "\n",
    "dataset_name = f'reranker_training_dataset_with_similar={n_negative}_keyword={n_negative}_train.jsonl'\n",
    "dataset_path = f'/project/lt200301-edubot/Capstone-TamTanai/reranker_training_dataset/{dataset_name}'\n",
    "\n",
    "train_dataset = []\n",
    "with open(dataset_path) as file:\n",
    "    train_dataset = list(file)\n",
    "train_dataset = [json.loads(data) for data in train_dataset]\n",
    "\n",
    "dataset_name = f'reranker_training_dataset_with_similar={n_negative}_keyword={n_negative}_validate.jsonl'\n",
    "dataset_path = f'/project/lt200301-edubot/Capstone-TamTanai/reranker_training_dataset/{dataset_name}'\n",
    "\n",
    "validate_dataset = []\n",
    "with open(dataset_path) as file:\n",
    "    validate_dataset = list(file)\n",
    "validate_dataset = [json.loads(data) for data in validate_dataset]\n",
    "\n",
    "model_path = f'/project/lt200301-edubot/Capstone-TamTanai/models/bge-reranker-v2-m3-finetune-with_similar={n_negative}_keyword={n_negative}'\n",
    "reranker = FlagReranker(model_path, use_fp16=True)\n",
    "\n",
    "based_train_correct = run_evaluate(based_reranker, train_dataset)\n",
    "based_validate_correct = run_evaluate(based_reranker, validate_dataset)\n",
    "finetuned_train_correct = run_evaluate(reranker, train_dataset)\n",
    "finetuned_validate_correct = run_evaluate(reranker, validate_dataset)\n",
    "del reranker\n",
    "\n",
    "print('Based model')\n",
    "print('Training set')\n",
    "print(f'Top 1 accuracy: {based_train_correct/len(train_dataset)*100:.02f}')\n",
    "print('Validation set')\n",
    "print(f'Top 1 accuracy: {based_validate_correct/len(validate_dataset)*100:.02f}')\n",
    "print()\n",
    "print('Finetuned model')\n",
    "print('Training set')\n",
    "print(f'Top 1 accuracy: {finetuned_train_correct/len(train_dataset)*100:.02f}')\n",
    "print('Validation set')\n",
    "print(f'Top 1 accuracy: {finetuned_validate_correct/len(validate_dataset)*100:.02f}')"
   ]
  },
  {
   "cell_type": "markdown",
   "id": "57813513-ae4b-4cae-a91f-9d3578ad62e3",
   "metadata": {},
   "source": [
    "## Reranking result"
   ]
  },
  {
   "cell_type": "code",
   "execution_count": 4,
   "id": "059dadfe-3dd1-4d7d-b8dd-8d3e6c65da03",
   "metadata": {},
   "outputs": [
    {
     "name": "stdout",
     "output_type": "stream",
     "text": [
      "----------using 4*GPUs----------\n"
     ]
    },
    {
     "name": "stderr",
     "output_type": "stream",
     "text": [
      "100%|██████████| 9809/9809 [12:31<00:00, 13.06it/s]\n",
      "100%|██████████| 2445/2445 [02:54<00:00, 13.97it/s]\n",
      "100%|██████████| 9809/9809 [11:42<00:00, 13.97it/s]\n",
      "100%|██████████| 2445/2445 [02:55<00:00, 13.93it/s]\n"
     ]
    },
    {
     "name": "stdout",
     "output_type": "stream",
     "text": [
      "Based model\n",
      "Training set\n",
      "Top 1 accuracy: 77.64\n",
      "Validation set\n",
      "Top 1 accuracy: 79.30\n",
      "\n",
      "Finetuned model\n",
      "Training set\n",
      "Top 1 accuracy: 99.93\n",
      "Validation set\n",
      "Top 1 accuracy: 91.37\n"
     ]
    }
   ],
   "source": [
    "n_negative = 5\n",
    "\n",
    "dataset_name = f'reranker_training_dataset_with_similar={n_negative}_keyword={n_negative}_2nd_train.jsonl'\n",
    "dataset_path = f'/project/lt200301-edubot/Capstone-TamTanai/reranker_training_dataset/{dataset_name}'\n",
    "\n",
    "train_dataset = []\n",
    "with open(dataset_path) as file:\n",
    "    train_dataset = list(file)\n",
    "train_dataset = [json.loads(data) for data in train_dataset]\n",
    "\n",
    "dataset_name = f'reranker_training_dataset_with_similar={n_negative}_keyword={n_negative}_2nd_validate.jsonl'\n",
    "dataset_path = f'/project/lt200301-edubot/Capstone-TamTanai/reranker_training_dataset/{dataset_name}'\n",
    "\n",
    "validate_dataset = []\n",
    "with open(dataset_path) as file:\n",
    "    validate_dataset = list(file)\n",
    "validate_dataset = [json.loads(data) for data in validate_dataset]\n",
    "\n",
    "model_path = f'/project/lt200301-edubot/Capstone-TamTanai/models/bge-reranker-v2-m3-finetune-with_similar={n_negative}_keyword={n_negative}_2nd'\n",
    "reranker = FlagReranker(model_path, use_fp16=True)\n",
    "\n",
    "based_train_correct = run_evaluate(based_reranker, train_dataset)\n",
    "based_validate_correct = run_evaluate(based_reranker, validate_dataset)\n",
    "finetuned_train_correct = run_evaluate(reranker, train_dataset)\n",
    "finetuned_validate_correct = run_evaluate(reranker, validate_dataset)\n",
    "del reranker\n",
    "\n",
    "print('Based model')\n",
    "print('Training set')\n",
    "print(f'Top 1 accuracy: {based_train_correct/len(train_dataset)*100:.02f}')\n",
    "print('Validation set')\n",
    "print(f'Top 1 accuracy: {based_validate_correct/len(validate_dataset)*100:.02f}')\n",
    "print()\n",
    "print('Finetuned model')\n",
    "print('Training set')\n",
    "print(f'Top 1 accuracy: {finetuned_train_correct/len(train_dataset)*100:.02f}')\n",
    "print('Validation set')\n",
    "print(f'Top 1 accuracy: {finetuned_validate_correct/len(validate_dataset)*100:.02f}')"
   ]
  },
  {
   "cell_type": "code",
   "execution_count": null,
   "id": "544febac-68aa-4276-b4b0-0470da2f7b9a",
   "metadata": {},
   "outputs": [],
   "source": []
  }
 ],
 "metadata": {
  "kernelspec": {
   "display_name": "retrieval",
   "language": "python",
   "name": "retrieval"
  },
  "language_info": {
   "codemirror_mode": {
    "name": "ipython",
    "version": 3
   },
   "file_extension": ".py",
   "mimetype": "text/x-python",
   "name": "python",
   "nbconvert_exporter": "python",
   "pygments_lexer": "ipython3",
   "version": "3.10.14"
  }
 },
 "nbformat": 4,
 "nbformat_minor": 5
}
