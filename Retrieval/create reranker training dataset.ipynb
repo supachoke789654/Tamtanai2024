{
 "cells": [
  {
   "cell_type": "code",
   "execution_count": null,
   "id": "9c506492-67aa-4a6d-845b-4cf8b47b279f",
   "metadata": {},
   "outputs": [
    {
     "name": "stderr",
     "output_type": "stream",
     "text": [
      "[nltk_data] Error loading omw: <urlopen error [Errno 101] Network is\n",
      "[nltk_data]     unreachable>\n"
     ]
    }
   ],
   "source": [
    "import numpy as np\n",
    "import pythainlp\n",
    "from pythainlp import word_tokenize\n",
    "from pythainlp.corpus import thai_stopwords\n",
    "from pythainlp.corpus import wordnet\n",
    "from nltk.stem.porter import PorterStemmer\n",
    "from nltk.corpus import words\n",
    "from stop_words import get_stop_words\n",
    "from __future__ import annotations\n",
    "import os\n",
    "import logging\n",
    "from concurrent.futures import ProcessPoolExecutor, ThreadPoolExecutor, as_completed\n",
    "import pandas as pd\n",
    "from tqdm import tqdm\n",
    "import warnings\n",
    "warnings.filterwarnings(\"ignore\")\n",
    "import time\n",
    "\n",
    "import torch\n",
    "from langchain.text_splitter import RecursiveCharacterTextSplitter\n",
    "from langchain.docstore.document import Document\n",
    "import transformers\n",
    "# https://python.langchain.com/en/latest/modules/indexes/document_loaders/examples/excel.html?highlight=xlsx#microsoft-excel\n",
    "from langchain.document_loaders import (\n",
    "    CSVLoader,\n",
    "    PDFMinerLoader,\n",
    "    TextLoader,\n",
    "    UnstructuredExcelLoader,\n",
    "    Docx2txtLoader,\n",
    ")\n",
    "\n",
    "from langchain.embeddings import HuggingFaceEmbeddings\n",
    "from langchain.vectorstores import Chroma, FAISS"
   ]
  },
  {
   "cell_type": "code",
   "execution_count": 2,
   "id": "da26251b-cb23-4c31-82e3-3bf6d3d5437e",
   "metadata": {},
   "outputs": [],
   "source": [
    "import os\n",
    "INGEST_THREADS = os.cpu_count() or 8\n",
    "def load_single_document(file_path: str) -> Document:\n",
    "    # Loads a single document from a file path\n",
    "    file_extension = os.path.splitext(file_path)[1]\n",
    "    loader_class = DOCUMENT_MAP.get(file_extension)\n",
    "    if loader_class == TextLoader:\n",
    "        loader = TextLoader(file_path, encoding=\"utf-8\")\n",
    "    elif loader_class:\n",
    "        loader = loader_class(file_path)\n",
    "    else:\n",
    "        raise ValueError(\"Document type is undefined\")\n",
    "    return loader.load()[0]\n",
    "DOCUMENT_MAP = {\n",
    "    \".txt\": TextLoader,\n",
    "    \".md\": TextLoader,\n",
    "    \".pdf\": PDFMinerLoader,\n",
    "    \".csv\": CSVLoader,\n",
    "    \".xls\": UnstructuredExcelLoader,\n",
    "    \".xlsx\": UnstructuredExcelLoader,\n",
    "    \".docx\": Docx2txtLoader,\n",
    "    \".doc\": Docx2txtLoader,\n",
    "}\n",
    "def load_document_batch(filepaths):\n",
    "    logging.info(\"Loading document batch\")\n",
    "    # create a thread pool\n",
    "    with ThreadPoolExecutor(len(filepaths)) as exe:\n",
    "        # load files\n",
    "        futures = [exe.submit(load_single_document, name) for name in filepaths]\n",
    "        # collect data\n",
    "        data_list = [future.result() for future in futures]\n",
    "        # return data and file paths\n",
    "        return (data_list, filepaths)\n",
    "def loadDocuments(\n",
    "    source_dir: str, chunk_size=1000, chunk_overlap=200\n",
    ") -> list[Document]:\n",
    "    # Loads all documents from the source documents directory, including nested folders\n",
    "    paths = []\n",
    "    for root, _, files in os.walk(source_dir):\n",
    "        for file_name in files:\n",
    "            file_extension = os.path.splitext(file_name)[1]\n",
    "            source_file_path = os.path.join(root, file_name)\n",
    "            if file_extension in DOCUMENT_MAP.keys():\n",
    "                paths.append(source_file_path)\n",
    "\n",
    "    # Have at least one worker and at most INGEST_THREADS workers\n",
    "    n_workers = min(INGEST_THREADS, max(len(paths), 1))\n",
    "    # chunksize = round(len(paths) / n_workers)\n",
    "    chunksize = max(round(len(paths) / n_workers), 1)\n",
    "    docs = []\n",
    "    with ProcessPoolExecutor(n_workers) as executor:\n",
    "        futures = []\n",
    "        # split the load operations into chunks\n",
    "        for i in range(0, len(paths), chunksize):\n",
    "            # select a chunk of filenames\n",
    "            filepaths = paths[i : (i + chunksize)]\n",
    "            # submit the task\n",
    "            future = executor.submit(load_document_batch, filepaths)\n",
    "            futures.append(future)\n",
    "        # process all results\n",
    "        for future in as_completed(futures):\n",
    "            # open the file and load the data\n",
    "            contents, _ = future.result()\n",
    "            docs.extend(contents)\n",
    "\n",
    "    text_splitter = RecursiveCharacterTextSplitter(\n",
    "        chunk_size=chunk_size, chunk_overlap=chunk_overlap\n",
    "    )\n",
    "    documents: list[Document]\n",
    "    documents = text_splitter.split_documents(docs)\n",
    "    # documents = char_data_splitter(docs, chunk_size, chunk_overlap)\n",
    "    return documents\n"
   ]
  },
  {
   "cell_type": "code",
   "execution_count": 3,
   "id": "aa58d721-ac45-4b02-b560-057966255041",
   "metadata": {},
   "outputs": [],
   "source": [
    "endl = \"\\n\""
   ]
  },
  {
   "cell_type": "code",
   "execution_count": 4,
   "id": "cccf2565-0e12-4fe9-9643-5e768b9a9dc5",
   "metadata": {},
   "outputs": [],
   "source": [
    "#load_dotenv()\n",
    "import re\n",
    "# root_dir = \".\"\n",
    "# sys.path.append(root_dir)  # if import module in this project error\n",
    "if os.name != \"nt\":\n",
    "    os.environ[\"TOKENIZERS_PARALLELISM\"] = \"false\"\n",
    "# %% [markdown]\n",
    "###**setup var**\n",
    "\n",
    "#%%\n",
    "#chunk_size = 2000\n",
    "# chunk_overlap = 200\n",
    "# embedding_algorithm = \"faiss\"\n",
    "# source_directory = f\"{root_dir}/ir-service/docs\"\n",
    "# persist_directory = f\"{root_dir}/ir-service/tmp/embeddings/{embedding_algorithm}\"\n",
    "# print(root_dir)\n",
    "# print(persist_directory)\n",
    "\n",
    "# Original mapper dictionary\n",
    "mapper = {\n",
    "    \"law_doc-84-89.txt\": \"761/2566\",\n",
    "    \"law_doc-44-46.txt\": \"1301/2566\",\n",
    "    \"law_doc-54-57.txt\": \"1225/2566\",\n",
    "    \"law_doc-12-13.txt\": \"2525/2566\",\n",
    "    \"law_doc-40-43.txt\": \"1305/2566\",\n",
    "    \"law_doc-14-15.txt\": \"2085/2566\",\n",
    "    \"law_doc-64-69.txt\": \"1090/2566\",\n",
    "    \"law_doc-1-5.txt\": \"2610/2566\",\n",
    "    \"law_doc-78-81.txt\": \"882/2566\",\n",
    "    \"law_doc-82-83.txt\": \"835/2566\",\n",
    "    \"law_doc-35-39.txt\": \"1306/2566\",\n",
    "    \"law_doc-16-20.txt\": \"1574/2566\",\n",
    "    \"law_doc-32-34.txt\": \"1373/2566\",\n",
    "    \"law_doc-74-77.txt\": \"934/2566\",\n",
    "    \"law_doc-6-11.txt\": \"2609/2566\",\n",
    "    \"law_doc-90-92.txt\": \"756/2566\",\n",
    "    \"law_doc-47-53.txt\": \"1300/2566\",\n",
    "    \"law_doc-58-63.txt\": \"1101/2566\",\n",
    "    \"law_doc-70-73.txt\": \"1003/2566\",\n",
    "    \"law_doc-21-31.txt\": \"1542/2566\",\n",
    "}\n",
    "\n",
    "# Reverse the mapping and format it\n",
    "mapper_reverse = {f\"คดี {case}\": filename for filename, case in mapper.items()}\n",
    "\n",
    "endl = \"\\n\"\n",
    "# print(root_dir)\n",
    "exclude_pattern = re.compile(r\"[^ก-๙]+\")  # |[^0-9a-zA-Z]+"
   ]
  },
  {
   "cell_type": "code",
   "execution_count": 5,
   "id": "4c4eeb1e-55a6-43a8-b40f-abf3509914e4",
   "metadata": {},
   "outputs": [],
   "source": [
    "import sys\n",
    "root_dir = os.path.dirname(os.getcwd())\n",
    "# sys.path.append(os.path.join(root_dir, 'deployment/ir-trt-service'))"
   ]
  },
  {
   "cell_type": "code",
   "execution_count": 6,
   "id": "0fe0ffbc-9c40-4da9-89fb-046f4615b9fc",
   "metadata": {},
   "outputs": [],
   "source": [
    "contents = None\n",
    "documents_specific = None\n",
    "documents_general = None\n",
    "documents = None\n",
    "\n",
    "\n",
    "if contents is None:\n",
    "    with open(\"/home/shanwibo/Capstone-TamTanai/notebooks/specific_case_knowledge.txt\", \"r\", encoding=\"utf-8\") as f:\n",
    "        content = f.read()\n",
    "    contents = content.split(\"\\n\\n\")\n",
    "\n",
    "    if documents_specific is None:\n",
    "        documents_specific = [\n",
    "            Document(\n",
    "                page_content=f\"{endl.join(c.split(endl)[1:])}\",\n",
    "                metadata={\n",
    "                    \"source\": f\"docs/{mapper_reverse[c.split(endl)[0]]}\",\n",
    "                    \"category\": \"specific\",\n",
    "                },\n",
    "            )\n",
    "            for c in contents\n",
    "        ]\n",
    "if documents_general is None:\n",
    "    documents_general = loadDocuments(\n",
    "            source_dir=f\"/home/shanwibo/Capstone-TamTanai/asset/documentation\", chunk_size=10e14, chunk_overlap=0\n",
    "        )\n",
    "    for i in range(len(documents_general)):\n",
    "        documents_general[i].metadata[\"source\"] = (\n",
    "                documents_general[i].metadata[\"source\"].replace(f\"{root_dir}/\", \"\")\n",
    "            )\n",
    "        documents_general[i].metadata[\"category\"] = \"general\"\n",
    "if documents is None:\n",
    "    documents = documents_general + documents_specific"
   ]
  },
  {
   "cell_type": "code",
   "execution_count": 7,
   "id": "7083f2b5-a144-4df9-92ca-cc05ec9b9098",
   "metadata": {},
   "outputs": [
    {
     "data": {
      "text/plain": [
       "Document(metadata={'source': '/home/shanwibo/Capstone-TamTanai/asset/documentation/พระราชบัญญัติเงินทดแทน/พระราชบัญญัติเงินทดแทน_หมวด5.txt', 'category': 'general'}, page_content='พระราชบัญญัติเงินทดแทน (ฉบับที่ 2) พ.ศ. 2561 - หมวด 5 (เงินสมทบ)\\n\\nมาตรา 44  ให้กระทรวงแรงงานประกาศกำหนดประเภทและขนาดของกิจการ และท้องที่ที่นายจ้างต้องจ่ายเงินสมทบ\\nให้นายจ้างซึ่งมีหน้าที่ต้องจ่ายเงินสมทบตามวรรคหนึ่งต้องดำเนินการ ดังต่อไปนี้ ภายในสามสิบวันนับแต่วันที่นายจ้างมีหน้าที่ต้องจ่ายเงินสมทบ\\n(1) ยื่นแบบรายการขึ้นทะเบียนนายจ้าง และ\\n(2) จ่ายเงินสมทบ\\nกรณีข้อเท็จจริงในแบบรายการขึ้นทะเบียนนายจ้างเปลี่ยนแปลงไป ให้นายจ้างแจ้งการเปลี่ยนแปลงภายในวันที่สิบห้าของเดือนถัดจากเดือนที่มีการเปลี่ยนแปลง\\nแบบรายการ วิธีการยื่นแบบรายการ การจ่ายเงินสมทบ และการแจ้งการเปลี่ยนแปลงแบบรายการให้เป็นไปตามที่เลขาธิการประกาศกำหนด\\n\\nมาตรา 45  เพื่อประโยชน์ในการเรียกเก็บเงินสมทบจากนายจ้างตามมาตรา 44 ให้กระทรวงแรงงาน* มีอำนาจประกาศกำหนดอัตราเงินสมทบไม่เกินร้อยละห้าของค่าจ้างที่นายจ้างจ่ายแต่ละปี อัตราเงินฝากสำหรับกรณีที่นายจ้างขอจ่ายเงินสมทบเป็นงวดไม่เกินร้อยละยี่สิบห้าของเงินสมทบแต่ละปี วิธีการประเมินและการเรียกเก็บเงินสมทบจากนายจ้าง ตลอดจนระเบียบวิธีการอันจำเป็นเพื่อให้สำนักงานดำเนินการให้เป็นไปตามวัตถุประสงค์\\nการกำหนดอัตราเงินสมทบตามวรรคหนึ่งให้คำนึงถึงสถิติการประสบอันตรายของแต่ละประเภทกิจการ ภาระของกองทุน และจำนวนเงินของกองทุนที่มีอยู่\\nให้กระทรวงแรงงานมีอำนาจในการประกาศกำหนดหลักเกณฑ์และวิธีการในการลดหรือเพิ่มอัตราเงินสมทบตามวรรคหนึ่งให้แก่นายจ้าง ตามอัตราส่วนการสูญเสียของนายจ้าง \\n\\nมาตรา 46  นายจ้างผู้ใดไม่จ่ายเงินสมทบภายในกำหนดเวลาหรือจ่ายเงินสมทบไม่ครบจำนวนตามที่จะต้องจ่าย ให้เสียเงินเพิ่มอีกร้อยละสองต่อเดือนของเงินสมทบที่ต้องจ่ายนับแต่วันถัดจากวันที่ต้องนำส่งเงินสมทบ  ทั้งนี้ เงินเพิ่มที่คำนวณได้ต้องไม่เกินจำนวนเงินสมทบที่นายจ้างต้องจ่าย\\nในกรณีท้องที่หนึ่งท้องที่ใดประสบปัญหาทางเศรษฐกิจ ประสบภัยพิบัติอย่างร้ายแรงที่ส่งผลกระทบต่อสถานการณ์ทางเศรษฐกิจ หรือมีสถานการณ์ฉุกเฉิน อันเป็นเหตุให้นายจ้างไม่อาจจ่ายเงินสมทบได้ตามกำหนดเวลา ให้รัฐมนตรีตามคำแนะนำของคณะกรรมการมีอำนาจออกประกาศลดการจ่ายเงินเพิ่มตามวรรคหนึ่งในท้องที่นั้นก็ได้\\n\\nมาตรา 47  เลขาธิการมีอำนาจออกคำสั่งเป็นหนังสือให้ยึด อายัด และขายทอดตลาดทรัพย์สินของนายจ้างซึ่งไม่นำส่งเงินสมทบหรือเงินเพิ่ม หรือนำส่งไม่ครบจำนวน\\nการมีคำสั่งให้ยึดหรืออายัดทรัพย์สินตามวรรคหนึ่งจะกระทำได้ต่อเมื่อได้ส่งคำเตือนเป็นหนังสือให้นายจ้างนำเงินสมทบหรือเงินเพิ่มที่ค้างมาจ่ายภายในเวลาที่กำหนดแต่ต้องไม่น้อยกว่าสามสิบวันนับแต่วันที่นายจ้างได้รับหนังสือนั้นและนายจ้างไม่จ่ายภายในเวลาที่กำหนด\\nหลักเกณฑ์และวิธีการยึด อายัด และขายทอดตลาดทรัพย์สินตามวรรคหนึ่ง ให้เป็นไปตามระเบียบที่รัฐมนตรีกำหนด  ทั้งนี้ ให้นำหลักเกณฑ์และวิธีการตามประมวลกฎหมายวิธีพิจารณาความแพ่งมาใช้บังคับโดยอนุโลม\\nเงินที่ได้จากการขายทอดตลาดทรัพย์สิน ให้หักไว้เป็นค่าใช้จ่ายในการยึด อายัด และขายทอดตลาด และจ่ายเงินสมทบหรือเงินเพิ่มที่ค้างจ่าย ถ้ามีเงินเหลือให้คืนแก่นายจ้างโดยเร็วโดยให้เลขาธิการมีหนังสือแจ้งให้นายจ้างทราบเพื่อขอรับเงินที่เหลือคืนโดยส่งทางไปรษณีย์ลงทะเบียนตอบรับ ถ้านายจ้างไม่มาขอรับคืนภายในห้าปีให้ตกเป็นของกองทุน')"
      ]
     },
     "execution_count": 7,
     "metadata": {},
     "output_type": "execute_result"
    }
   ],
   "source": [
    "documents_general[0]"
   ]
  },
  {
   "cell_type": "code",
   "execution_count": 8,
   "id": "90187c28-9105-451b-9239-7bce8e03165a",
   "metadata": {},
   "outputs": [],
   "source": [
    "####สร้าง Dataset ที่ Negative มีเเต่ประมวลกฎหมายอื่น"
   ]
  },
  {
   "cell_type": "code",
   "execution_count": 9,
   "id": "d1bdf483-0c47-44cd-8b68-9073543017e3",
   "metadata": {},
   "outputs": [
    {
     "data": {
      "text/html": [
       "<div>\n",
       "<style scoped>\n",
       "    .dataframe tbody tr th:only-of-type {\n",
       "        vertical-align: middle;\n",
       "    }\n",
       "\n",
       "    .dataframe tbody tr th {\n",
       "        vertical-align: top;\n",
       "    }\n",
       "\n",
       "    .dataframe thead th {\n",
       "        text-align: right;\n",
       "    }\n",
       "</style>\n",
       "<table border=\"1\" class=\"dataframe\">\n",
       "  <thead>\n",
       "    <tr style=\"text-align: right;\">\n",
       "      <th></th>\n",
       "      <th>question</th>\n",
       "      <th>answer</th>\n",
       "      <th>references</th>\n",
       "      <th>source</th>\n",
       "      <th>knowledges</th>\n",
       "    </tr>\n",
       "  </thead>\n",
       "  <tbody>\n",
       "    <tr>\n",
       "      <th>0</th>\n",
       "      <td>ศาลมีอำนาจใดในการพิจารณาคดีเกี่ยวกับยาเสพติดตา...</td>\n",
       "      <td>ศาลมีอำนาจพิจารณาพิพากษาคดีโดยคำนึงถึงการสงเคร...</td>\n",
       "      <td>มาตรา 165 ของประมวลกฎหมายยาเสพติด</td>\n",
       "      <td>ประมวลกฎหมายยาเสพติด/ประมวลกฎหมายยาเสพติด_ภาค3...</td>\n",
       "      <td>ประมวลกฎหมายยาเสพติด - ภาค 3 (บทกำหนดโทษ) - ลั...</td>\n",
       "    </tr>\n",
       "    <tr>\n",
       "      <th>1</th>\n",
       "      <td>เมื่อไหร่ที่สมาคมนายจ้างจะถือว่าเลิก</td>\n",
       "      <td>สมาคมนายจ้างย่อมเลิกด้วยเหตุใดเหตุหนึ่ง ดังต่อ...</td>\n",
       "      <td>มาตรา 82</td>\n",
       "      <td>พระราชบัญญัติแรงงานสัมพันธ์/พระราชบัญญัติแรงงา...</td>\n",
       "      <td>พระราชบัญญัติแรงงานสัมพันธ์ (ฉบับที่ 3) พ.ศ. 2...</td>\n",
       "    </tr>\n",
       "    <tr>\n",
       "      <th>2</th>\n",
       "      <td>การยื่นอุทธรณ์ต้องทำภายในกี่เดือนหลังจากอ่านหร...</td>\n",
       "      <td>ต้องยื่นต่อศาลชั้นต้นในกำหนดหนึ่งเดือน</td>\n",
       "      <td>มาตรา 198 ของประมวลกฎหมายวิธีพิจารณาความอาญา</td>\n",
       "      <td>ประมวลกฎหมายวิธีพิจารณาความอาญา/ประมวลกฎหมายวิ...</td>\n",
       "      <td>ประมวลกฎหมายวิธีพิจารณาความอาญา - ภาค 4 (อุทธร...</td>\n",
       "    </tr>\n",
       "    <tr>\n",
       "      <th>3</th>\n",
       "      <td>ศาลมีอำนาจใดบ้างเกี่ยวกับการรับฟังพยานหลักฐาน?</td>\n",
       "      <td>ศาลมีอำนาจปฏิเสธไม่รับพยานหลักฐานที่รับฟังไม่ไ...</td>\n",
       "      <td>อ้างอิงจากมาตรา 86 ของประมวลกฎหมายวิธีพิจารณาค...</td>\n",
       "      <td>ประมวลกฎหมายวิธีพิจารณาความแพ่ง/ประมวลกฎหมายวิ...</td>\n",
       "      <td>ประมวลกฎหมายวิธีพิจารณาความแพ่ง - ภาค 1 (บททั่...</td>\n",
       "    </tr>\n",
       "    <tr>\n",
       "      <th>4</th>\n",
       "      <td>หากผู้เช่านาต้องการอุทธรณ์คำวินิจฉัยของคณะกรรม...</td>\n",
       "      <td>ผู้เช่านาต้องทำเป็นหนังสือยื่นต่อประธานคณะกรรม...</td>\n",
       "      <td>อ้างอิงจากมาตรา 56 ของพระราชบัญญัติการเช่าที่ด...</td>\n",
       "      <td>พระราชบัญญัติการเช่าที่ดินเพื่อเกษตรกรรม/พระรา...</td>\n",
       "      <td>พระราชบัญญัติการเช่าที่ดินเพื่อเกษตรกรรม พ.ศ. ...</td>\n",
       "    </tr>\n",
       "    <tr>\n",
       "      <th>...</th>\n",
       "      <td>...</td>\n",
       "      <td>...</td>\n",
       "      <td>...</td>\n",
       "      <td>...</td>\n",
       "      <td>...</td>\n",
       "    </tr>\n",
       "    <tr>\n",
       "      <th>4116</th>\n",
       "      <td>เมื่อเจ้าหน้าที่ของรัฐพบว่ามีการกระทำความผิดทา...</td>\n",
       "      <td>เจ้าหน้าที่ของรัฐจะต้องดำเนินการแสวงหาข้อเท็จจ...</td>\n",
       "      <td>มาตรา 19 และ 20 ของพระราชบัญญัติว่าด้วยการปรับ...</td>\n",
       "      <td>พระราชบัญญัติว่าด้วยการปรับเป็นพินัย/พระราชบัญ...</td>\n",
       "      <td>พระราชบัญญัติว่าด้วยการปรับเป็นพินัย พ.ศ. 2565...</td>\n",
       "    </tr>\n",
       "    <tr>\n",
       "      <th>4117</th>\n",
       "      <td>ข้อพิพาทแรงงานหมายถึงอะไรตามพระราชบัญญัติแรงงา...</td>\n",
       "      <td>หมายถึงข้อขัดแย้งระหว่างนายจ้างกับลูกจ้างเกี่ย...</td>\n",
       "      <td>มาตรา 5 ของพระราชบัญญัติแรงงานสัมพันธ์ พ.ศ. 2518</td>\n",
       "      <td>พระราชบัญญัติแรงงานสัมพันธ์/พระราชบัญญัติแรงงา...</td>\n",
       "      <td>พระราชบัญญัติแรงงานสัมพันธ์ พ.ศ. 2518\\n\\nมาตรา...</td>\n",
       "    </tr>\n",
       "    <tr>\n",
       "      <th>4118</th>\n",
       "      <td>หากกรรมการผู้แทนองค์กรลูกจ้างหรือกรรมการผู้ทรง...</td>\n",
       "      <td>ใช่, จะถูกพ้นจากตำแหน่งหากรัฐมนตรีให้ออกเพราะบ...</td>\n",
       "      <td>มาตรา 20 ของพระราชกำหนดการบริหารจัดการการทำงาน...</td>\n",
       "      <td>พระราชกำหนดการบริหารจัดการการทำงานของคนต่างด้า...</td>\n",
       "      <td>พระราชกำหนดการบริหารจัดการการทำงานของคนต่างด้า...</td>\n",
       "    </tr>\n",
       "    <tr>\n",
       "      <th>4119</th>\n",
       "      <td>เมื่อหนี้และสิทธิในการรับหนี้ตกอยู่กับบุคคลเดี...</td>\n",
       "      <td>ตามมาตรา 353 ของประมวลกฎหมายแพ่งและพาณิชย์ หนี...</td>\n",
       "      <td>อ้างอิงจากมาตรา 353 ของประมวลกฎหมายแพ่งและพาณิชย์</td>\n",
       "      <td>ประมวลกฎหมายแพ่งและพาณิชย์/ประมวลกฎหมายแพ่งและ...</td>\n",
       "      <td>ประมวลกฎหมายแพ่งและพาณิชย์ - บรรพ 2 (หนี้) - ล...</td>\n",
       "    </tr>\n",
       "    <tr>\n",
       "      <th>4120</th>\n",
       "      <td>เมื่อทำการค้น มีหลักการใดที่เจ้าพนักงานต้องปฏิ...</td>\n",
       "      <td>เจ้าพนักงานต้องพยายามมิให้มีการเสียหายและกระจั...</td>\n",
       "      <td>มาตรา 99 ของประมวลกฎหมายวิธีพิจารณาความอาญา</td>\n",
       "      <td>ประมวลกฎหมายวิธีพิจารณาความอาญา/ประมวลกฎหมายวิ...</td>\n",
       "      <td>ประมวลกฎหมายวิธีพิจารณาความอาญา - ภาค 1 (ข้อคว...</td>\n",
       "    </tr>\n",
       "  </tbody>\n",
       "</table>\n",
       "<p>4121 rows × 5 columns</p>\n",
       "</div>"
      ],
      "text/plain": [
       "                                               question  \\\n",
       "0     ศาลมีอำนาจใดในการพิจารณาคดีเกี่ยวกับยาเสพติดตา...   \n",
       "1                  เมื่อไหร่ที่สมาคมนายจ้างจะถือว่าเลิก   \n",
       "2     การยื่นอุทธรณ์ต้องทำภายในกี่เดือนหลังจากอ่านหร...   \n",
       "3        ศาลมีอำนาจใดบ้างเกี่ยวกับการรับฟังพยานหลักฐาน?   \n",
       "4     หากผู้เช่านาต้องการอุทธรณ์คำวินิจฉัยของคณะกรรม...   \n",
       "...                                                 ...   \n",
       "4116  เมื่อเจ้าหน้าที่ของรัฐพบว่ามีการกระทำความผิดทา...   \n",
       "4117  ข้อพิพาทแรงงานหมายถึงอะไรตามพระราชบัญญัติแรงงา...   \n",
       "4118  หากกรรมการผู้แทนองค์กรลูกจ้างหรือกรรมการผู้ทรง...   \n",
       "4119  เมื่อหนี้และสิทธิในการรับหนี้ตกอยู่กับบุคคลเดี...   \n",
       "4120  เมื่อทำการค้น มีหลักการใดที่เจ้าพนักงานต้องปฏิ...   \n",
       "\n",
       "                                                 answer  \\\n",
       "0     ศาลมีอำนาจพิจารณาพิพากษาคดีโดยคำนึงถึงการสงเคร...   \n",
       "1     สมาคมนายจ้างย่อมเลิกด้วยเหตุใดเหตุหนึ่ง ดังต่อ...   \n",
       "2                ต้องยื่นต่อศาลชั้นต้นในกำหนดหนึ่งเดือน   \n",
       "3     ศาลมีอำนาจปฏิเสธไม่รับพยานหลักฐานที่รับฟังไม่ไ...   \n",
       "4     ผู้เช่านาต้องทำเป็นหนังสือยื่นต่อประธานคณะกรรม...   \n",
       "...                                                 ...   \n",
       "4116  เจ้าหน้าที่ของรัฐจะต้องดำเนินการแสวงหาข้อเท็จจ...   \n",
       "4117  หมายถึงข้อขัดแย้งระหว่างนายจ้างกับลูกจ้างเกี่ย...   \n",
       "4118  ใช่, จะถูกพ้นจากตำแหน่งหากรัฐมนตรีให้ออกเพราะบ...   \n",
       "4119  ตามมาตรา 353 ของประมวลกฎหมายแพ่งและพาณิชย์ หนี...   \n",
       "4120  เจ้าพนักงานต้องพยายามมิให้มีการเสียหายและกระจั...   \n",
       "\n",
       "                                             references  \\\n",
       "0                     มาตรา 165 ของประมวลกฎหมายยาเสพติด   \n",
       "1                                              มาตรา 82   \n",
       "2          มาตรา 198 ของประมวลกฎหมายวิธีพิจารณาความอาญา   \n",
       "3     อ้างอิงจากมาตรา 86 ของประมวลกฎหมายวิธีพิจารณาค...   \n",
       "4     อ้างอิงจากมาตรา 56 ของพระราชบัญญัติการเช่าที่ด...   \n",
       "...                                                 ...   \n",
       "4116  มาตรา 19 และ 20 ของพระราชบัญญัติว่าด้วยการปรับ...   \n",
       "4117   มาตรา 5 ของพระราชบัญญัติแรงงานสัมพันธ์ พ.ศ. 2518   \n",
       "4118  มาตรา 20 ของพระราชกำหนดการบริหารจัดการการทำงาน...   \n",
       "4119  อ้างอิงจากมาตรา 353 ของประมวลกฎหมายแพ่งและพาณิชย์   \n",
       "4120        มาตรา 99 ของประมวลกฎหมายวิธีพิจารณาความอาญา   \n",
       "\n",
       "                                                 source  \\\n",
       "0     ประมวลกฎหมายยาเสพติด/ประมวลกฎหมายยาเสพติด_ภาค3...   \n",
       "1     พระราชบัญญัติแรงงานสัมพันธ์/พระราชบัญญัติแรงงา...   \n",
       "2     ประมวลกฎหมายวิธีพิจารณาความอาญา/ประมวลกฎหมายวิ...   \n",
       "3     ประมวลกฎหมายวิธีพิจารณาความแพ่ง/ประมวลกฎหมายวิ...   \n",
       "4     พระราชบัญญัติการเช่าที่ดินเพื่อเกษตรกรรม/พระรา...   \n",
       "...                                                 ...   \n",
       "4116  พระราชบัญญัติว่าด้วยการปรับเป็นพินัย/พระราชบัญ...   \n",
       "4117  พระราชบัญญัติแรงงานสัมพันธ์/พระราชบัญญัติแรงงา...   \n",
       "4118  พระราชกำหนดการบริหารจัดการการทำงานของคนต่างด้า...   \n",
       "4119  ประมวลกฎหมายแพ่งและพาณิชย์/ประมวลกฎหมายแพ่งและ...   \n",
       "4120  ประมวลกฎหมายวิธีพิจารณาความอาญา/ประมวลกฎหมายวิ...   \n",
       "\n",
       "                                             knowledges  \n",
       "0     ประมวลกฎหมายยาเสพติด - ภาค 3 (บทกำหนดโทษ) - ลั...  \n",
       "1     พระราชบัญญัติแรงงานสัมพันธ์ (ฉบับที่ 3) พ.ศ. 2...  \n",
       "2     ประมวลกฎหมายวิธีพิจารณาความอาญา - ภาค 4 (อุทธร...  \n",
       "3     ประมวลกฎหมายวิธีพิจารณาความแพ่ง - ภาค 1 (บททั่...  \n",
       "4     พระราชบัญญัติการเช่าที่ดินเพื่อเกษตรกรรม พ.ศ. ...  \n",
       "...                                                 ...  \n",
       "4116  พระราชบัญญัติว่าด้วยการปรับเป็นพินัย พ.ศ. 2565...  \n",
       "4117  พระราชบัญญัติแรงงานสัมพันธ์ พ.ศ. 2518\\n\\nมาตรา...  \n",
       "4118  พระราชกำหนดการบริหารจัดการการทำงานของคนต่างด้า...  \n",
       "4119  ประมวลกฎหมายแพ่งและพาณิชย์ - บรรพ 2 (หนี้) - ล...  \n",
       "4120  ประมวลกฎหมายวิธีพิจารณาความอาญา - ภาค 1 (ข้อคว...  \n",
       "\n",
       "[4121 rows x 5 columns]"
      ]
     },
     "execution_count": 9,
     "metadata": {},
     "output_type": "execute_result"
    }
   ],
   "source": [
    "import pandas as pd\n",
    "df = pd.read_csv(\"../asset/dataset/dataset.csv\")\n",
    "df['source'] = df['source'].str.replace(\"_ตรวจแล้ว/\", \"\", regex=False)\n",
    "df"
   ]
  },
  {
   "cell_type": "code",
   "execution_count": 35,
   "id": "8a891b96-7bc3-4091-b676-8f681bc33324",
   "metadata": {},
   "outputs": [
    {
     "name": "stderr",
     "output_type": "stream",
     "text": [
      "100%|██████████| 4121/4121 [00:58<00:00, 71.04it/s]\n"
     ]
    }
   ],
   "source": [
    "from tqdm import tqdm #ไม่เอาทุกกฏหมายอื่น\n",
    "check = []\n",
    "for i in tqdm(range(len(df))) :\n",
    "  check.append({\"query\": df.iloc[i,0], \"pos\": [documents_general[e].page_content for e in range(len(documents_general)) if df.iloc[i, 3] in documents_general[e].metadata[\"source\"]], \"neg\":[documents_general[e].page_content for e in range(len(documents_general)) if df.iloc[i, 3].split(\"/\")[0] not in documents_general[e].metadata[\"source\"]]})"
   ]
  },
  {
   "cell_type": "code",
   "execution_count": 36,
   "id": "87bc0f54-0357-4377-af15-89c439573109",
   "metadata": {},
   "outputs": [
    {
     "name": "stderr",
     "output_type": "stream",
     "text": [
      "100%|██████████| 4121/4121 [01:17<00:00, 53.42it/s]\n"
     ]
    }
   ],
   "source": [
    "import json\n",
    "from tqdm import tqdm\n",
    "data_name = \"reranker_training_dataset_without_other_law.jsonl\"\n",
    "output_path = f\"/project/lt200301-edubot/Capstone-TamTanai/reranker_training_dataset/{data_name}\"\n",
    "for i in tqdm(range(len(check))) :\n",
    "  with open(output_path, \"a\", encoding='utf-8') as final:\n",
    "      json.dump(check[i], final, ensure_ascii=False)\n",
    "      final.write('\\n')"
   ]
  },
  {
   "cell_type": "code",
   "execution_count": 37,
   "id": "a3e3cefe-b055-4513-8be4-278ce35ce00f",
   "metadata": {},
   "outputs": [],
   "source": [
    "####ไม่เอาเอกสารอื่นทั้งหมด"
   ]
  },
  {
   "cell_type": "code",
   "execution_count": 38,
   "id": "405ee462-c212-4fef-9dd0-5fd2213c8cc1",
   "metadata": {},
   "outputs": [
    {
     "name": "stderr",
     "output_type": "stream",
     "text": [
      "100%|██████████| 4121/4121 [00:56<00:00, 73.01it/s]\n"
     ]
    }
   ],
   "source": [
    "from tqdm import tqdm \n",
    "check = []\n",
    "for i in tqdm(range(len(df))) :\n",
    "  check.append({\"query\": df.iloc[i,0], \"pos\": [documents_general[e].page_content for e in range(len(documents_general)) if df.iloc[i, 3] in documents_general[e].metadata[\"source\"]], \"neg\":[documents_general[e].page_content for e in range(len(documents_general)) if df.iloc[i, 3] not in documents_general[e].metadata[\"source\"]]})"
   ]
  },
  {
   "cell_type": "code",
   "execution_count": 39,
   "id": "2d3426f5-47c7-43bf-901a-2f98a2fda21c",
   "metadata": {},
   "outputs": [
    {
     "name": "stderr",
     "output_type": "stream",
     "text": [
      "100%|██████████| 4121/4121 [01:20<00:00, 51.27it/s]\n"
     ]
    }
   ],
   "source": [
    "import json\n",
    "from tqdm import tqdm\n",
    "data_name = \"reranker_training_dataset_without_other_documents.jsonl\"\n",
    "output_path = f\"/project/lt200301-edubot/Capstone-TamTanai/reranker_training_dataset/{data_name}\"\n",
    "for i in tqdm(range(len(check))) :\n",
    "  with open(output_path, \"a\", encoding='utf-8') as final:\n",
    "      json.dump(check[i], final, ensure_ascii=False)\n",
    "      final.write('\\n')"
   ]
  },
  {
   "cell_type": "code",
   "execution_count": 40,
   "id": "c2a79df2-89a7-463e-91f6-41676aed770c",
   "metadata": {},
   "outputs": [],
   "source": [
    "####เเบบสุ่ม Negative มา n ตัว (สุ่มจากประมวลกฎหมายอื่น)"
   ]
  },
  {
   "cell_type": "code",
   "execution_count": 20,
   "id": "9480bcea-7ee2-4c54-a28b-e30995045226",
   "metadata": {},
   "outputs": [
    {
     "name": "stderr",
     "output_type": "stream",
     "text": [
      "100%|██████████| 4121/4121 [01:02<00:00, 66.07it/s]\n"
     ]
    }
   ],
   "source": [
    "from tqdm import tqdm \n",
    "from transformers import set_seed\n",
    "import random\n",
    "\n",
    "main_seed = 277\n",
    "num = 10\n",
    "check = []\n",
    "\n",
    "for i in tqdm(range(len(df))) :\n",
    "  a = [documents_general[q].page_content for q in range(len(documents_general)) if df.iloc[i, 3].split(\"/\")[0] not in documents_general[q].metadata[\"source\"]]\n",
    "  random.seed(main_seed)\n",
    "  set_seed(main_seed)\n",
    "  random_numbers = [random.randint(0, len(a)-1) for _ in range(num)]\n",
    "  check.append({\"query\": df.iloc[i,0], \"pos\": [documents_general[e].page_content for e in range(len(documents_general)) if df.iloc[i, 3] in documents_general[e].metadata[\"source\"]], \"neg\": [a[m] for m in random_numbers]})"
   ]
  },
  {
   "cell_type": "code",
   "execution_count": 74,
   "id": "c9e432a9-e5b6-4bde-a0d1-6054825ca4d5",
   "metadata": {},
   "outputs": [
    {
     "name": "stderr",
     "output_type": "stream",
     "text": [
      "100%|██████████| 10/10 [00:00<00:00, 66.59it/s]\n"
     ]
    }
   ],
   "source": [
    "from tqdm import tqdm \n",
    "from transformers import set_seed\n",
    "import random\n",
    "\n",
    "main_seed = 277\n",
    "num = 10\n",
    "check = []\n",
    "\n",
    "for i in tqdm(range(10)) :\n",
    "  a = [documents_general[q].page_content for q in range(len(documents_general)) if df.iloc[i, 3].split(\"/\")[0] not in documents_general[q].metadata[\"source\"]]\n",
    "  random.seed(main_seed)\n",
    "  set_seed(main_seed)\n",
    "  random_numbers = [random.randint(0, len(a)-1) for _ in range(num)]\n",
    "  check.append({\"query\": df.iloc[i,0], \"pos\": [documents_general[e].page_content for e in range(len(documents_general)) if df.iloc[i, 3] in documents_general[e].metadata[\"source\"]], \"neg\": [a[m] for m in random_numbers]})"
   ]
  },
  {
   "cell_type": "code",
   "execution_count": 21,
   "id": "882ce77d-4252-44df-a4e5-19af1af83611",
   "metadata": {},
   "outputs": [
    {
     "name": "stderr",
     "output_type": "stream",
     "text": [
      "100%|██████████| 4121/4121 [00:04<00:00, 960.80it/s]\n"
     ]
    }
   ],
   "source": [
    "import json\n",
    "from tqdm import tqdm\n",
    "data_name = \"reranker_training_dataset_with_Negative=10.jsonl\"\n",
    "output_path = f\"/project/lt200301-edubot/Capstone-TamTanai/reranker_training_dataset/{data_name}\"\n",
    "for i in tqdm(range(len(check))) :\n",
    "  with open(output_path, \"a\", encoding='utf-8') as final:\n",
    "      json.dump(check[i], final, ensure_ascii=False)\n",
    "      final.write('\\n')"
   ]
  },
  {
   "cell_type": "markdown",
   "id": "324939f3-8fae-4b61-b82e-8b7942b024d9",
   "metadata": {},
   "source": [
    "# Revised"
   ]
  },
  {
   "cell_type": "code",
   "execution_count": 18,
   "id": "269dfd03-ea58-4aef-b552-f6d018668f50",
   "metadata": {},
   "outputs": [],
   "source": [
    "import os\n",
    "import glob\n",
    "import json\n",
    "import numpy as np\n",
    "import pandas as pd\n",
    "from tqdm import tqdm\n",
    "from sklearn.model_selection import train_test_split\n",
    "\n",
    "tqdm.pandas()\n",
    "\n",
    "import warnings\n",
    "warnings.filterwarnings('ignore')"
   ]
  },
  {
   "cell_type": "code",
   "execution_count": 2,
   "id": "564dd2b9-8603-4dd0-9df7-c1d4fda17a61",
   "metadata": {},
   "outputs": [],
   "source": [
    "seed = 0"
   ]
  },
  {
   "cell_type": "code",
   "execution_count": 3,
   "id": "f3e4eba2-aba3-4044-ba6e-8d863ba581bc",
   "metadata": {},
   "outputs": [],
   "source": [
    "DOCUMENT_PREFIX_DIR = '/home/shanwibo/Capstone-TamTanai/asset/documentation'"
   ]
  },
  {
   "cell_type": "code",
   "execution_count": 4,
   "id": "cb486832-29a3-444d-abc2-52de0d9c2ca8",
   "metadata": {},
   "outputs": [
    {
     "data": {
      "text/html": [
       "<div>\n",
       "<style scoped>\n",
       "    .dataframe tbody tr th:only-of-type {\n",
       "        vertical-align: middle;\n",
       "    }\n",
       "\n",
       "    .dataframe tbody tr th {\n",
       "        vertical-align: top;\n",
       "    }\n",
       "\n",
       "    .dataframe thead th {\n",
       "        text-align: right;\n",
       "    }\n",
       "</style>\n",
       "<table border=\"1\" class=\"dataframe\">\n",
       "  <thead>\n",
       "    <tr style=\"text-align: right;\">\n",
       "      <th></th>\n",
       "      <th>question</th>\n",
       "      <th>answer</th>\n",
       "      <th>references</th>\n",
       "      <th>source</th>\n",
       "      <th>knowledges</th>\n",
       "    </tr>\n",
       "  </thead>\n",
       "  <tbody>\n",
       "    <tr>\n",
       "      <th>0</th>\n",
       "      <td>ศาลมีอำนาจใดในการพิจารณาคดีเกี่ยวกับยาเสพติดตา...</td>\n",
       "      <td>ศาลมีอำนาจพิจารณาพิพากษาคดีโดยคำนึงถึงการสงเคร...</td>\n",
       "      <td>มาตรา 165 ของประมวลกฎหมายยาเสพติด</td>\n",
       "      <td>ประมวลกฎหมายยาเสพติด/ประมวลกฎหมายยาเสพติด_ภาค3...</td>\n",
       "      <td>ประมวลกฎหมายยาเสพติด - ภาค 3 (บทกำหนดโทษ) - ลั...</td>\n",
       "    </tr>\n",
       "    <tr>\n",
       "      <th>1</th>\n",
       "      <td>เมื่อไหร่ที่สมาคมนายจ้างจะถือว่าเลิก</td>\n",
       "      <td>สมาคมนายจ้างย่อมเลิกด้วยเหตุใดเหตุหนึ่ง ดังต่อ...</td>\n",
       "      <td>มาตรา 82</td>\n",
       "      <td>พระราชบัญญัติแรงงานสัมพันธ์/พระราชบัญญัติแรงงา...</td>\n",
       "      <td>พระราชบัญญัติแรงงานสัมพันธ์ (ฉบับที่ 3) พ.ศ. 2...</td>\n",
       "    </tr>\n",
       "    <tr>\n",
       "      <th>2</th>\n",
       "      <td>การยื่นอุทธรณ์ต้องทำภายในกี่เดือนหลังจากอ่านหร...</td>\n",
       "      <td>ต้องยื่นต่อศาลชั้นต้นในกำหนดหนึ่งเดือน</td>\n",
       "      <td>มาตรา 198 ของประมวลกฎหมายวิธีพิจารณาความอาญา</td>\n",
       "      <td>ประมวลกฎหมายวิธีพิจารณาความอาญา/ประมวลกฎหมายวิ...</td>\n",
       "      <td>ประมวลกฎหมายวิธีพิจารณาความอาญา - ภาค 4 (อุทธร...</td>\n",
       "    </tr>\n",
       "    <tr>\n",
       "      <th>3</th>\n",
       "      <td>ศาลมีอำนาจใดบ้างเกี่ยวกับการรับฟังพยานหลักฐาน?</td>\n",
       "      <td>ศาลมีอำนาจปฏิเสธไม่รับพยานหลักฐานที่รับฟังไม่ไ...</td>\n",
       "      <td>อ้างอิงจากมาตรา 86 ของประมวลกฎหมายวิธีพิจารณาค...</td>\n",
       "      <td>ประมวลกฎหมายวิธีพิจารณาความแพ่ง/ประมวลกฎหมายวิ...</td>\n",
       "      <td>ประมวลกฎหมายวิธีพิจารณาความแพ่ง - ภาค 1 (บททั่...</td>\n",
       "    </tr>\n",
       "    <tr>\n",
       "      <th>4</th>\n",
       "      <td>หากผู้เช่านาต้องการอุทธรณ์คำวินิจฉัยของคณะกรรม...</td>\n",
       "      <td>ผู้เช่านาต้องทำเป็นหนังสือยื่นต่อประธานคณะกรรม...</td>\n",
       "      <td>อ้างอิงจากมาตรา 56 ของพระราชบัญญัติการเช่าที่ด...</td>\n",
       "      <td>พระราชบัญญัติการเช่าที่ดินเพื่อเกษตรกรรม/พระรา...</td>\n",
       "      <td>พระราชบัญญัติการเช่าที่ดินเพื่อเกษตรกรรม พ.ศ. ...</td>\n",
       "    </tr>\n",
       "    <tr>\n",
       "      <th>...</th>\n",
       "      <td>...</td>\n",
       "      <td>...</td>\n",
       "      <td>...</td>\n",
       "      <td>...</td>\n",
       "      <td>...</td>\n",
       "    </tr>\n",
       "    <tr>\n",
       "      <th>4116</th>\n",
       "      <td>เมื่อเจ้าหน้าที่ของรัฐพบว่ามีการกระทำความผิดทา...</td>\n",
       "      <td>เจ้าหน้าที่ของรัฐจะต้องดำเนินการแสวงหาข้อเท็จจ...</td>\n",
       "      <td>มาตรา 19 และ 20 ของพระราชบัญญัติว่าด้วยการปรับ...</td>\n",
       "      <td>พระราชบัญญัติว่าด้วยการปรับเป็นพินัย/พระราชบัญ...</td>\n",
       "      <td>พระราชบัญญัติว่าด้วยการปรับเป็นพินัย พ.ศ. 2565...</td>\n",
       "    </tr>\n",
       "    <tr>\n",
       "      <th>4117</th>\n",
       "      <td>ข้อพิพาทแรงงานหมายถึงอะไรตามพระราชบัญญัติแรงงา...</td>\n",
       "      <td>หมายถึงข้อขัดแย้งระหว่างนายจ้างกับลูกจ้างเกี่ย...</td>\n",
       "      <td>มาตรา 5 ของพระราชบัญญัติแรงงานสัมพันธ์ พ.ศ. 2518</td>\n",
       "      <td>พระราชบัญญัติแรงงานสัมพันธ์/พระราชบัญญัติแรงงา...</td>\n",
       "      <td>พระราชบัญญัติแรงงานสัมพันธ์ พ.ศ. 2518\\n\\nมาตรา...</td>\n",
       "    </tr>\n",
       "    <tr>\n",
       "      <th>4118</th>\n",
       "      <td>หากกรรมการผู้แทนองค์กรลูกจ้างหรือกรรมการผู้ทรง...</td>\n",
       "      <td>ใช่, จะถูกพ้นจากตำแหน่งหากรัฐมนตรีให้ออกเพราะบ...</td>\n",
       "      <td>มาตรา 20 ของพระราชกำหนดการบริหารจัดการการทำงาน...</td>\n",
       "      <td>พระราชกำหนดการบริหารจัดการการทำงานของคนต่างด้า...</td>\n",
       "      <td>พระราชกำหนดการบริหารจัดการการทำงานของคนต่างด้า...</td>\n",
       "    </tr>\n",
       "    <tr>\n",
       "      <th>4119</th>\n",
       "      <td>เมื่อหนี้และสิทธิในการรับหนี้ตกอยู่กับบุคคลเดี...</td>\n",
       "      <td>ตามมาตรา 353 ของประมวลกฎหมายแพ่งและพาณิชย์ หนี...</td>\n",
       "      <td>อ้างอิงจากมาตรา 353 ของประมวลกฎหมายแพ่งและพาณิชย์</td>\n",
       "      <td>ประมวลกฎหมายแพ่งและพาณิชย์/ประมวลกฎหมายแพ่งและ...</td>\n",
       "      <td>ประมวลกฎหมายแพ่งและพาณิชย์ - บรรพ 2 (หนี้) - ล...</td>\n",
       "    </tr>\n",
       "    <tr>\n",
       "      <th>4120</th>\n",
       "      <td>เมื่อทำการค้น มีหลักการใดที่เจ้าพนักงานต้องปฏิ...</td>\n",
       "      <td>เจ้าพนักงานต้องพยายามมิให้มีการเสียหายและกระจั...</td>\n",
       "      <td>มาตรา 99 ของประมวลกฎหมายวิธีพิจารณาความอาญา</td>\n",
       "      <td>ประมวลกฎหมายวิธีพิจารณาความอาญา/ประมวลกฎหมายวิ...</td>\n",
       "      <td>ประมวลกฎหมายวิธีพิจารณาความอาญา - ภาค 1 (ข้อคว...</td>\n",
       "    </tr>\n",
       "  </tbody>\n",
       "</table>\n",
       "<p>4121 rows × 5 columns</p>\n",
       "</div>"
      ],
      "text/plain": [
       "                                               question  \\\n",
       "0     ศาลมีอำนาจใดในการพิจารณาคดีเกี่ยวกับยาเสพติดตา...   \n",
       "1                  เมื่อไหร่ที่สมาคมนายจ้างจะถือว่าเลิก   \n",
       "2     การยื่นอุทธรณ์ต้องทำภายในกี่เดือนหลังจากอ่านหร...   \n",
       "3        ศาลมีอำนาจใดบ้างเกี่ยวกับการรับฟังพยานหลักฐาน?   \n",
       "4     หากผู้เช่านาต้องการอุทธรณ์คำวินิจฉัยของคณะกรรม...   \n",
       "...                                                 ...   \n",
       "4116  เมื่อเจ้าหน้าที่ของรัฐพบว่ามีการกระทำความผิดทา...   \n",
       "4117  ข้อพิพาทแรงงานหมายถึงอะไรตามพระราชบัญญัติแรงงา...   \n",
       "4118  หากกรรมการผู้แทนองค์กรลูกจ้างหรือกรรมการผู้ทรง...   \n",
       "4119  เมื่อหนี้และสิทธิในการรับหนี้ตกอยู่กับบุคคลเดี...   \n",
       "4120  เมื่อทำการค้น มีหลักการใดที่เจ้าพนักงานต้องปฏิ...   \n",
       "\n",
       "                                                 answer  \\\n",
       "0     ศาลมีอำนาจพิจารณาพิพากษาคดีโดยคำนึงถึงการสงเคร...   \n",
       "1     สมาคมนายจ้างย่อมเลิกด้วยเหตุใดเหตุหนึ่ง ดังต่อ...   \n",
       "2                ต้องยื่นต่อศาลชั้นต้นในกำหนดหนึ่งเดือน   \n",
       "3     ศาลมีอำนาจปฏิเสธไม่รับพยานหลักฐานที่รับฟังไม่ไ...   \n",
       "4     ผู้เช่านาต้องทำเป็นหนังสือยื่นต่อประธานคณะกรรม...   \n",
       "...                                                 ...   \n",
       "4116  เจ้าหน้าที่ของรัฐจะต้องดำเนินการแสวงหาข้อเท็จจ...   \n",
       "4117  หมายถึงข้อขัดแย้งระหว่างนายจ้างกับลูกจ้างเกี่ย...   \n",
       "4118  ใช่, จะถูกพ้นจากตำแหน่งหากรัฐมนตรีให้ออกเพราะบ...   \n",
       "4119  ตามมาตรา 353 ของประมวลกฎหมายแพ่งและพาณิชย์ หนี...   \n",
       "4120  เจ้าพนักงานต้องพยายามมิให้มีการเสียหายและกระจั...   \n",
       "\n",
       "                                             references  \\\n",
       "0                     มาตรา 165 ของประมวลกฎหมายยาเสพติด   \n",
       "1                                              มาตรา 82   \n",
       "2          มาตรา 198 ของประมวลกฎหมายวิธีพิจารณาความอาญา   \n",
       "3     อ้างอิงจากมาตรา 86 ของประมวลกฎหมายวิธีพิจารณาค...   \n",
       "4     อ้างอิงจากมาตรา 56 ของพระราชบัญญัติการเช่าที่ด...   \n",
       "...                                                 ...   \n",
       "4116  มาตรา 19 และ 20 ของพระราชบัญญัติว่าด้วยการปรับ...   \n",
       "4117   มาตรา 5 ของพระราชบัญญัติแรงงานสัมพันธ์ พ.ศ. 2518   \n",
       "4118  มาตรา 20 ของพระราชกำหนดการบริหารจัดการการทำงาน...   \n",
       "4119  อ้างอิงจากมาตรา 353 ของประมวลกฎหมายแพ่งและพาณิชย์   \n",
       "4120        มาตรา 99 ของประมวลกฎหมายวิธีพิจารณาความอาญา   \n",
       "\n",
       "                                                 source  \\\n",
       "0     ประมวลกฎหมายยาเสพติด/ประมวลกฎหมายยาเสพติด_ภาค3...   \n",
       "1     พระราชบัญญัติแรงงานสัมพันธ์/พระราชบัญญัติแรงงา...   \n",
       "2     ประมวลกฎหมายวิธีพิจารณาความอาญา/ประมวลกฎหมายวิ...   \n",
       "3     ประมวลกฎหมายวิธีพิจารณาความแพ่ง/ประมวลกฎหมายวิ...   \n",
       "4     พระราชบัญญัติการเช่าที่ดินเพื่อเกษตรกรรม/พระรา...   \n",
       "...                                                 ...   \n",
       "4116  พระราชบัญญัติว่าด้วยการปรับเป็นพินัย/พระราชบัญ...   \n",
       "4117  พระราชบัญญัติแรงงานสัมพันธ์/พระราชบัญญัติแรงงา...   \n",
       "4118  พระราชกำหนดการบริหารจัดการการทำงานของคนต่างด้า...   \n",
       "4119  ประมวลกฎหมายแพ่งและพาณิชย์/ประมวลกฎหมายแพ่งและ...   \n",
       "4120  ประมวลกฎหมายวิธีพิจารณาความอาญา/ประมวลกฎหมายวิ...   \n",
       "\n",
       "                                             knowledges  \n",
       "0     ประมวลกฎหมายยาเสพติด - ภาค 3 (บทกำหนดโทษ) - ลั...  \n",
       "1     พระราชบัญญัติแรงงานสัมพันธ์ (ฉบับที่ 3) พ.ศ. 2...  \n",
       "2     ประมวลกฎหมายวิธีพิจารณาความอาญา - ภาค 4 (อุทธร...  \n",
       "3     ประมวลกฎหมายวิธีพิจารณาความแพ่ง - ภาค 1 (บททั่...  \n",
       "4     พระราชบัญญัติการเช่าที่ดินเพื่อเกษตรกรรม พ.ศ. ...  \n",
       "...                                                 ...  \n",
       "4116  พระราชบัญญัติว่าด้วยการปรับเป็นพินัย พ.ศ. 2565...  \n",
       "4117  พระราชบัญญัติแรงงานสัมพันธ์ พ.ศ. 2518\\n\\nมาตรา...  \n",
       "4118  พระราชกำหนดการบริหารจัดการการทำงานของคนต่างด้า...  \n",
       "4119  ประมวลกฎหมายแพ่งและพาณิชย์ - บรรพ 2 (หนี้) - ล...  \n",
       "4120  ประมวลกฎหมายวิธีพิจารณาความอาญา - ภาค 1 (ข้อคว...  \n",
       "\n",
       "[4121 rows x 5 columns]"
      ]
     },
     "execution_count": 4,
     "metadata": {},
     "output_type": "execute_result"
    }
   ],
   "source": [
    "df = pd.read_csv(\"../asset/dataset/dataset.csv\")\n",
    "df['source'] = df['source'].str.replace(\"_ตรวจแล้ว/\", \"\", regex=False)\n",
    "df"
   ]
  },
  {
   "cell_type": "code",
   "execution_count": 5,
   "id": "cf027199-a5e2-4132-a245-c44bce424de2",
   "metadata": {},
   "outputs": [
    {
     "data": {
      "text/html": [
       "<div>\n",
       "<style scoped>\n",
       "    .dataframe tbody tr th:only-of-type {\n",
       "        vertical-align: middle;\n",
       "    }\n",
       "\n",
       "    .dataframe tbody tr th {\n",
       "        vertical-align: top;\n",
       "    }\n",
       "\n",
       "    .dataframe thead th {\n",
       "        text-align: right;\n",
       "    }\n",
       "</style>\n",
       "<table border=\"1\" class=\"dataframe\">\n",
       "  <thead>\n",
       "    <tr style=\"text-align: right;\">\n",
       "      <th></th>\n",
       "      <th>source</th>\n",
       "      <th>content</th>\n",
       "    </tr>\n",
       "  </thead>\n",
       "  <tbody>\n",
       "    <tr>\n",
       "      <th>0</th>\n",
       "      <td>พระราชบัญญัติว่าด้วยการปรับเป็นพินัย/พระราชบัญ...</td>\n",
       "      <td>พระราชบัญญัติว่าด้วยการปรับเป็นพินัย พ.ศ. 2565...</td>\n",
       "    </tr>\n",
       "    <tr>\n",
       "      <th>1</th>\n",
       "      <td>พระราชบัญญัติว่าด้วยการปรับเป็นพินัย/พระราชบัญ...</td>\n",
       "      <td>พระราชบัญญัติว่าด้วยการปรับเป็นพินัย พ.ศ. 2565...</td>\n",
       "    </tr>\n",
       "    <tr>\n",
       "      <th>2</th>\n",
       "      <td>พระราชบัญญัติว่าด้วยการปรับเป็นพินัย/พระราชบัญ...</td>\n",
       "      <td>พระราชบัญญัติว่าด้วยการปรับเป็นพินัย พ.ศ. 2565...</td>\n",
       "    </tr>\n",
       "    <tr>\n",
       "      <th>3</th>\n",
       "      <td>พระราชบัญญัติว่าด้วยการปรับเป็นพินัย/พระราชบัญ...</td>\n",
       "      <td>พระราชบัญญัติว่าด้วยการปรับเป็นพินัย พ.ศ. 2565...</td>\n",
       "    </tr>\n",
       "    <tr>\n",
       "      <th>4</th>\n",
       "      <td>พระราชบัญญัติจราจรทางบก/พระราชบัญญัติจราจรทางบ...</td>\n",
       "      <td>พระราชบัญญัติจราจรทางบก (ฉบับที่ 13) พ.ศ. 2565...</td>\n",
       "    </tr>\n",
       "    <tr>\n",
       "      <th>...</th>\n",
       "      <td>...</td>\n",
       "      <td>...</td>\n",
       "    </tr>\n",
       "    <tr>\n",
       "      <th>562</th>\n",
       "      <td>ประมวลกฎหมายวิธีพิจารณาความแพ่ง/ประมวลกฎหมายวิ...</td>\n",
       "      <td>ประมวลกฎหมายวิธีพิจารณาความแพ่ง - ภาค 4 (วิธีก...</td>\n",
       "    </tr>\n",
       "    <tr>\n",
       "      <th>563</th>\n",
       "      <td>ประมวลกฎหมายวิธีพิจารณาความแพ่ง/ประมวลกฎหมายวิ...</td>\n",
       "      <td>ประมวลกฎหมายวิธีพิจารณาความแพ่ง - ภาค 1 (บททั่...</td>\n",
       "    </tr>\n",
       "    <tr>\n",
       "      <th>564</th>\n",
       "      <td>ประมวลกฎหมายวิธีพิจารณาความแพ่ง/ประมวลกฎหมายวิ...</td>\n",
       "      <td>ประมวลกฎหมายวิธีพิจารณาความแพ่ง - ภาค 2 (วิธีพ...</td>\n",
       "    </tr>\n",
       "    <tr>\n",
       "      <th>565</th>\n",
       "      <td>ประมวลกฎหมายวิธีพิจารณาความแพ่ง/ประมวลกฎหมายวิ...</td>\n",
       "      <td>ประมวลกฎหมายวิธีพิจารณาความแพ่ง - ภาค 1 (บททั่...</td>\n",
       "    </tr>\n",
       "    <tr>\n",
       "      <th>566</th>\n",
       "      <td>ประมวลกฎหมายวิธีพิจารณาความแพ่ง/ประมวลกฎหมายวิ...</td>\n",
       "      <td>ประมวลกฎหมายวิธีพิจารณาความแพ่ง - ภาค 1 (บททั่...</td>\n",
       "    </tr>\n",
       "  </tbody>\n",
       "</table>\n",
       "<p>567 rows × 2 columns</p>\n",
       "</div>"
      ],
      "text/plain": [
       "                                                source  \\\n",
       "0    พระราชบัญญัติว่าด้วยการปรับเป็นพินัย/พระราชบัญ...   \n",
       "1    พระราชบัญญัติว่าด้วยการปรับเป็นพินัย/พระราชบัญ...   \n",
       "2    พระราชบัญญัติว่าด้วยการปรับเป็นพินัย/พระราชบัญ...   \n",
       "3    พระราชบัญญัติว่าด้วยการปรับเป็นพินัย/พระราชบัญ...   \n",
       "4    พระราชบัญญัติจราจรทางบก/พระราชบัญญัติจราจรทางบ...   \n",
       "..                                                 ...   \n",
       "562  ประมวลกฎหมายวิธีพิจารณาความแพ่ง/ประมวลกฎหมายวิ...   \n",
       "563  ประมวลกฎหมายวิธีพิจารณาความแพ่ง/ประมวลกฎหมายวิ...   \n",
       "564  ประมวลกฎหมายวิธีพิจารณาความแพ่ง/ประมวลกฎหมายวิ...   \n",
       "565  ประมวลกฎหมายวิธีพิจารณาความแพ่ง/ประมวลกฎหมายวิ...   \n",
       "566  ประมวลกฎหมายวิธีพิจารณาความแพ่ง/ประมวลกฎหมายวิ...   \n",
       "\n",
       "                                               content  \n",
       "0    พระราชบัญญัติว่าด้วยการปรับเป็นพินัย พ.ศ. 2565...  \n",
       "1    พระราชบัญญัติว่าด้วยการปรับเป็นพินัย พ.ศ. 2565...  \n",
       "2    พระราชบัญญัติว่าด้วยการปรับเป็นพินัย พ.ศ. 2565...  \n",
       "3    พระราชบัญญัติว่าด้วยการปรับเป็นพินัย พ.ศ. 2565...  \n",
       "4    พระราชบัญญัติจราจรทางบก (ฉบับที่ 13) พ.ศ. 2565...  \n",
       "..                                                 ...  \n",
       "562  ประมวลกฎหมายวิธีพิจารณาความแพ่ง - ภาค 4 (วิธีก...  \n",
       "563  ประมวลกฎหมายวิธีพิจารณาความแพ่ง - ภาค 1 (บททั่...  \n",
       "564  ประมวลกฎหมายวิธีพิจารณาความแพ่ง - ภาค 2 (วิธีพ...  \n",
       "565  ประมวลกฎหมายวิธีพิจารณาความแพ่ง - ภาค 1 (บททั่...  \n",
       "566  ประมวลกฎหมายวิธีพิจารณาความแพ่ง - ภาค 1 (บททั่...  \n",
       "\n",
       "[567 rows x 2 columns]"
      ]
     },
     "execution_count": 5,
     "metadata": {},
     "output_type": "execute_result"
    }
   ],
   "source": [
    "document_df = []\n",
    "for document_path in glob.glob(os.path.join(DOCUMENT_PREFIX_DIR, '*/*.txt')):\n",
    "    with open(document_path) as file:\n",
    "        document_df.append({\n",
    "            'source': '/'.join(document_path.split('/')[-2:]),\n",
    "            'content': file.read()\n",
    "        })\n",
    "document_df = pd.DataFrame(document_df)\n",
    "document_df"
   ]
  },
  {
   "cell_type": "markdown",
   "id": "76030cfc-cb54-4050-a22d-1e833d92c911",
   "metadata": {},
   "source": [
    "# เเบบสุ่ม Negative มา n ตัว (สุ่มจากประมวลกฎหมายอื่น)"
   ]
  },
  {
   "cell_type": "markdown",
   "id": "38791a96-5a34-4976-87e6-11b2d81a0568",
   "metadata": {},
   "source": [
    "## 1"
   ]
  },
  {
   "cell_type": "code",
   "execution_count": 17,
   "id": "520fe89b-465a-4dc2-933b-ebbdb14ff570",
   "metadata": {},
   "outputs": [
    {
     "name": "stderr",
     "output_type": "stream",
     "text": [
      "100%|██████████| 4121/4121 [00:02<00:00, 1518.22it/s]\n"
     ]
    }
   ],
   "source": [
    "n_negative = 1\n",
    "np.random.seed(seed)\n",
    "\n",
    "dataset = []\n",
    "for _, row in tqdm(df.iterrows(), total=df.shape[0]):\n",
    "    dataset.append({\n",
    "        'query': row['question'],\n",
    "        'pos': document_df[document_df['source'] == row['source']]['content'].tolist(),\n",
    "        'neg': document_df[document_df['source'] != row['source']].sample(n=n_negative, random_state=seed)['content'].tolist()\n",
    "    })"
   ]
  },
  {
   "cell_type": "code",
   "execution_count": 18,
   "id": "d75d6590-fbcf-4502-a52e-ab9d502131c5",
   "metadata": {},
   "outputs": [
    {
     "name": "stderr",
     "output_type": "stream",
     "text": [
      "100%|██████████| 3296/3296 [00:00<00:00, 8052.26it/s]\n",
      "100%|██████████| 825/825 [00:00<00:00, 8896.18it/s]\n"
     ]
    }
   ],
   "source": [
    "train_dataset, validate_dataset = train_test_split(dataset, test_size=0.2, random_state=seed)\n",
    "\n",
    "dataset_name = f'reranker_training_dataset_with_Negative={n_negative}_train.jsonl'\n",
    "output_path = f'/project/lt200301-edubot/Capstone-TamTanai/reranker_training_dataset/{dataset_name}'\n",
    "with open(output_path, 'w', encoding='utf-8') as file:\n",
    "    for data in tqdm(train_dataset):\n",
    "        json.dump(data, file, ensure_ascii=False)\n",
    "        file.write('\\n')\n",
    "\n",
    "dataset_name = f'reranker_training_dataset_with_Negative={n_negative}_validate.jsonl'\n",
    "output_path = f'/project/lt200301-edubot/Capstone-TamTanai/reranker_training_dataset/{dataset_name}'\n",
    "with open(output_path, 'w', encoding='utf-8') as file:\n",
    "    for data in tqdm(validate_dataset):\n",
    "        json.dump(data, file, ensure_ascii=False)\n",
    "        file.write('\\n')"
   ]
  },
  {
   "cell_type": "markdown",
   "id": "476ed33d-5818-4451-86ba-b3bbc83bf916",
   "metadata": {},
   "source": [
    "## 5"
   ]
  },
  {
   "cell_type": "code",
   "execution_count": 19,
   "id": "97034ba4-2659-4d21-9892-c28814db5ca2",
   "metadata": {},
   "outputs": [
    {
     "name": "stderr",
     "output_type": "stream",
     "text": [
      "100%|██████████| 4121/4121 [00:02<00:00, 1505.92it/s]\n"
     ]
    }
   ],
   "source": [
    "n_negative = 5\n",
    "np.random.seed(seed)\n",
    "\n",
    "dataset = []\n",
    "for _, row in tqdm(df.iterrows(), total=df.shape[0]):\n",
    "    dataset.append({\n",
    "        'query': row['question'],\n",
    "        'pos': document_df[document_df['source'] == row['source']]['content'].tolist(),\n",
    "        'neg': document_df[document_df['source'] != row['source']].sample(n=n_negative, random_state=seed)['content'].tolist()\n",
    "    })"
   ]
  },
  {
   "cell_type": "code",
   "execution_count": 20,
   "id": "99f68db4-97b8-43e2-8dde-afe4b2862e64",
   "metadata": {},
   "outputs": [
    {
     "name": "stderr",
     "output_type": "stream",
     "text": [
      "100%|██████████| 3296/3296 [00:00<00:00, 3600.69it/s]\n",
      "100%|██████████| 825/825 [00:00<00:00, 3692.99it/s]\n"
     ]
    }
   ],
   "source": [
    "train_dataset, validate_dataset = train_test_split(dataset, test_size=0.2, random_state=seed)\n",
    "\n",
    "dataset_name = f'reranker_training_dataset_with_Negative={n_negative}_train.jsonl'\n",
    "output_path = f'/project/lt200301-edubot/Capstone-TamTanai/reranker_training_dataset/{dataset_name}'\n",
    "with open(output_path, 'w', encoding='utf-8') as file:\n",
    "    for data in tqdm(train_dataset):\n",
    "        json.dump(data, file, ensure_ascii=False)\n",
    "        file.write('\\n')\n",
    "\n",
    "dataset_name = f'reranker_training_dataset_with_Negative={n_negative}_validate.jsonl'\n",
    "output_path = f'/project/lt200301-edubot/Capstone-TamTanai/reranker_training_dataset/{dataset_name}'\n",
    "with open(output_path, 'w', encoding='utf-8') as file:\n",
    "    for data in tqdm(validate_dataset):\n",
    "        json.dump(data, file, ensure_ascii=False)\n",
    "        file.write('\\n')"
   ]
  },
  {
   "cell_type": "markdown",
   "id": "43b669a2-9ff8-4b43-bb4c-7144138d07bf",
   "metadata": {},
   "source": [
    "## 10"
   ]
  },
  {
   "cell_type": "code",
   "execution_count": 21,
   "id": "061f7a2e-71a1-4b8c-90d4-520ea96a908d",
   "metadata": {},
   "outputs": [
    {
     "name": "stderr",
     "output_type": "stream",
     "text": [
      "100%|██████████| 4121/4121 [00:02<00:00, 1511.21it/s]\n"
     ]
    }
   ],
   "source": [
    "n_negative = 10\n",
    "np.random.seed(seed)\n",
    "\n",
    "dataset = []\n",
    "for _, row in tqdm(df.iterrows(), total=df.shape[0]):\n",
    "    dataset.append({\n",
    "        'query': row['question'],\n",
    "        'pos': document_df[document_df['source'] == row['source']]['content'].tolist(),\n",
    "        'neg': document_df[document_df['source'] != row['source']].sample(n=n_negative, random_state=seed)['content'].tolist()\n",
    "    })"
   ]
  },
  {
   "cell_type": "code",
   "execution_count": 22,
   "id": "5294a203-d412-485c-aa1f-ace8e0808411",
   "metadata": {},
   "outputs": [
    {
     "name": "stderr",
     "output_type": "stream",
     "text": [
      "100%|██████████| 3296/3296 [00:01<00:00, 2823.16it/s]\n",
      "100%|██████████| 825/825 [00:00<00:00, 2932.72it/s]\n"
     ]
    }
   ],
   "source": [
    "train_dataset, validate_dataset = train_test_split(dataset, test_size=0.2, random_state=seed)\n",
    "\n",
    "dataset_name = f'reranker_training_dataset_with_Negative={n_negative}_train.jsonl'\n",
    "output_path = f'/project/lt200301-edubot/Capstone-TamTanai/reranker_training_dataset/{dataset_name}'\n",
    "with open(output_path, 'w', encoding='utf-8') as file:\n",
    "    for data in tqdm(train_dataset):\n",
    "        json.dump(data, file, ensure_ascii=False)\n",
    "        file.write('\\n')\n",
    "\n",
    "dataset_name = f'reranker_training_dataset_with_Negative={n_negative}_validate.jsonl'\n",
    "output_path = f'/project/lt200301-edubot/Capstone-TamTanai/reranker_training_dataset/{dataset_name}'\n",
    "with open(output_path, 'w', encoding='utf-8') as file:\n",
    "    for data in tqdm(validate_dataset):\n",
    "        json.dump(data, file, ensure_ascii=False)\n",
    "        file.write('\\n')"
   ]
  },
  {
   "cell_type": "markdown",
   "id": "596e2512-1fba-4a3f-8ac8-fba93b3d500c",
   "metadata": {},
   "source": [
    "# เลือก n ตัวจาก similarity score"
   ]
  },
  {
   "cell_type": "code",
   "execution_count": 22,
   "id": "977815c4-2326-45c0-8adf-a679ff656723",
   "metadata": {},
   "outputs": [],
   "source": [
    "from langchain.embeddings import HuggingFaceEmbeddings\n",
    "from sklearn.metrics.pairwise import cosine_similarity"
   ]
  },
  {
   "cell_type": "code",
   "execution_count": 23,
   "id": "403f794b-df77-4aa7-917e-b484e9fe774b",
   "metadata": {},
   "outputs": [
    {
     "name": "stderr",
     "output_type": "stream",
     "text": [
      "/tmp/ipykernel_1180/863869584.py:1: LangChainDeprecationWarning: The class `HuggingFaceEmbeddings` was deprecated in LangChain 0.2.2 and will be removed in 1.0. An updated version of the class exists in the langchain-huggingface package and should be used instead. To use it run `pip install -U langchain-huggingface` and import as `from langchain_huggingface import HuggingFaceEmbeddings`.\n",
      "  embeddings = HuggingFaceEmbeddings(model_name='/project/lt200301-edubot/Capstone-TamTanai/models/multilingual-e5-large',\n"
     ]
    }
   ],
   "source": [
    "embeddings = HuggingFaceEmbeddings(model_name='/project/lt200301-edubot/Capstone-TamTanai/models/multilingual-e5-large',\n",
    "                                   model_kwargs={\"device\": 'cuda'})"
   ]
  },
  {
   "cell_type": "code",
   "execution_count": 24,
   "id": "63d93c59-2f1f-4689-9979-0d898a379c9f",
   "metadata": {},
   "outputs": [
    {
     "name": "stderr",
     "output_type": "stream",
     "text": [
      "100%|██████████| 567/567 [00:21<00:00, 26.43it/s]\n"
     ]
    },
    {
     "data": {
      "text/html": [
       "<div>\n",
       "<style scoped>\n",
       "    .dataframe tbody tr th:only-of-type {\n",
       "        vertical-align: middle;\n",
       "    }\n",
       "\n",
       "    .dataframe tbody tr th {\n",
       "        vertical-align: top;\n",
       "    }\n",
       "\n",
       "    .dataframe thead th {\n",
       "        text-align: right;\n",
       "    }\n",
       "</style>\n",
       "<table border=\"1\" class=\"dataframe\">\n",
       "  <thead>\n",
       "    <tr style=\"text-align: right;\">\n",
       "      <th></th>\n",
       "      <th>source</th>\n",
       "      <th>content</th>\n",
       "      <th>embedding_vector</th>\n",
       "    </tr>\n",
       "  </thead>\n",
       "  <tbody>\n",
       "    <tr>\n",
       "      <th>0</th>\n",
       "      <td>พระราชบัญญัติว่าด้วยการปรับเป็นพินัย/พระราชบัญ...</td>\n",
       "      <td>พระราชบัญญัติว่าด้วยการปรับเป็นพินัย พ.ศ. 2565...</td>\n",
       "      <td>[0.006689948961138725, 0.01954878680408001, 0....</td>\n",
       "    </tr>\n",
       "    <tr>\n",
       "      <th>1</th>\n",
       "      <td>พระราชบัญญัติว่าด้วยการปรับเป็นพินัย/พระราชบัญ...</td>\n",
       "      <td>พระราชบัญญัติว่าด้วยการปรับเป็นพินัย พ.ศ. 2565...</td>\n",
       "      <td>[0.015548941679298878, 0.011010197922587395, 0...</td>\n",
       "    </tr>\n",
       "    <tr>\n",
       "      <th>2</th>\n",
       "      <td>พระราชบัญญัติว่าด้วยการปรับเป็นพินัย/พระราชบัญ...</td>\n",
       "      <td>พระราชบัญญัติว่าด้วยการปรับเป็นพินัย พ.ศ. 2565...</td>\n",
       "      <td>[0.009028371423482895, 0.016535772010684013, 0...</td>\n",
       "    </tr>\n",
       "    <tr>\n",
       "      <th>3</th>\n",
       "      <td>พระราชบัญญัติว่าด้วยการปรับเป็นพินัย/พระราชบัญ...</td>\n",
       "      <td>พระราชบัญญัติว่าด้วยการปรับเป็นพินัย พ.ศ. 2565...</td>\n",
       "      <td>[0.01804278790950775, 0.01859115995466709, 0.0...</td>\n",
       "    </tr>\n",
       "    <tr>\n",
       "      <th>4</th>\n",
       "      <td>พระราชบัญญัติจราจรทางบก/พระราชบัญญัติจราจรทางบ...</td>\n",
       "      <td>พระราชบัญญัติจราจรทางบก (ฉบับที่ 13) พ.ศ. 2565...</td>\n",
       "      <td>[0.05025724321603775, -0.002424475969746709, 0...</td>\n",
       "    </tr>\n",
       "    <tr>\n",
       "      <th>...</th>\n",
       "      <td>...</td>\n",
       "      <td>...</td>\n",
       "      <td>...</td>\n",
       "    </tr>\n",
       "    <tr>\n",
       "      <th>562</th>\n",
       "      <td>ประมวลกฎหมายวิธีพิจารณาความแพ่ง/ประมวลกฎหมายวิ...</td>\n",
       "      <td>ประมวลกฎหมายวิธีพิจารณาความแพ่ง - ภาค 4 (วิธีก...</td>\n",
       "      <td>[0.01567177101969719, 0.017037099227309227, 0....</td>\n",
       "    </tr>\n",
       "    <tr>\n",
       "      <th>563</th>\n",
       "      <td>ประมวลกฎหมายวิธีพิจารณาความแพ่ง/ประมวลกฎหมายวิ...</td>\n",
       "      <td>ประมวลกฎหมายวิธีพิจารณาความแพ่ง - ภาค 1 (บททั่...</td>\n",
       "      <td>[0.0330001562833786, 0.012760871089994907, 0.0...</td>\n",
       "    </tr>\n",
       "    <tr>\n",
       "      <th>564</th>\n",
       "      <td>ประมวลกฎหมายวิธีพิจารณาความแพ่ง/ประมวลกฎหมายวิ...</td>\n",
       "      <td>ประมวลกฎหมายวิธีพิจารณาความแพ่ง - ภาค 2 (วิธีพ...</td>\n",
       "      <td>[0.02422294206917286, -0.0014266790822148323, ...</td>\n",
       "    </tr>\n",
       "    <tr>\n",
       "      <th>565</th>\n",
       "      <td>ประมวลกฎหมายวิธีพิจารณาความแพ่ง/ประมวลกฎหมายวิ...</td>\n",
       "      <td>ประมวลกฎหมายวิธีพิจารณาความแพ่ง - ภาค 1 (บททั่...</td>\n",
       "      <td>[0.013988050632178783, 0.013145809061825275, 0...</td>\n",
       "    </tr>\n",
       "    <tr>\n",
       "      <th>566</th>\n",
       "      <td>ประมวลกฎหมายวิธีพิจารณาความแพ่ง/ประมวลกฎหมายวิ...</td>\n",
       "      <td>ประมวลกฎหมายวิธีพิจารณาความแพ่ง - ภาค 1 (บททั่...</td>\n",
       "      <td>[0.031997352838516235, 0.013832829892635345, -...</td>\n",
       "    </tr>\n",
       "  </tbody>\n",
       "</table>\n",
       "<p>567 rows × 3 columns</p>\n",
       "</div>"
      ],
      "text/plain": [
       "                                                source  \\\n",
       "0    พระราชบัญญัติว่าด้วยการปรับเป็นพินัย/พระราชบัญ...   \n",
       "1    พระราชบัญญัติว่าด้วยการปรับเป็นพินัย/พระราชบัญ...   \n",
       "2    พระราชบัญญัติว่าด้วยการปรับเป็นพินัย/พระราชบัญ...   \n",
       "3    พระราชบัญญัติว่าด้วยการปรับเป็นพินัย/พระราชบัญ...   \n",
       "4    พระราชบัญญัติจราจรทางบก/พระราชบัญญัติจราจรทางบ...   \n",
       "..                                                 ...   \n",
       "562  ประมวลกฎหมายวิธีพิจารณาความแพ่ง/ประมวลกฎหมายวิ...   \n",
       "563  ประมวลกฎหมายวิธีพิจารณาความแพ่ง/ประมวลกฎหมายวิ...   \n",
       "564  ประมวลกฎหมายวิธีพิจารณาความแพ่ง/ประมวลกฎหมายวิ...   \n",
       "565  ประมวลกฎหมายวิธีพิจารณาความแพ่ง/ประมวลกฎหมายวิ...   \n",
       "566  ประมวลกฎหมายวิธีพิจารณาความแพ่ง/ประมวลกฎหมายวิ...   \n",
       "\n",
       "                                               content  \\\n",
       "0    พระราชบัญญัติว่าด้วยการปรับเป็นพินัย พ.ศ. 2565...   \n",
       "1    พระราชบัญญัติว่าด้วยการปรับเป็นพินัย พ.ศ. 2565...   \n",
       "2    พระราชบัญญัติว่าด้วยการปรับเป็นพินัย พ.ศ. 2565...   \n",
       "3    พระราชบัญญัติว่าด้วยการปรับเป็นพินัย พ.ศ. 2565...   \n",
       "4    พระราชบัญญัติจราจรทางบก (ฉบับที่ 13) พ.ศ. 2565...   \n",
       "..                                                 ...   \n",
       "562  ประมวลกฎหมายวิธีพิจารณาความแพ่ง - ภาค 4 (วิธีก...   \n",
       "563  ประมวลกฎหมายวิธีพิจารณาความแพ่ง - ภาค 1 (บททั่...   \n",
       "564  ประมวลกฎหมายวิธีพิจารณาความแพ่ง - ภาค 2 (วิธีพ...   \n",
       "565  ประมวลกฎหมายวิธีพิจารณาความแพ่ง - ภาค 1 (บททั่...   \n",
       "566  ประมวลกฎหมายวิธีพิจารณาความแพ่ง - ภาค 1 (บททั่...   \n",
       "\n",
       "                                      embedding_vector  \n",
       "0    [0.006689948961138725, 0.01954878680408001, 0....  \n",
       "1    [0.015548941679298878, 0.011010197922587395, 0...  \n",
       "2    [0.009028371423482895, 0.016535772010684013, 0...  \n",
       "3    [0.01804278790950775, 0.01859115995466709, 0.0...  \n",
       "4    [0.05025724321603775, -0.002424475969746709, 0...  \n",
       "..                                                 ...  \n",
       "562  [0.01567177101969719, 0.017037099227309227, 0....  \n",
       "563  [0.0330001562833786, 0.012760871089994907, 0.0...  \n",
       "564  [0.02422294206917286, -0.0014266790822148323, ...  \n",
       "565  [0.013988050632178783, 0.013145809061825275, 0...  \n",
       "566  [0.031997352838516235, 0.013832829892635345, -...  \n",
       "\n",
       "[567 rows x 3 columns]"
      ]
     },
     "execution_count": 24,
     "metadata": {},
     "output_type": "execute_result"
    }
   ],
   "source": [
    "document_df['embedding_vector'] = document_df['content'].progress_apply(embeddings.embed_query)\n",
    "document_df"
   ]
  },
  {
   "cell_type": "code",
   "execution_count": 25,
   "id": "f591df98-65ff-4d1b-a536-9377149a857d",
   "metadata": {},
   "outputs": [],
   "source": [
    "def query_top_n_similar_documents(question, n, document_df=document_df, source=None):\n",
    "    if source:\n",
    "        filtered_document_df = document_df.query('source != @source')\n",
    "    else:\n",
    "        filtered_document_df = document_df.copy()\n",
    "    question_embedding_vector = embeddings.embed_query(question)\n",
    "    similarity_scores = cosine_similarity([question_embedding_vector], filtered_document_df['embedding_vector'].tolist())[0]\n",
    "    return filtered_document_df.iloc[similarity_scores.argsort()[-n:][::-1]]['content'].tolist()\n",
    "\n",
    "\n",
    "def multithread_query_top_n_similar_documents(question, n, document_df=document_df, source=None):\n",
    "    similar_documents = query_top_n_similar_documents(question=question, n=n, document_df=document_df, source=source)\n",
    "    return {\n",
    "        'query': question,\n",
    "        'pos': document_df[document_df['source'] == source]['content'].tolist(),\n",
    "        'neg': similar_documents\n",
    "    }"
   ]
  },
  {
   "cell_type": "code",
   "execution_count": 26,
   "id": "39a3d17a-9b23-4fe3-b2e8-ef8f3c769247",
   "metadata": {},
   "outputs": [],
   "source": [
    "from concurrent.futures import ThreadPoolExecutor\n",
    "from itertools import repeat"
   ]
  },
  {
   "cell_type": "markdown",
   "id": "f9137385-b1e4-464b-8aa8-d8fcb860d7af",
   "metadata": {},
   "source": [
    "## 5"
   ]
  },
  {
   "cell_type": "code",
   "execution_count": 73,
   "id": "c603d2b7-ee34-4f6f-9c92-6743bf895c1e",
   "metadata": {},
   "outputs": [
    {
     "name": "stderr",
     "output_type": "stream",
     "text": [
      "100%|██████████| 4121/4121 [03:04<00:00, 22.32it/s]\n"
     ]
    }
   ],
   "source": [
    "n_negative = 5\n",
    "\n",
    "dataset = []\n",
    "for _, row in tqdm(df.iterrows(), total=df.shape[0]):\n",
    "    dataset.append({\n",
    "        'query': row['question'],\n",
    "        'pos': document_df[document_df['source'] == row['source']]['content'].tolist(),\n",
    "        'neg': query_top_n_similar_documents(question=row['question'], n=n_negative, source=row['source'])\n",
    "    })"
   ]
  },
  {
   "cell_type": "code",
   "execution_count": 74,
   "id": "9780e58a-7d63-43ad-b37f-1e8bc2b2b932",
   "metadata": {},
   "outputs": [
    {
     "name": "stderr",
     "output_type": "stream",
     "text": [
      "100%|██████████| 3296/3296 [00:00<00:00, 4851.07it/s]\n",
      "100%|██████████| 825/825 [00:00<00:00, 4959.34it/s]\n"
     ]
    }
   ],
   "source": [
    "train_dataset, validate_dataset = train_test_split(dataset, test_size=0.2, random_state=seed)\n",
    "\n",
    "dataset_name = f'reranker_training_dataset_with_similar={n_negative}_train.jsonl'\n",
    "output_path = f'/project/lt200301-edubot/Capstone-TamTanai/reranker_training_dataset/{dataset_name}'\n",
    "with open(output_path, 'w', encoding='utf-8') as file:\n",
    "    for data in tqdm(train_dataset):\n",
    "        json.dump(data, file, ensure_ascii=False)\n",
    "        file.write('\\n')\n",
    "\n",
    "dataset_name = f'reranker_training_dataset_with_similar={n_negative}_validate.jsonl'\n",
    "output_path = f'/project/lt200301-edubot/Capstone-TamTanai/reranker_training_dataset/{dataset_name}'\n",
    "with open(output_path, 'w', encoding='utf-8') as file:\n",
    "    for data in tqdm(validate_dataset):\n",
    "        json.dump(data, file, ensure_ascii=False)\n",
    "        file.write('\\n')"
   ]
  },
  {
   "cell_type": "markdown",
   "id": "2a9959fb-fc65-4aa8-9879-b1bb2f47b4a7",
   "metadata": {},
   "source": [
    "## 10"
   ]
  },
  {
   "cell_type": "code",
   "execution_count": 82,
   "id": "7f9f8c52-2148-4eb6-af52-537b63fdb7c0",
   "metadata": {},
   "outputs": [
    {
     "name": "stderr",
     "output_type": "stream",
     "text": [
      "100%|██████████| 4121/4121 [03:16<00:00, 21.01it/s]\n"
     ]
    }
   ],
   "source": [
    "n_negative = 10\n",
    "\n",
    "dataset = []\n",
    "with ThreadPoolExecutor(max_workers=20) as executor:\n",
    "    for data in tqdm(executor.map(multithread_query_top_n_similar_documents, df['question'], repeat(n_negative),\n",
    "                                  repeat(document_df), df['source']), total=df.shape[0]):\n",
    "        dataset.append(data)"
   ]
  },
  {
   "cell_type": "code",
   "execution_count": 83,
   "id": "6a6d656c-52b3-4652-b03f-883b931b3163",
   "metadata": {},
   "outputs": [
    {
     "name": "stderr",
     "output_type": "stream",
     "text": [
      "100%|██████████| 3296/3296 [00:01<00:00, 2736.85it/s]\n",
      "100%|██████████| 825/825 [00:00<00:00, 2828.48it/s]\n"
     ]
    }
   ],
   "source": [
    "train_dataset, validate_dataset = train_test_split(dataset, test_size=0.2, random_state=seed)\n",
    "\n",
    "dataset_name = f'reranker_training_dataset_with_similar={n_negative}_train.jsonl'\n",
    "output_path = f'/project/lt200301-edubot/Capstone-TamTanai/reranker_training_dataset/{dataset_name}'\n",
    "with open(output_path, 'w', encoding='utf-8') as file:\n",
    "    for data in tqdm(train_dataset):\n",
    "        json.dump(data, file, ensure_ascii=False)\n",
    "        file.write('\\n')\n",
    "\n",
    "dataset_name = f'reranker_training_dataset_with_similar={n_negative}_validate.jsonl'\n",
    "output_path = f'/project/lt200301-edubot/Capstone-TamTanai/reranker_training_dataset/{dataset_name}'\n",
    "with open(output_path, 'w', encoding='utf-8') as file:\n",
    "    for data in tqdm(validate_dataset):\n",
    "        json.dump(data, file, ensure_ascii=False)\n",
    "        file.write('\\n')"
   ]
  },
  {
   "cell_type": "markdown",
   "id": "e076cbfa-aa94-42bc-8930-1ee422bb9dbd",
   "metadata": {},
   "source": [
    "## 20"
   ]
  },
  {
   "cell_type": "code",
   "execution_count": 84,
   "id": "0ae4336e-5cd5-4a3b-a7b6-b4adebe47eed",
   "metadata": {},
   "outputs": [
    {
     "name": "stderr",
     "output_type": "stream",
     "text": [
      "100%|██████████| 4121/4121 [03:08<00:00, 21.85it/s]\n"
     ]
    }
   ],
   "source": [
    "n_negative = 20\n",
    "\n",
    "dataset = []\n",
    "with ThreadPoolExecutor(max_workers=5) as executor:\n",
    "    for data in tqdm(executor.map(multithread_query_top_n_similar_documents, df['question'], repeat(n_negative),\n",
    "                                  repeat(document_df), df['source']), total=df.shape[0]):\n",
    "        dataset.append(data)"
   ]
  },
  {
   "cell_type": "code",
   "execution_count": 85,
   "id": "3c62a7c2-321c-4ffd-9c49-c63822d19b7d",
   "metadata": {},
   "outputs": [
    {
     "name": "stderr",
     "output_type": "stream",
     "text": [
      "100%|██████████| 3296/3296 [00:02<00:00, 1503.95it/s]\n",
      "100%|██████████| 825/825 [00:00<00:00, 1519.71it/s]\n"
     ]
    }
   ],
   "source": [
    "train_dataset, validate_dataset = train_test_split(dataset, test_size=0.2, random_state=seed)\n",
    "\n",
    "dataset_name = f'reranker_training_dataset_with_similar={n_negative}_train.jsonl'\n",
    "output_path = f'/project/lt200301-edubot/Capstone-TamTanai/reranker_training_dataset/{dataset_name}'\n",
    "with open(output_path, 'w', encoding='utf-8') as file:\n",
    "    for data in tqdm(train_dataset):\n",
    "        json.dump(data, file, ensure_ascii=False)\n",
    "        file.write('\\n')\n",
    "\n",
    "dataset_name = f'reranker_training_dataset_with_similar={n_negative}_validate.jsonl'\n",
    "output_path = f'/project/lt200301-edubot/Capstone-TamTanai/reranker_training_dataset/{dataset_name}'\n",
    "with open(output_path, 'w', encoding='utf-8') as file:\n",
    "    for data in tqdm(validate_dataset):\n",
    "        json.dump(data, file, ensure_ascii=False)\n",
    "        file.write('\\n')"
   ]
  },
  {
   "cell_type": "markdown",
   "id": "9ba1bbed-44da-498c-8480-15fa0f3de1c8",
   "metadata": {},
   "source": [
    "## 50"
   ]
  },
  {
   "cell_type": "code",
   "execution_count": 86,
   "id": "7f6debc9-1dc7-4e96-ba3f-d3aff5275fee",
   "metadata": {},
   "outputs": [
    {
     "name": "stderr",
     "output_type": "stream",
     "text": [
      "100%|██████████| 4121/4121 [03:00<00:00, 22.79it/s]\n"
     ]
    }
   ],
   "source": [
    "n_negative = 50\n",
    "\n",
    "dataset = []\n",
    "with ThreadPoolExecutor(max_workers=2) as executor:\n",
    "    for data in tqdm(executor.map(multithread_query_top_n_similar_documents, df['question'], repeat(n_negative),\n",
    "                                  repeat(document_df), df['source']), total=df.shape[0]):\n",
    "        dataset.append(data)"
   ]
  },
  {
   "cell_type": "code",
   "execution_count": 87,
   "id": "c13bbf55-0a53-4cea-bb8d-e623eb541645",
   "metadata": {},
   "outputs": [
    {
     "name": "stderr",
     "output_type": "stream",
     "text": [
      "100%|██████████| 3296/3296 [00:05<00:00, 593.98it/s]\n",
      "100%|██████████| 825/825 [00:01<00:00, 633.78it/s]\n"
     ]
    }
   ],
   "source": [
    "train_dataset, validate_dataset = train_test_split(dataset, test_size=0.2, random_state=seed)\n",
    "\n",
    "dataset_name = f'reranker_training_dataset_with_similar={n_negative}_train.jsonl'\n",
    "output_path = f'/project/lt200301-edubot/Capstone-TamTanai/reranker_training_dataset/{dataset_name}'\n",
    "with open(output_path, 'w', encoding='utf-8') as file:\n",
    "    for data in tqdm(train_dataset):\n",
    "        json.dump(data, file, ensure_ascii=False)\n",
    "        file.write('\\n')\n",
    "\n",
    "dataset_name = f'reranker_training_dataset_with_similar={n_negative}_validate.jsonl'\n",
    "output_path = f'/project/lt200301-edubot/Capstone-TamTanai/reranker_training_dataset/{dataset_name}'\n",
    "with open(output_path, 'w', encoding='utf-8') as file:\n",
    "    for data in tqdm(validate_dataset):\n",
    "        json.dump(data, file, ensure_ascii=False)\n",
    "        file.write('\\n')"
   ]
  },
  {
   "cell_type": "markdown",
   "id": "b1441235-271b-49ff-b31e-8ee53e948f3f",
   "metadata": {},
   "source": [
    "# เลือก n ตัวจาก similarity score และ keyword search"
   ]
  },
  {
   "cell_type": "code",
   "execution_count": 6,
   "id": "4d1e50f4-6f4f-4b91-ac26-d0a2ce8f80ea",
   "metadata": {},
   "outputs": [
    {
     "name": "stderr",
     "output_type": "stream",
     "text": [
      "[nltk_data] Error loading stopwords: <urlopen error [Errno 101]\n",
      "[nltk_data]     Network is unreachable>\n"
     ]
    }
   ],
   "source": [
    "from pythainlp import word_tokenize, pos_tag\n",
    "from pythainlp.corpus.common import thai_stopwords\n",
    "import nltk\n",
    "from nltk.corpus import stopwords\n",
    "import re\n",
    "\n",
    "\n",
    "if os.name != \"nt\":\n",
    "    os.environ[\"TOKENIZERS_PARALLELISM\"] = \"false\"\n",
    "\n",
    "\n",
    "key_tags = [\"NCMN\", \"NCNM\", \"NPRP\", \"NONM\", \"NLBL\", \"NTTL\"]\n",
    "\n",
    "thaistopwords = list(thai_stopwords())\n",
    "nltk.download(\"stopwords\")\n",
    "\n",
    "\n",
    "def remove_stopwords(text):\n",
    "    res = [\n",
    "        word.lower()\n",
    "        for word in text\n",
    "        if (word not in thaistopwords and word not in stopwords.words())\n",
    "    ]\n",
    "    return res\n",
    "\n",
    "\n",
    "def keyword_search(question, idf):\n",
    "    tokens = word_tokenize(question, engine=\"newmm\", keep_whitespace=False)\n",
    "    pos_tags = pos_tag(tokens)\n",
    "    noun_pos_tags = []\n",
    "    for e in pos_tags:\n",
    "        if e[1] in key_tags:\n",
    "            noun_pos_tags.append(e[0])\n",
    "    noun_pos_tags = remove_stopwords(noun_pos_tags)\n",
    "    if idf:\n",
    "        noun_pos_tags = [word for word in noun_pos_tags if word != 'มาตรา' or 'มาตรา' not in word]\n",
    "    noun_pos_tags = list(set(noun_pos_tags))\n",
    "    return noun_pos_tags\n",
    "\n",
    "\n",
    "def find_case_number(text):\n",
    "    pattern = re.compile(r\"(?<!\\d)(\\d{1,5}/\\d{4})(?!\\d)\")\n",
    "    match = re.findall(pattern, text)\n",
    "    if pattern.search(text) and all(e in mapper.values() for e in match):\n",
    "        return [True, match]\n",
    "    else:\n",
    "        return [False, \"\"]\n",
    "\n",
    "\n",
    "def find_law_number(text):\n",
    "    pattern = re.compile(r'มาตรา ?(\\d+(?:/\\d+)?)\\s*(ทวิ|ตรี|จัตวา|เบญจ|ฉ|สัตต|อัฏฐ|นว|ทศ|เอกาทศ|ทวาทศ|เตรส|จตุทศ|ปัณรส|โสฬส|สัตตรส|อัฏฐารส)?')\n",
    "    match = re.findall(pattern, text)\n",
    "    result = []\n",
    "    for m in match:\n",
    "        result.append(f'มาตรา {m[0]} {m[1]}'.strip())\n",
    "    if result:\n",
    "        return [True, result]\n",
    "    else:\n",
    "        return [False, \"\"]\n",
    "\n",
    "\n",
    "def keyword_matcher(content, keywords):\n",
    "    matched_keywords = []\n",
    "    for keyword in keywords:\n",
    "        pattern = re.compile(re.escape(keyword))\n",
    "        if pattern.search(content):\n",
    "            matched_keywords.append(keyword)\n",
    "    return matched_keywords\n",
    "\n",
    "\n",
    "def filter_docs_by_keywords(documents, keywords, question, law_number=True):\n",
    "    if not keywords:\n",
    "        return [], []\n",
    "    filtered_docs = []\n",
    "    matches = []\n",
    "    found_law_number = False\n",
    "    if law_number:\n",
    "        found_law_number, law_numbers = find_law_number(question)\n",
    "    for document in documents:\n",
    "        if found_law_number:\n",
    "            for law_number in law_numbers:\n",
    "                pattern = re.compile(re.escape(law_number))\n",
    "                if pattern.search(document):\n",
    "                    matched_keywords = keyword_matcher(document, keywords)\n",
    "                    if len(matched_keywords) >= min(2, len(keywords)):\n",
    "                        matches.append(matched_keywords)\n",
    "                        filtered_docs.append(document)\n",
    "                        continue\n",
    "        else:\n",
    "            matched_keywords = keyword_matcher(document, keywords)\n",
    "            if len(matched_keywords) >= min(2, len(keywords)):\n",
    "                matches.append(matched_keywords)\n",
    "                filtered_docs.append(document)\n",
    "    return filtered_docs, matches\n",
    "\n",
    "\n",
    "def random_n_keyword_detected_documents(question, n, document_df=document_df, source=None):\n",
    "    if source:\n",
    "        filtered_document_df = document_df.query('source != @source')\n",
    "    else:\n",
    "        filtered_document_df = document_df.copy()\n",
    "    keywords = keyword_search(question, idf=True)\n",
    "    filtered_docs, _ = filter_docs_by_keywords(filtered_document_df['content'].tolist(), keywords, question, law_number=True)\n",
    "    np.random.seed(seed)\n",
    "    if filtered_docs:\n",
    "        return np.random.choice(filtered_docs, size=n, replace=n>len(filtered_docs)).tolist()\n",
    "    else:\n",
    "        return []\n",
    "\n",
    "\n",
    "def multithread_random_n_keyword_detected_documents(question, n, document_df=document_df, source=None):\n",
    "    keyword_detected_documents = random_n_keyword_detected_documents(question=question, n=n, document_df=document_df, source=source)\n",
    "    return {\n",
    "        'query': question,\n",
    "        'pos': document_df[document_df['source'] == source]['content'].tolist(),\n",
    "        'neg': keyword_detected_documents\n",
    "    }"
   ]
  },
  {
   "cell_type": "markdown",
   "id": "9d5ab30e-4c02-4ce3-9751-102a1c4c7fba",
   "metadata": {},
   "source": [
    "## 5"
   ]
  },
  {
   "cell_type": "code",
   "execution_count": 64,
   "id": "ea5e76be-b937-4087-bbc2-f69d3801bf06",
   "metadata": {},
   "outputs": [
    {
     "name": "stderr",
     "output_type": "stream",
     "text": [
      "100%|██████████| 4121/4121 [06:35<00:00, 10.42it/s]\n"
     ]
    }
   ],
   "source": [
    "n_negative = 5\n",
    "\n",
    "dataset = []\n",
    "for _, row in tqdm(df.iterrows(), total=df.shape[0]):\n",
    "    dataset.append({\n",
    "        'query': row['question'],\n",
    "        'pos': document_df[document_df['source'] == row['source']]['content'].tolist(),\n",
    "        'neg': query_top_n_similar_documents(question=row['question'], n=n_negative, source=row['source'])\n",
    "    })\n",
    "    keyword_detected_documents = random_n_keyword_detected_documents(question=row['question'], n=n_negative, source=row['source'])\n",
    "    if keyword_detected_documents:\n",
    "        dataset.append({\n",
    "            'query': row['question'],\n",
    "            'pos': document_df[document_df['source'] == row['source']]['content'].tolist(),\n",
    "            'neg': keyword_detected_documents\n",
    "        })"
   ]
  },
  {
   "cell_type": "code",
   "execution_count": 75,
   "id": "c323a7db-2336-4c4a-9297-a37aa50f9bae",
   "metadata": {},
   "outputs": [
    {
     "name": "stderr",
     "output_type": "stream",
     "text": [
      "100%|██████████| 6513/6513 [00:01<00:00, 4304.84it/s]\n",
      "100%|██████████| 1620/1620 [00:00<00:00, 4361.83it/s]\n"
     ]
    }
   ],
   "source": [
    "queries = []\n",
    "for d in dataset:\n",
    "    if d['query'] not in queries:\n",
    "        queries.append(d['query'])\n",
    "train_queries, validate_queries = train_test_split(queries, test_size=0.2, random_state=seed)\n",
    "train_dataset = [d for d in dataset if d['query'] in train_queries]\n",
    "validate_dataset = [d for d in dataset if d['query'] in validate_queries]\n",
    "\n",
    "dataset_name = f'reranker_training_dataset_with_similar={n_negative}_keyword={n_negative}_train.jsonl'\n",
    "output_path = f'/project/lt200301-edubot/Capstone-TamTanai/reranker_training_dataset/{dataset_name}'\n",
    "with open(output_path, 'w', encoding='utf-8') as file:\n",
    "    for data in tqdm(train_dataset):\n",
    "        json.dump(data, file, ensure_ascii=False)\n",
    "        file.write('\\n')\n",
    "\n",
    "dataset_name = f'reranker_training_dataset_with_similar={n_negative}_keyword={n_negative}_validate.jsonl'\n",
    "output_path = f'/project/lt200301-edubot/Capstone-TamTanai/reranker_training_dataset/{dataset_name}'\n",
    "with open(output_path, 'w', encoding='utf-8') as file:\n",
    "    for data in tqdm(validate_dataset):\n",
    "        json.dump(data, file, ensure_ascii=False)\n",
    "        file.write('\\n')"
   ]
  },
  {
   "cell_type": "markdown",
   "id": "88a8ad24-1227-4cf3-9e32-1f353dab0fc2",
   "metadata": {},
   "source": [
    "## เพิ่ม negative similar document จากผลของ reranker"
   ]
  },
  {
   "cell_type": "code",
   "execution_count": 15,
   "id": "4d32b347-bb7a-470a-9a1b-6986d3862a00",
   "metadata": {},
   "outputs": [
    {
     "name": "stderr",
     "output_type": "stream",
     "text": [
      "/home/shanwibo/.conda/envs/retrieval/lib/python3.10/site-packages/tqdm/auto.py:21: TqdmWarning: IProgress not found. Please update jupyter and ipywidgets. See https://ipywidgets.readthedocs.io/en/stable/user_install.html\n",
      "  from .autonotebook import tqdm as notebook_tqdm\n"
     ]
    }
   ],
   "source": [
    "from FlagEmbedding import FlagReranker"
   ]
  },
  {
   "cell_type": "code",
   "execution_count": 13,
   "id": "58472d23-fcca-4819-8720-ec576ecb3f55",
   "metadata": {},
   "outputs": [],
   "source": [
    "n_negative = 5\n",
    "\n",
    "dataset_name = f'reranker_training_dataset_with_similar={n_negative}_keyword={n_negative}_train.jsonl'\n",
    "output_path = f'/project/lt200301-edubot/Capstone-TamTanai/reranker_training_dataset/{dataset_name}'\n",
    "with open(output_path) as file:\n",
    "    train_dataset = [json.loads(element) for element in list(file)]"
   ]
  },
  {
   "cell_type": "code",
   "execution_count": 16,
   "id": "9cedb2da-ccf9-4a91-aacd-fb1464a8af78",
   "metadata": {},
   "outputs": [
    {
     "name": "stdout",
     "output_type": "stream",
     "text": [
      "----------using 4*GPUs----------\n"
     ]
    }
   ],
   "source": [
    "model_path = f'/project/lt200301-edubot/Capstone-TamTanai/models/bge-reranker-v2-m3-finetune-with_similar={n_negative}_keyword={n_negative}'\n",
    "reranker = FlagReranker(model_path, use_fp16=True)"
   ]
  },
  {
   "cell_type": "code",
   "execution_count": 53,
   "id": "74ea6da6-8022-480b-91a5-9904bf14a40c",
   "metadata": {},
   "outputs": [
    {
     "name": "stderr",
     "output_type": "stream",
     "text": [
      "100%|██████████| 4121/4121 [14:37<00:00,  4.70it/s]\n"
     ]
    }
   ],
   "source": [
    "dataset = []\n",
    "for _, row in tqdm(df.iterrows(), total=df.shape[0]):\n",
    "    similar_documents = query_top_n_similar_documents(question=row['question'], n=40, source=row['source'])\n",
    "    input_data = [[row['question'], doc] for doc in similar_documents]\n",
    "    reranking_scores = reranker.compute_score(input_data, normalize=True)\n",
    "    dataset.append({\n",
    "        'query': row['question'],\n",
    "        'pos': document_df[document_df['source'] == row['source']]['content'].tolist(),\n",
    "        'neg': np.array(similar_documents)[np.array(reranking_scores).argsort()[-n_negative:][::-1]].tolist()\n",
    "    })"
   ]
  },
  {
   "cell_type": "code",
   "execution_count": 76,
   "id": "c516c2ca-08a3-4bf3-a7e6-64c7139d150f",
   "metadata": {},
   "outputs": [],
   "source": [
    "dataset_name = f'reranker_training_dataset_with_similar={n_negative}_keyword={n_negative}_train.jsonl'\n",
    "dataset_path = f'/project/lt200301-edubot/Capstone-TamTanai/reranker_training_dataset/{dataset_name}'\n",
    "with open(dataset_path) as file:\n",
    "    train_dataset = [json.loads(element) for element in list(file)]\n",
    "\n",
    "dataset_name = f'reranker_training_dataset_with_similar={n_negative}_keyword={n_negative}_validate.jsonl'\n",
    "dataset_path = f'/project/lt200301-edubot/Capstone-TamTanai/reranker_training_dataset/{dataset_name}'\n",
    "with open(dataset_path) as file:\n",
    "    validate_dataset = [json.loads(element) for element in list(file)]"
   ]
  },
  {
   "cell_type": "code",
   "execution_count": 77,
   "id": "c319719e-bd67-4e87-b1bb-0911d8fac4a3",
   "metadata": {},
   "outputs": [
    {
     "data": {
      "text/plain": [
       "(6513, 1620)"
      ]
     },
     "execution_count": 77,
     "metadata": {},
     "output_type": "execute_result"
    }
   ],
   "source": [
    "len(train_dataset), len(validate_dataset)"
   ]
  },
  {
   "cell_type": "code",
   "execution_count": 78,
   "id": "3d8bd2c9-7b3a-416b-a3e5-e0429a9af98b",
   "metadata": {},
   "outputs": [],
   "source": [
    "train_queries = set([data['query'] for data in train_dataset])\n",
    "validate_queries = set([data['query'] for data in validate_dataset])"
   ]
  },
  {
   "cell_type": "code",
   "execution_count": 79,
   "id": "2279a66c-7838-4f8c-8757-91205108d7d1",
   "metadata": {},
   "outputs": [],
   "source": [
    "for data in dataset:\n",
    "    if data['query'] in train_queries:\n",
    "        train_dataset.append(data)\n",
    "    elif data['query'] in validate_queries:\n",
    "        validate_dataset.append(data)"
   ]
  },
  {
   "cell_type": "code",
   "execution_count": 83,
   "id": "3d096af4-ceaa-43dd-a23c-ef39958d9778",
   "metadata": {},
   "outputs": [
    {
     "data": {
      "text/plain": [
       "(9809, 2445)"
      ]
     },
     "execution_count": 83,
     "metadata": {},
     "output_type": "execute_result"
    }
   ],
   "source": [
    "len(train_dataset), len(validate_dataset)"
   ]
  },
  {
   "cell_type": "code",
   "execution_count": 84,
   "id": "1a3c1353-ac58-439f-86cd-6649fa2bb3c6",
   "metadata": {},
   "outputs": [
    {
     "name": "stderr",
     "output_type": "stream",
     "text": [
      "100%|██████████| 9809/9809 [00:02<00:00, 4111.45it/s]\n",
      "100%|██████████| 2445/2445 [00:00<00:00, 4181.27it/s]\n"
     ]
    }
   ],
   "source": [
    "dataset_name = f'reranker_training_dataset_with_similar={n_negative}_keyword={n_negative}_2nd_train.jsonl'\n",
    "output_path = f'/project/lt200301-edubot/Capstone-TamTanai/reranker_training_dataset/{dataset_name}'\n",
    "with open(output_path, 'w', encoding='utf-8') as file:\n",
    "    for data in tqdm(train_dataset):\n",
    "        json.dump(data, file, ensure_ascii=False)\n",
    "        file.write('\\n')\n",
    "\n",
    "dataset_name = f'reranker_training_dataset_with_similar={n_negative}_keyword={n_negative}_2nd_validate.jsonl'\n",
    "output_path = f'/project/lt200301-edubot/Capstone-TamTanai/reranker_training_dataset/{dataset_name}'\n",
    "with open(output_path, 'w', encoding='utf-8') as file:\n",
    "    for data in tqdm(validate_dataset):\n",
    "        json.dump(data, file, ensure_ascii=False)\n",
    "        file.write('\\n')"
   ]
  },
  {
   "cell_type": "code",
   "execution_count": null,
   "id": "26fbc8b3-1b9e-415f-bb3a-c7529d5cf84b",
   "metadata": {},
   "outputs": [],
   "source": []
  }
 ],
 "metadata": {
  "kernelspec": {
   "display_name": "retrieval",
   "language": "python",
   "name": "retrieval"
  },
  "language_info": {
   "codemirror_mode": {
    "name": "ipython",
    "version": 3
   },
   "file_extension": ".py",
   "mimetype": "text/x-python",
   "name": "python",
   "nbconvert_exporter": "python",
   "pygments_lexer": "ipython3",
   "version": "3.10.14"
  }
 },
 "nbformat": 4,
 "nbformat_minor": 5
}
