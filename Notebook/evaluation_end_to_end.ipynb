{
 "cells": [
  {
   "cell_type": "code",
   "execution_count": 1,
   "id": "c3a1342b-0bcf-475c-a5a8-d52f8636af7c",
   "metadata": {},
   "outputs": [],
   "source": [
    "import os\n",
    "import ast\n",
    "import numpy as np\n",
    "import pandas as pd\n",
    "from tqdm import tqdm\n",
    "from bert_score import score\n",
    "from rouge_score import rouge_scorer\n",
    "from nltk.translate.bleu_score import sentence_bleu\n",
    "from transformers import AutoTokenizer\n",
    "from IPython.display import display\n",
    "import matplotlib.pyplot as plt\n",
    "import warnings\n",
    "warnings.filterwarnings('ignore')\n",
    "from local_bert_scorer import LocalBERTScorer"
   ]
  },
  {
   "cell_type": "code",
   "execution_count": 2,
   "id": "77705c06-69ff-4f3c-9e79-62ce6ce8cd2e",
   "metadata": {},
   "outputs": [],
   "source": [
    "MODEL_DIR = '/project/lt200301-edubot/Capstone-TamTanai/models'\n",
    "LOG_DIR = '/project/lt200301-edubot/Capstone-TamTanai/logs'\n",
    "\n",
    "\n",
    "def find_best_model(model_name):\n",
    "    log_path = os.path.join(LOG_DIR, f'{model_name}.csv')\n",
    "    log = pd.read_csv(log_path)\n",
    "    step = int(log.iloc[log['eval_loss'].argmin()]['step'])\n",
    "    return os.path.join(MODEL_DIR, model_name, f'checkpoint-{step}')"
   ]
  },
  {
   "cell_type": "code",
   "execution_count": 3,
   "id": "472382e5-a3be-4577-bfda-ae95833bab33",
   "metadata": {},
   "outputs": [],
   "source": [
    "model_type = '/project/lt200301-edubot/bert_score/models/microsoft/deberta-xlarge-mnli'\n",
    "bert_scorer = LocalBERTScorer(model_type=model_type, num_layers=40)"
   ]
  },
  {
   "cell_type": "code",
   "execution_count": 4,
   "id": "b8dd89d6-e0b8-48fd-a6a1-e71aa9d966a0",
   "metadata": {},
   "outputs": [],
   "source": [
    "model_name = 'typhoon2-qwen2.5-7b-instruct-finetune-dataset-v1-exam-thailegal-with-v1+exam+thailegal-validation-set'\n",
    "model_path = find_best_model(model_name)"
   ]
  },
  {
   "cell_type": "code",
   "execution_count": 5,
   "id": "92691271-f8bf-4833-b0ef-bbdbf2a3ddc5",
   "metadata": {},
   "outputs": [],
   "source": [
    "tokenizer = AutoTokenizer.from_pretrained(model_path)"
   ]
  },
  {
   "cell_type": "code",
   "execution_count": 6,
   "id": "83a48fae-b2ca-455c-86d1-291e5af291b2",
   "metadata": {},
   "outputs": [],
   "source": [
    "def run_evaluation(result_path):\n",
    "    df = pd.read_csv(result_path)\n",
    "    df['retrieval_result'] = df['retrieval_result'].apply(ast.literal_eval)\n",
    "    answers = df['answer'].tolist()\n",
    "    generation_results = df['generation_result'].tolist()\n",
    "    \n",
    "    precision, recall, f1 = bert_scorer.score(generation_results, answers, verbose=True, batch_size=8)\n",
    "    #print('\\nBert Score')\n",
    "    print(\"average time:\", df[\"processing_time\"].mean())\n",
    "    print(f'Precision: {precision.mean().item()}')\n",
    "    print(f'Recall:    {recall.mean().item()}')\n",
    "    print(f'F1:        {f1.mean().item()}')\n",
    "\n",
    "    tokenizer.model_max_length = 1000000000\n",
    "    rouge = {\n",
    "        'rouge1': [],\n",
    "        'rouge2': [],\n",
    "        'rougeL': []\n",
    "    }\n",
    "    scorer = rouge_scorer.RougeScorer(['rouge1', 'rouge2', 'rougeL'], use_stemmer=True, tokenizer=tokenizer)\n",
    "    for answer, generation_result in tqdm(zip(answers, generation_results), total=len(answers)):\n",
    "        scores = scorer.score(answer, generation_result)\n",
    "        for k in rouge:\n",
    "            rouge[k].append(scores[k].fmeasure)\n",
    "    print('\\nRouge')\n",
    "    for k in rouge:\n",
    "        print(f'{k}: {np.mean(rouge[k])}')\n",
    "\n",
    "    # df['f1'] = f1\n",
    "    # df = df.sort_values('f1')\n",
    "    # for _, row in df.iloc[:].iterrows():\n",
    "    #     print('\\nF1:', row['f1'])\n",
    "    #     print('Q:', row['question'])\n",
    "    #     print(\"K:\", df_dataset[df_dataset[\"question\"]==row[\"question\"]][\"knowledges\"].values[0])\n",
    "    #     print('A:', row['answer'])\n",
    "    #     print('R:', row['response'])\n",
    "    #     print()"
   ]
  },
  {
   "cell_type": "code",
   "execution_count": 14,
   "id": "551f1986-bc4d-4ffa-b4ac-5f5c0a1405ac",
   "metadata": {},
   "outputs": [
    {
     "name": "stdout",
     "output_type": "stream",
     "text": [
      "calculating scores...\n",
      "computing bert embedding.\n"
     ]
    },
    {
     "data": {
      "application/vnd.jupyter.widget-view+json": {
       "model_id": "de2fd3ca093e4b08b178165271a383cc",
       "version_major": 2,
       "version_minor": 0
      },
      "text/plain": [
       "  0%|          | 0/47 [00:00<?, ?it/s]"
      ]
     },
     "metadata": {},
     "output_type": "display_data"
    },
    {
     "name": "stdout",
     "output_type": "stream",
     "text": [
      "computing greedy matching.\n"
     ]
    },
    {
     "data": {
      "application/vnd.jupyter.widget-view+json": {
       "model_id": "329198e8873340fd9b2977eb05b7b000",
       "version_major": 2,
       "version_minor": 0
      },
      "text/plain": [
       "  0%|          | 0/26 [00:00<?, ?it/s]"
      ]
     },
     "metadata": {},
     "output_type": "display_data"
    },
    {
     "name": "stdout",
     "output_type": "stream",
     "text": [
      "done in 63.38 seconds, 6.52 sentences/sec\n",
      "average time: 41.58832629483202\n",
      "Precision: 0.9013776779174805\n",
      "Recall:    0.9114153981208801\n",
      "F1:        0.9058716893196106\n"
     ]
    },
    {
     "name": "stderr",
     "output_type": "stream",
     "text": [
      "100%|██████████| 413/413 [00:00<00:00, 460.77it/s]"
     ]
    },
    {
     "name": "stdout",
     "output_type": "stream",
     "text": [
      "\n",
      "Rouge\n",
      "rouge1: 0.7848171197037843\n",
      "rouge2: 0.7427846038785695\n",
      "rougeL: 0.7577241159372605\n"
     ]
    },
    {
     "name": "stderr",
     "output_type": "stream",
     "text": [
      "\n"
     ]
    }
   ],
   "source": [
    "run_evaluation('/project/lt200301-edubot/Capstone-TamTanai/inference_result/inference_end_to_end_n_documents=1.csv')"
   ]
  },
  {
   "cell_type": "code",
   "execution_count": 7,
   "id": "9391cdc5-5e15-4a41-8bc5-d17777c4c70e",
   "metadata": {},
   "outputs": [
    {
     "name": "stdout",
     "output_type": "stream",
     "text": [
      "calculating scores...\n",
      "computing bert embedding.\n"
     ]
    },
    {
     "data": {
      "application/vnd.jupyter.widget-view+json": {
       "model_id": "80c96b1a62ee4144a60ea308c0581e0a",
       "version_major": 2,
       "version_minor": 0
      },
      "text/plain": [
       "  0%|          | 0/94 [00:00<?, ?it/s]"
      ]
     },
     "metadata": {},
     "output_type": "display_data"
    },
    {
     "name": "stdout",
     "output_type": "stream",
     "text": [
      "computing greedy matching.\n"
     ]
    },
    {
     "data": {
      "application/vnd.jupyter.widget-view+json": {
       "model_id": "0dfad9c02fe64c56bf1849c78c7f3962",
       "version_major": 2,
       "version_minor": 0
      },
      "text/plain": [
       "  0%|          | 0/52 [00:00<?, ?it/s]"
      ]
     },
     "metadata": {},
     "output_type": "display_data"
    },
    {
     "name": "stdout",
     "output_type": "stream",
     "text": [
      "done in 53.80 seconds, 7.68 sentences/sec\n",
      "average time: 41.8886224669348\n",
      "Precision: 0.9006673693656921\n",
      "Recall:    0.9108085632324219\n",
      "F1:        0.9052121043205261\n"
     ]
    },
    {
     "name": "stderr",
     "output_type": "stream",
     "text": [
      "100%|██████████| 413/413 [00:00<00:00, 460.08it/s]"
     ]
    },
    {
     "name": "stdout",
     "output_type": "stream",
     "text": [
      "\n",
      "Rouge\n",
      "rouge1: 0.7817684124473204\n",
      "rouge2: 0.7398364636652752\n",
      "rougeL: 0.7558139181995059\n"
     ]
    },
    {
     "name": "stderr",
     "output_type": "stream",
     "text": [
      "\n"
     ]
    }
   ],
   "source": [
    "run_evaluation('/project/lt200301-edubot/Capstone-TamTanai/inference_result/inference_end_to_end_n_documents=1.csv')"
   ]
  },
  {
   "cell_type": "code",
   "execution_count": 7,
   "id": "50102bd2-96dd-4504-8bd0-7dc5538631b5",
   "metadata": {},
   "outputs": [
    {
     "name": "stdout",
     "output_type": "stream",
     "text": [
      "calculating scores...\n",
      "computing bert embedding.\n"
     ]
    },
    {
     "data": {
      "application/vnd.jupyter.widget-view+json": {
       "model_id": "4eeb2cfe1be5412a8063215177875312",
       "version_major": 2,
       "version_minor": 0
      },
      "text/plain": [
       "  0%|          | 0/95 [00:00<?, ?it/s]"
      ]
     },
     "metadata": {},
     "output_type": "display_data"
    },
    {
     "name": "stdout",
     "output_type": "stream",
     "text": [
      "computing greedy matching.\n"
     ]
    },
    {
     "data": {
      "application/vnd.jupyter.widget-view+json": {
       "model_id": "a5566ec01440462bae7bd1d2d9249d99",
       "version_major": 2,
       "version_minor": 0
      },
      "text/plain": [
       "  0%|          | 0/52 [00:00<?, ?it/s]"
      ]
     },
     "metadata": {},
     "output_type": "display_data"
    },
    {
     "name": "stdout",
     "output_type": "stream",
     "text": [
      "done in 57.56 seconds, 7.17 sentences/sec\n",
      "average time: 42.14883283552766\n",
      "Precision: 0.8836186528205872\n",
      "Recall:    0.8980758190155029\n",
      "F1:        0.8902021050453186\n"
     ]
    },
    {
     "name": "stderr",
     "output_type": "stream",
     "text": [
      "100%|██████████| 413/413 [00:00<00:00, 448.96it/s]"
     ]
    },
    {
     "name": "stdout",
     "output_type": "stream",
     "text": [
      "\n",
      "Rouge\n",
      "rouge1: 0.7450152049285323\n",
      "rouge2: 0.6964247030512593\n",
      "rougeL: 0.7111807973906524\n"
     ]
    },
    {
     "name": "stderr",
     "output_type": "stream",
     "text": [
      "\n"
     ]
    }
   ],
   "source": [
    "run_evaluation('/project/lt200301-edubot/Capstone-TamTanai/inference_result/inference_end_to_end_n_documents=2.csv')"
   ]
  },
  {
   "cell_type": "code",
   "execution_count": 8,
   "id": "c1a03265-adb7-41f2-b4a6-127a8a2f5842",
   "metadata": {},
   "outputs": [
    {
     "name": "stdout",
     "output_type": "stream",
     "text": [
      "calculating scores...\n",
      "computing bert embedding.\n"
     ]
    },
    {
     "data": {
      "application/vnd.jupyter.widget-view+json": {
       "model_id": "3fe3cd27323c4f0a8c51e2d6c3f34971",
       "version_major": 2,
       "version_minor": 0
      },
      "text/plain": [
       "  0%|          | 0/95 [00:00<?, ?it/s]"
      ]
     },
     "metadata": {},
     "output_type": "display_data"
    },
    {
     "name": "stdout",
     "output_type": "stream",
     "text": [
      "computing greedy matching.\n"
     ]
    },
    {
     "data": {
      "application/vnd.jupyter.widget-view+json": {
       "model_id": "05dc15ac4cae4e11bfe87bd6574cf211",
       "version_major": 2,
       "version_minor": 0
      },
      "text/plain": [
       "  0%|          | 0/52 [00:00<?, ?it/s]"
      ]
     },
     "metadata": {},
     "output_type": "display_data"
    },
    {
     "name": "stdout",
     "output_type": "stream",
     "text": [
      "done in 46.15 seconds, 8.95 sentences/sec\n",
      "average time: 42.15837123492151\n",
      "Precision: 0.885330080986023\n",
      "Recall:    0.9006953835487366\n",
      "F1:        0.8923700451850891\n"
     ]
    },
    {
     "name": "stderr",
     "output_type": "stream",
     "text": [
      "100%|██████████| 413/413 [00:00<00:00, 446.86it/s]"
     ]
    },
    {
     "name": "stdout",
     "output_type": "stream",
     "text": [
      "\n",
      "Rouge\n",
      "rouge1: 0.7480989957221991\n",
      "rouge2: 0.7001792826337142\n",
      "rougeL: 0.7155034117069333\n"
     ]
    },
    {
     "name": "stderr",
     "output_type": "stream",
     "text": [
      "\n"
     ]
    }
   ],
   "source": [
    "run_evaluation('/project/lt200301-edubot/Capstone-TamTanai/inference_result/inference_end_to_end_n_documents=2.csv')"
   ]
  },
  {
   "cell_type": "code",
   "execution_count": 8,
   "id": "e4a3c7f3-edbd-4a3d-b788-43f9e8d708a4",
   "metadata": {},
   "outputs": [
    {
     "name": "stdout",
     "output_type": "stream",
     "text": [
      "calculating scores...\n",
      "computing bert embedding.\n"
     ]
    },
    {
     "data": {
      "application/vnd.jupyter.widget-view+json": {
       "model_id": "2bac9443fa6c4f4e82a2b03ac6ac6e3b",
       "version_major": 2,
       "version_minor": 0
      },
      "text/plain": [
       "  0%|          | 0/98 [00:00<?, ?it/s]"
      ]
     },
     "metadata": {},
     "output_type": "display_data"
    },
    {
     "name": "stdout",
     "output_type": "stream",
     "text": [
      "computing greedy matching.\n"
     ]
    },
    {
     "data": {
      "application/vnd.jupyter.widget-view+json": {
       "model_id": "2a2da1ad7e044896a6baf54b7eccb561",
       "version_major": 2,
       "version_minor": 0
      },
      "text/plain": [
       "  0%|          | 0/52 [00:00<?, ?it/s]"
      ]
     },
     "metadata": {},
     "output_type": "display_data"
    },
    {
     "name": "stdout",
     "output_type": "stream",
     "text": [
      "done in 48.24 seconds, 8.56 sentences/sec\n",
      "average time: 47.83014587282268\n",
      "Precision: 0.8643050193786621\n",
      "Recall:    0.8772706985473633\n",
      "F1:        0.8699427247047424\n"
     ]
    },
    {
     "name": "stderr",
     "output_type": "stream",
     "text": [
      "100%|██████████| 413/413 [00:00<00:00, 440.75it/s]"
     ]
    },
    {
     "name": "stdout",
     "output_type": "stream",
     "text": [
      "\n",
      "Rouge\n",
      "rouge1: 0.6909773534285222\n",
      "rouge2: 0.6277252366899784\n",
      "rougeL: 0.6480458277777361\n"
     ]
    },
    {
     "name": "stderr",
     "output_type": "stream",
     "text": [
      "\n"
     ]
    }
   ],
   "source": [
    "run_evaluation('/project/lt200301-edubot/Capstone-TamTanai/inference_result/inference_end_to_end_n_documents=5.csv')"
   ]
  },
  {
   "cell_type": "code",
   "execution_count": 9,
   "id": "23807fb6-1995-4b46-8d3d-aabfb10ea15d",
   "metadata": {},
   "outputs": [
    {
     "name": "stdout",
     "output_type": "stream",
     "text": [
      "calculating scores...\n",
      "computing bert embedding.\n"
     ]
    },
    {
     "data": {
      "application/vnd.jupyter.widget-view+json": {
       "model_id": "c4e0ec1ef6de4d69a85b70542ca7915e",
       "version_major": 2,
       "version_minor": 0
      },
      "text/plain": [
       "  0%|          | 0/99 [00:00<?, ?it/s]"
      ]
     },
     "metadata": {},
     "output_type": "display_data"
    },
    {
     "name": "stdout",
     "output_type": "stream",
     "text": [
      "computing greedy matching.\n"
     ]
    },
    {
     "data": {
      "application/vnd.jupyter.widget-view+json": {
       "model_id": "b731423a6686410db1ca3547160bc6ea",
       "version_major": 2,
       "version_minor": 0
      },
      "text/plain": [
       "  0%|          | 0/52 [00:00<?, ?it/s]"
      ]
     },
     "metadata": {},
     "output_type": "display_data"
    },
    {
     "name": "stdout",
     "output_type": "stream",
     "text": [
      "done in 49.08 seconds, 8.41 sentences/sec\n",
      "average time: 48.15134082694897\n",
      "Precision: 0.8618673086166382\n",
      "Recall:    0.8763154149055481\n",
      "F1:        0.8681542277336121\n"
     ]
    },
    {
     "name": "stderr",
     "output_type": "stream",
     "text": [
      "100%|██████████| 413/413 [00:00<00:00, 467.29it/s]"
     ]
    },
    {
     "name": "stdout",
     "output_type": "stream",
     "text": [
      "\n",
      "Rouge\n",
      "rouge1: 0.6866759308296444\n",
      "rouge2: 0.6251654743555872\n",
      "rougeL: 0.6453170531722123\n"
     ]
    },
    {
     "name": "stderr",
     "output_type": "stream",
     "text": [
      "\n"
     ]
    }
   ],
   "source": [
    "run_evaluation('/project/lt200301-edubot/Capstone-TamTanai/inference_result/inference_end_to_end_n_documents=5.csv')"
   ]
  },
  {
   "cell_type": "code",
   "execution_count": 9,
   "id": "b2b0992e-2a90-48f0-ba9c-69a918f421a7",
   "metadata": {},
   "outputs": [
    {
     "name": "stdout",
     "output_type": "stream",
     "text": [
      "calculating scores...\n",
      "computing bert embedding.\n"
     ]
    },
    {
     "data": {
      "application/vnd.jupyter.widget-view+json": {
       "model_id": "559e99053dba49848d40e57fe364d6a8",
       "version_major": 2,
       "version_minor": 0
      },
      "text/plain": [
       "  0%|          | 0/100 [00:00<?, ?it/s]"
      ]
     },
     "metadata": {},
     "output_type": "display_data"
    },
    {
     "name": "stdout",
     "output_type": "stream",
     "text": [
      "computing greedy matching.\n"
     ]
    },
    {
     "data": {
      "application/vnd.jupyter.widget-view+json": {
       "model_id": "c265ddcaff2346c199699d2ca7a1ceea",
       "version_major": 2,
       "version_minor": 0
      },
      "text/plain": [
       "  0%|          | 0/52 [00:00<?, ?it/s]"
      ]
     },
     "metadata": {},
     "output_type": "display_data"
    },
    {
     "name": "stdout",
     "output_type": "stream",
     "text": [
      "done in 49.47 seconds, 8.35 sentences/sec\n",
      "average time: 70.30240731781967\n",
      "Precision: 0.8457930684089661\n",
      "Recall:    0.8546749949455261\n",
      "F1:        0.8492355346679688\n"
     ]
    },
    {
     "name": "stderr",
     "output_type": "stream",
     "text": [
      "100%|██████████| 413/413 [00:00<00:00, 485.01it/s]"
     ]
    },
    {
     "name": "stdout",
     "output_type": "stream",
     "text": [
      "\n",
      "Rouge\n",
      "rouge1: 0.6198210323718654\n",
      "rouge2: 0.5370141859427581\n",
      "rougeL: 0.5643786482992784\n"
     ]
    },
    {
     "name": "stderr",
     "output_type": "stream",
     "text": [
      "\n"
     ]
    }
   ],
   "source": [
    "run_evaluation('/project/lt200301-edubot/Capstone-TamTanai/inference_result/inference_end_to_end_n_documents=10.csv')"
   ]
  },
  {
   "cell_type": "code",
   "execution_count": 10,
   "id": "6a3ced77-67a3-4b34-814e-b9d36eb86466",
   "metadata": {},
   "outputs": [
    {
     "name": "stdout",
     "output_type": "stream",
     "text": [
      "calculating scores...\n",
      "computing bert embedding.\n"
     ]
    },
    {
     "data": {
      "application/vnd.jupyter.widget-view+json": {
       "model_id": "cc80fb45162a4dfdaf488aea53465c56",
       "version_major": 2,
       "version_minor": 0
      },
      "text/plain": [
       "  0%|          | 0/100 [00:00<?, ?it/s]"
      ]
     },
     "metadata": {},
     "output_type": "display_data"
    },
    {
     "name": "stdout",
     "output_type": "stream",
     "text": [
      "computing greedy matching.\n"
     ]
    },
    {
     "data": {
      "application/vnd.jupyter.widget-view+json": {
       "model_id": "6b770d7d597c4df18ee558ebd8699208",
       "version_major": 2,
       "version_minor": 0
      },
      "text/plain": [
       "  0%|          | 0/52 [00:00<?, ?it/s]"
      ]
     },
     "metadata": {},
     "output_type": "display_data"
    },
    {
     "name": "stdout",
     "output_type": "stream",
     "text": [
      "done in 50.26 seconds, 8.22 sentences/sec\n",
      "average time: 70.35538534737096\n",
      "Precision: 0.8457101583480835\n",
      "Recall:    0.8535600900650024\n",
      "F1:        0.8487105369567871\n"
     ]
    },
    {
     "name": "stderr",
     "output_type": "stream",
     "text": [
      "100%|██████████| 413/413 [00:00<00:00, 468.67it/s]"
     ]
    },
    {
     "name": "stdout",
     "output_type": "stream",
     "text": [
      "\n",
      "Rouge\n",
      "rouge1: 0.6220551797256219\n",
      "rouge2: 0.5377867230706476\n",
      "rougeL: 0.566907793254058\n"
     ]
    },
    {
     "name": "stderr",
     "output_type": "stream",
     "text": [
      "\n"
     ]
    }
   ],
   "source": [
    "run_evaluation('/project/lt200301-edubot/Capstone-TamTanai/inference_result/inference_end_to_end_n_documents=10.csv')"
   ]
  },
  {
   "cell_type": "code",
   "execution_count": 10,
   "id": "aaa20d4c-c365-4b42-aad3-bc254dcfa702",
   "metadata": {},
   "outputs": [
    {
     "data": {
      "text/html": [
       "<div>\n",
       "<style scoped>\n",
       "    .dataframe tbody tr th:only-of-type {\n",
       "        vertical-align: middle;\n",
       "    }\n",
       "\n",
       "    .dataframe tbody tr th {\n",
       "        vertical-align: top;\n",
       "    }\n",
       "\n",
       "    .dataframe thead th {\n",
       "        text-align: right;\n",
       "    }\n",
       "</style>\n",
       "<table border=\"1\" class=\"dataframe\">\n",
       "  <thead>\n",
       "    <tr style=\"text-align: right;\">\n",
       "      <th></th>\n",
       "      <th>question</th>\n",
       "      <th>answer</th>\n",
       "      <th>processing_time</th>\n",
       "      <th>domain_detection_result</th>\n",
       "      <th>domain_detection_probability</th>\n",
       "      <th>domain_detection_time_usage</th>\n",
       "      <th>retrieval_result</th>\n",
       "      <th>retrieval_reranking_score</th>\n",
       "      <th>retrieval_time_usage</th>\n",
       "      <th>generation_result</th>\n",
       "      <th>generation_time_usage</th>\n",
       "    </tr>\n",
       "  </thead>\n",
       "  <tbody>\n",
       "    <tr>\n",
       "      <th>0</th>\n",
       "      <td>ตามพระราชบัญญัติขายตรงและตลาดแบบตรง พ.ศ. 2545 ...</td>\n",
       "      <td>'สินค้า' หมายความว่า สิ่งของที่ผลิตหรือมีไว้เพ...</td>\n",
       "      <td>43.779574</td>\n",
       "      <td>True</td>\n",
       "      <td>0.999809</td>\n",
       "      <td>0.006224</td>\n",
       "      <td>[พระราชบัญญัติขายตรงและตลาดแบบตรง พ.ศ. 2545\\n\\...</td>\n",
       "      <td>[0.9999263140701885, 1.3184367302834308e-06]</td>\n",
       "      <td>0.623299</td>\n",
       "      <td>'สินค้า' หมายความว่า สิ่งของที่ผลิตหรือมีไว้เพ...</td>\n",
       "      <td>43.150021</td>\n",
       "    </tr>\n",
       "    <tr>\n",
       "      <th>1</th>\n",
       "      <td>หากลูกหนี้ไม่ได้กำหนดเวลาชำระหนี้ไว้ ลูกหนี้สา...</td>\n",
       "      <td>ลูกหนี้สามารถชำระหนี้ได้โดยพลัน</td>\n",
       "      <td>43.170337</td>\n",
       "      <td>True</td>\n",
       "      <td>0.999805</td>\n",
       "      <td>0.006054</td>\n",
       "      <td>[ประมวลกฎหมายแพ่งและพาณิชย์ - บรรพ 2 (หนี้) - ...</td>\n",
       "      <td>[0.9999997654566101, 0.004663654952382039]</td>\n",
       "      <td>0.490520</td>\n",
       "      <td>ลูกหนี้สามารถชำระหนี้ได้โดยพลัน</td>\n",
       "      <td>42.673731</td>\n",
       "    </tr>\n",
       "    <tr>\n",
       "      <th>2</th>\n",
       "      <td>เครื่องหมายการค้าที่จดทะเบียนไว้ตามกฎหมายเดิมจ...</td>\n",
       "      <td>เครื่องหมายการค้าที่จดทะเบียนไว้ตามพระราชบัญญั...</td>\n",
       "      <td>42.373917</td>\n",
       "      <td>True</td>\n",
       "      <td>0.999814</td>\n",
       "      <td>0.006683</td>\n",
       "      <td>[พระราชบัญญัติเครื่องหมายการค้า (ฉบับที่ 3) พ....</td>\n",
       "      <td>[0.9999929281049428, 0.29017562235469585]</td>\n",
       "      <td>0.412240</td>\n",
       "      <td>เครื่องหมายการค้าที่จดทะเบียนไว้ตามพระราชบัญญั...</td>\n",
       "      <td>41.954962</td>\n",
       "    </tr>\n",
       "    <tr>\n",
       "      <th>3</th>\n",
       "      <td>หากลูกหนี้ได้ชำระหนี้สินเต็มจำนวนแล้ว ศาลมีอำน...</td>\n",
       "      <td>ศาลมีอำนาจสั่งยกเลิกการล้มละลายหากหนี้สินของบุ...</td>\n",
       "      <td>42.257318</td>\n",
       "      <td>True</td>\n",
       "      <td>0.999817</td>\n",
       "      <td>0.006166</td>\n",
       "      <td>[พระราชบัญญัติล้มละลาย (ฉบับที่ 10) พ.ศ. 2561 ...</td>\n",
       "      <td>[0.9840323465112041, 0.018511045990317374]</td>\n",
       "      <td>0.558598</td>\n",
       "      <td>ตามมาตรา 135 ของพระราชบัญญัติล้มละลาย (ฉบับที่...</td>\n",
       "      <td>41.692528</td>\n",
       "    </tr>\n",
       "    <tr>\n",
       "      <th>4</th>\n",
       "      <td>บัตรอิเล็กทรอนิกส์ตามนิยามในประมวลกฎหมายอาญาหม...</td>\n",
       "      <td>บัตรอิเล็กทรอนิกส์หมายถึงเอกสารหรือวัตถุอื่นใด...</td>\n",
       "      <td>42.746664</td>\n",
       "      <td>True</td>\n",
       "      <td>0.999812</td>\n",
       "      <td>0.006620</td>\n",
       "      <td>[ประมวลกฎหมายอาญา - ภาค 1 (บทบัญญัติทัว่ไป) - ...</td>\n",
       "      <td>[0.9647888635784241, 7.571149413053982e-07]</td>\n",
       "      <td>0.125788</td>\n",
       "      <td>บัตรอิเล็กทรอนิกส์หมายความว่าเอกสารหรือวัตถุอื...</td>\n",
       "      <td>42.614180</td>\n",
       "    </tr>\n",
       "    <tr>\n",
       "      <th>...</th>\n",
       "      <td>...</td>\n",
       "      <td>...</td>\n",
       "      <td>...</td>\n",
       "      <td>...</td>\n",
       "      <td>...</td>\n",
       "      <td>...</td>\n",
       "      <td>...</td>\n",
       "      <td>...</td>\n",
       "      <td>...</td>\n",
       "      <td>...</td>\n",
       "      <td>...</td>\n",
       "    </tr>\n",
       "    <tr>\n",
       "      <th>408</th>\n",
       "      <td>สถานศึกษา สถานฝึกและอบรม และสถานแนะนำทางจิตที่...</td>\n",
       "      <td>จะเป็นสถานศึกษา สถานฝึกและอบรม และสถานแนะนำทาง...</td>\n",
       "      <td>42.545731</td>\n",
       "      <td>True</td>\n",
       "      <td>0.999813</td>\n",
       "      <td>0.005602</td>\n",
       "      <td>[พระราชบัญญัติศาลเยาวชนและครอบครัวและวิธีพิจาร...</td>\n",
       "      <td>[0.9999257361871973, 0.00038446192991146674]</td>\n",
       "      <td>0.539736</td>\n",
       "      <td>จะถูกจัดการตามพระราชบัญญัติศาลเยาวชนและครอบครั...</td>\n",
       "      <td>42.000366</td>\n",
       "    </tr>\n",
       "    <tr>\n",
       "      <th>409</th>\n",
       "      <td>หากผู้ทำแผนไม่สามารถมาประชุมได้เพราะเหตุผลพิเศ...</td>\n",
       "      <td>หากผู้ทำแผนไม่สามารถมาประชุมได้เพราะเหตุผลพิเศ...</td>\n",
       "      <td>43.243825</td>\n",
       "      <td>True</td>\n",
       "      <td>0.999812</td>\n",
       "      <td>0.006647</td>\n",
       "      <td>[พระราชบัญญัติล้มละลาย (ฉบับที่ 10) พ.ศ. 2561 ...</td>\n",
       "      <td>[0.9984929511366406, 0.0030396496140834887]</td>\n",
       "      <td>0.111255</td>\n",
       "      <td>หากผู้ทำแผนไม่สามารถมาประชุมได้เพราะเหตุผลพิเศ...</td>\n",
       "      <td>43.125839</td>\n",
       "    </tr>\n",
       "    <tr>\n",
       "      <th>410</th>\n",
       "      <td>หากบุคคลใดกรอกข้อมูลเท็จลงในแบบสำรวจ จะต้องรับ...</td>\n",
       "      <td>บุคคลดังกล่าวจะต้องระวางโทษจำคุกไม่เกินหกเดือน...</td>\n",
       "      <td>42.285835</td>\n",
       "      <td>True</td>\n",
       "      <td>0.999813</td>\n",
       "      <td>0.005737</td>\n",
       "      <td>[พระราชบัญญัติประกันสังคม พ.ศ. 2533 (ฉบับปรับป...</td>\n",
       "      <td>[0.9999998115390829, 2.074190555355221e-06]</td>\n",
       "      <td>0.437796</td>\n",
       "      <td>ต้องระวางโทษจำคุกไม่เกินหกเดือน หรือปรับไม่เกิ...</td>\n",
       "      <td>41.842276</td>\n",
       "    </tr>\n",
       "    <tr>\n",
       "      <th>411</th>\n",
       "      <td>กรรมการค่าจ้างมีวาระการดำรงตำแหน่งกี่ปี?</td>\n",
       "      <td>กรรมการค่าจ้างมีวาระการดำรงตำแหน่งคราวละสองปี</td>\n",
       "      <td>41.917091</td>\n",
       "      <td>True</td>\n",
       "      <td>0.999811</td>\n",
       "      <td>0.005744</td>\n",
       "      <td>[พระราชบัญญัติคุ้มครองแรงงาน (ฉบับที่ 8) พ.ศ. ...</td>\n",
       "      <td>[0.9999998130056972, 0.0031726828424851893]</td>\n",
       "      <td>0.155455</td>\n",
       "      <td>กรรมการค่าจ้างมีวาระการดำรงตำแหน่งคราวละสองปี</td>\n",
       "      <td>41.755864</td>\n",
       "    </tr>\n",
       "    <tr>\n",
       "      <th>412</th>\n",
       "      <td>หากผู้ขับขี่พบสัญญาณจราจรไฟสีเขียวที่มีคำว่า '...</td>\n",
       "      <td>ผู้ขับขี่ควรขับรถต่อไปได้ เว้นแต่จะมีเครื่องหม...</td>\n",
       "      <td>42.045752</td>\n",
       "      <td>True</td>\n",
       "      <td>0.999778</td>\n",
       "      <td>0.005594</td>\n",
       "      <td>[พระราชบัญญัติจราจรทางบก (ฉบับที่ 13) พ.ศ. 256...</td>\n",
       "      <td>[0.999999808571256, 0.6013009465384413]</td>\n",
       "      <td>0.118751</td>\n",
       "      <td>ผู้ขับขี่ควรขับรถต่อไปได้ด้วยความระมัดระวัง แล...</td>\n",
       "      <td>41.921335</td>\n",
       "    </tr>\n",
       "  </tbody>\n",
       "</table>\n",
       "<p>413 rows × 11 columns</p>\n",
       "</div>"
      ],
      "text/plain": [
       "                                              question  \\\n",
       "0    ตามพระราชบัญญัติขายตรงและตลาดแบบตรง พ.ศ. 2545 ...   \n",
       "1    หากลูกหนี้ไม่ได้กำหนดเวลาชำระหนี้ไว้ ลูกหนี้สา...   \n",
       "2    เครื่องหมายการค้าที่จดทะเบียนไว้ตามกฎหมายเดิมจ...   \n",
       "3    หากลูกหนี้ได้ชำระหนี้สินเต็มจำนวนแล้ว ศาลมีอำน...   \n",
       "4    บัตรอิเล็กทรอนิกส์ตามนิยามในประมวลกฎหมายอาญาหม...   \n",
       "..                                                 ...   \n",
       "408  สถานศึกษา สถานฝึกและอบรม และสถานแนะนำทางจิตที่...   \n",
       "409  หากผู้ทำแผนไม่สามารถมาประชุมได้เพราะเหตุผลพิเศ...   \n",
       "410  หากบุคคลใดกรอกข้อมูลเท็จลงในแบบสำรวจ จะต้องรับ...   \n",
       "411           กรรมการค่าจ้างมีวาระการดำรงตำแหน่งกี่ปี?   \n",
       "412  หากผู้ขับขี่พบสัญญาณจราจรไฟสีเขียวที่มีคำว่า '...   \n",
       "\n",
       "                                                answer  processing_time  \\\n",
       "0    'สินค้า' หมายความว่า สิ่งของที่ผลิตหรือมีไว้เพ...        43.779574   \n",
       "1                      ลูกหนี้สามารถชำระหนี้ได้โดยพลัน        43.170337   \n",
       "2    เครื่องหมายการค้าที่จดทะเบียนไว้ตามพระราชบัญญั...        42.373917   \n",
       "3    ศาลมีอำนาจสั่งยกเลิกการล้มละลายหากหนี้สินของบุ...        42.257318   \n",
       "4    บัตรอิเล็กทรอนิกส์หมายถึงเอกสารหรือวัตถุอื่นใด...        42.746664   \n",
       "..                                                 ...              ...   \n",
       "408  จะเป็นสถานศึกษา สถานฝึกและอบรม และสถานแนะนำทาง...        42.545731   \n",
       "409  หากผู้ทำแผนไม่สามารถมาประชุมได้เพราะเหตุผลพิเศ...        43.243825   \n",
       "410  บุคคลดังกล่าวจะต้องระวางโทษจำคุกไม่เกินหกเดือน...        42.285835   \n",
       "411      กรรมการค่าจ้างมีวาระการดำรงตำแหน่งคราวละสองปี        41.917091   \n",
       "412  ผู้ขับขี่ควรขับรถต่อไปได้ เว้นแต่จะมีเครื่องหม...        42.045752   \n",
       "\n",
       "     domain_detection_result  domain_detection_probability  \\\n",
       "0                       True                      0.999809   \n",
       "1                       True                      0.999805   \n",
       "2                       True                      0.999814   \n",
       "3                       True                      0.999817   \n",
       "4                       True                      0.999812   \n",
       "..                       ...                           ...   \n",
       "408                     True                      0.999813   \n",
       "409                     True                      0.999812   \n",
       "410                     True                      0.999813   \n",
       "411                     True                      0.999811   \n",
       "412                     True                      0.999778   \n",
       "\n",
       "     domain_detection_time_usage  \\\n",
       "0                       0.006224   \n",
       "1                       0.006054   \n",
       "2                       0.006683   \n",
       "3                       0.006166   \n",
       "4                       0.006620   \n",
       "..                           ...   \n",
       "408                     0.005602   \n",
       "409                     0.006647   \n",
       "410                     0.005737   \n",
       "411                     0.005744   \n",
       "412                     0.005594   \n",
       "\n",
       "                                      retrieval_result  \\\n",
       "0    [พระราชบัญญัติขายตรงและตลาดแบบตรง พ.ศ. 2545\\n\\...   \n",
       "1    [ประมวลกฎหมายแพ่งและพาณิชย์ - บรรพ 2 (หนี้) - ...   \n",
       "2    [พระราชบัญญัติเครื่องหมายการค้า (ฉบับที่ 3) พ....   \n",
       "3    [พระราชบัญญัติล้มละลาย (ฉบับที่ 10) พ.ศ. 2561 ...   \n",
       "4    [ประมวลกฎหมายอาญา - ภาค 1 (บทบัญญัติทัว่ไป) - ...   \n",
       "..                                                 ...   \n",
       "408  [พระราชบัญญัติศาลเยาวชนและครอบครัวและวิธีพิจาร...   \n",
       "409  [พระราชบัญญัติล้มละลาย (ฉบับที่ 10) พ.ศ. 2561 ...   \n",
       "410  [พระราชบัญญัติประกันสังคม พ.ศ. 2533 (ฉบับปรับป...   \n",
       "411  [พระราชบัญญัติคุ้มครองแรงงาน (ฉบับที่ 8) พ.ศ. ...   \n",
       "412  [พระราชบัญญัติจราจรทางบก (ฉบับที่ 13) พ.ศ. 256...   \n",
       "\n",
       "                        retrieval_reranking_score  retrieval_time_usage  \\\n",
       "0    [0.9999263140701885, 1.3184367302834308e-06]              0.623299   \n",
       "1      [0.9999997654566101, 0.004663654952382039]              0.490520   \n",
       "2       [0.9999929281049428, 0.29017562235469585]              0.412240   \n",
       "3      [0.9840323465112041, 0.018511045990317374]              0.558598   \n",
       "4     [0.9647888635784241, 7.571149413053982e-07]              0.125788   \n",
       "..                                            ...                   ...   \n",
       "408  [0.9999257361871973, 0.00038446192991146674]              0.539736   \n",
       "409   [0.9984929511366406, 0.0030396496140834887]              0.111255   \n",
       "410   [0.9999998115390829, 2.074190555355221e-06]              0.437796   \n",
       "411   [0.9999998130056972, 0.0031726828424851893]              0.155455   \n",
       "412       [0.999999808571256, 0.6013009465384413]              0.118751   \n",
       "\n",
       "                                     generation_result  generation_time_usage  \n",
       "0    'สินค้า' หมายความว่า สิ่งของที่ผลิตหรือมีไว้เพ...              43.150021  \n",
       "1                      ลูกหนี้สามารถชำระหนี้ได้โดยพลัน              42.673731  \n",
       "2    เครื่องหมายการค้าที่จดทะเบียนไว้ตามพระราชบัญญั...              41.954962  \n",
       "3    ตามมาตรา 135 ของพระราชบัญญัติล้มละลาย (ฉบับที่...              41.692528  \n",
       "4    บัตรอิเล็กทรอนิกส์หมายความว่าเอกสารหรือวัตถุอื...              42.614180  \n",
       "..                                                 ...                    ...  \n",
       "408  จะถูกจัดการตามพระราชบัญญัติศาลเยาวชนและครอบครั...              42.000366  \n",
       "409  หากผู้ทำแผนไม่สามารถมาประชุมได้เพราะเหตุผลพิเศ...              43.125839  \n",
       "410  ต้องระวางโทษจำคุกไม่เกินหกเดือน หรือปรับไม่เกิ...              41.842276  \n",
       "411      กรรมการค่าจ้างมีวาระการดำรงตำแหน่งคราวละสองปี              41.755864  \n",
       "412  ผู้ขับขี่ควรขับรถต่อไปได้ด้วยความระมัดระวัง แล...              41.921335  \n",
       "\n",
       "[413 rows x 11 columns]"
      ]
     },
     "execution_count": 10,
     "metadata": {},
     "output_type": "execute_result"
    }
   ],
   "source": [
    "df = pd.read_csv('/project/lt200301-edubot/Capstone-TamTanai/inference_result/inference_end_to_end_n_documents=2.csv')\n",
    "df['retrieval_result'] = df['retrieval_result'].apply(ast.literal_eval)\n",
    "df"
   ]
  },
  {
   "cell_type": "code",
   "execution_count": null,
   "id": "2e189f5a-6eb9-4514-9392-87deb016b985",
   "metadata": {},
   "outputs": [],
   "source": []
  }
 ],
 "metadata": {
  "kernelspec": {
   "display_name": "tamtanai",
   "language": "python",
   "name": "tamtanai"
  },
  "language_info": {
   "codemirror_mode": {
    "name": "ipython",
    "version": 3
   },
   "file_extension": ".py",
   "mimetype": "text/x-python",
   "name": "python",
   "nbconvert_exporter": "python",
   "pygments_lexer": "ipython3",
   "version": "3.9.19"
  }
 },
 "nbformat": 4,
 "nbformat_minor": 5
}
