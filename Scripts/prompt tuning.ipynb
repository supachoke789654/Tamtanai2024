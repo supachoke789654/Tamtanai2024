{
 "cells": [
  {
   "cell_type": "code",
   "execution_count": 1,
   "id": "fce716fe-b75e-4caa-9682-1211b7c94bd4",
   "metadata": {},
   "outputs": [
    {
     "name": "stdout",
     "output_type": "stream",
     "text": [
      "using cuda device\n"
     ]
    }
   ],
   "source": [
    "import os\n",
    "import time\n",
    "import torch\n",
    "import pandas as pd\n",
    "import bitsandbytes as bnb\n",
    "\n",
    "from tqdm import tqdm\n",
    "from torch.nn import DataParallel\n",
    "from transformers import (\n",
    "    AutoModelForCausalLM,\n",
    "    AutoTokenizer,\n",
    "    BitsAndBytesConfig,\n",
    ")\n",
    "os.environ['PYTORCH_CUDA_ALLOC_CONF'] = 'expandable_segments:True'\n",
    "\n",
    "DEVICE = \"cuda\" if torch.cuda.is_available() else \"cpu\"\n",
    "print(f\"using {DEVICE} device\")"
   ]
  },
  {
   "cell_type": "code",
   "execution_count": 1,
   "id": "7ae43bde-350e-474a-83ba-5a5a6d556d19",
   "metadata": {},
   "outputs": [
    {
     "name": "stdout",
     "output_type": "stream",
     "text": [
      "2.3.1+cu121\n"
     ]
    }
   ],
   "source": [
    "import torch\n",
    "print(torch.__version__)"
   ]
  },
  {
   "cell_type": "code",
   "execution_count": 2,
   "id": "82385f74-7bcc-459b-a82b-9c7620386f78",
   "metadata": {},
   "outputs": [
    {
     "name": "stdout",
     "output_type": "stream",
     "text": [
      "Inferencing model Llama-3-Typhoon-1.5-8B-finetune-dataset-v1\n"
     ]
    },
    {
     "data": {
      "application/vnd.jupyter.widget-view+json": {
       "model_id": "9d88937497c24392a830eca1b0dd5f6c",
       "version_major": 2,
       "version_minor": 0
      },
      "text/plain": [
       "Loading checkpoint shards:   0%|          | 0/4 [00:00<?, ?it/s]"
      ]
     },
     "metadata": {},
     "output_type": "display_data"
    },
    {
     "name": "stdout",
     "output_type": "stream",
     "text": [
      "Let's use 4 GPUs!\n",
      "Finished reading data\n"
     ]
    }
   ],
   "source": [
    "def find_best_model(model_name):\n",
    "    log_path = f'/project/lt200301-edubot/Capstone-TamTanai/logs/{model_name}.csv'\n",
    "    log = pd.read_csv(log_path)\n",
    "    step = int(log.iloc[log['eval_loss'].argmin()]['step'])\n",
    "    return f'/project/lt200301-edubot/Capstone-TamTanai/models/{model_name}/checkpoint-{step}'\n",
    "\n",
    "\n",
    "# SeaLLMs-v3-7B-Chat-finetune-dataset-v1 Llama-3-Typhoon-1.5-8B-finetune-dataset-v1\n",
    "MODEL_NAME = 'Llama-3-Typhoon-1.5-8B-finetune-dataset-v1' # Llama-3-Typhoon-1.5-8B-finetune-v1-rslora\n",
    "FIND_BEST_MODEL = True\n",
    "MODEL_NAME_OR_PATH = f\"/project/lt200301-edubot/Capstone-TamTanai/models/{MODEL_NAME}\"\n",
    "if FIND_BEST_MODEL:\n",
    "    MODEL_NAME_OR_PATH = find_best_model(MODEL_NAME)\n",
    "EVALUATE_RESULT_PATH = f\"/project/lt200301-edubot/Capstone-TamTanai/inference_result/inference_{MODEL_NAME}.csv\"\n",
    "\n",
    "print(f'Inferencing model {MODEL_NAME}')\n",
    "\n",
    "# Load both LLM model and tokenizer\n",
    "def load_LLM_and_tokenizer():\n",
    "    bnb_config = BitsAndBytesConfig(\n",
    "        load_in_4bit=True,\n",
    "        bnb_4bit_use_double_quant=True,\n",
    "        bnb_4bit_quant_type=\"nf4\",\n",
    "        bnb_4bit_compute_dtype=torch.float16,\n",
    "    )\n",
    "    model = AutoModelForCausalLM.from_pretrained(\n",
    "        MODEL_NAME_OR_PATH,\n",
    "        quantization_config=bnb_config,\n",
    "        local_files_only=True,\n",
    "        device_map=\"auto\",\n",
    "        torch_dtype=torch.bfloat16,\n",
    "        use_cache=False\n",
    "    )\n",
    "    tokenizer = AutoTokenizer.from_pretrained(\n",
    "        MODEL_NAME_OR_PATH,\n",
    "        padding_side=\"left\",\n",
    "        add_eos_token=True,\n",
    "        add_bos_token=True,\n",
    "    )\n",
    "    tokenizer.pad_token = tokenizer.eos_token\n",
    "    return model, tokenizer\n",
    "\n",
    "model, tokenizer = load_LLM_and_tokenizer()\n",
    "model.config.use_cache = False\n",
    "\n",
    "if torch.cuda.device_count() > 1:\n",
    "    print(\"Let's use\", torch.cuda.device_count(), \"GPUs!\")\n",
    "    model = DataParallel(model).module\n",
    "\n",
    "\n",
    "def generate_answer_with_timer(text: str):\n",
    "    try:\n",
    "        start_time = time.time()\n",
    "        encoded_input = tokenizer.encode(text, return_tensors='pt', add_special_tokens=False).to(DEVICE)\n",
    "        with torch.cuda.amp.autocast():\n",
    "            generate_kwargs = dict(\n",
    "                {\"input_ids\": encoded_input},\n",
    "                do_sample=True,\n",
    "                max_new_tokens=512,\n",
    "                top_p=0.9,\n",
    "                temperature=0.7,\n",
    "                repetition_penalty=1.1,\n",
    "                use_cache=False,\n",
    "                pad_token_id=tokenizer.eos_token_id,\n",
    "            )\n",
    "        encoded_output = model.generate(**generate_kwargs)\n",
    "        response = tokenizer.decode(encoded_output[0][len(encoded_input[0]):], skip_special_tokens=True)\n",
    "        response_time = time.time() - start_time\n",
    "        return response, response_time\n",
    "    except:\n",
    "        print(\"Encounter error!\")\n",
    "        return None, 0.0\n",
    "\n",
    "\n",
    "test_data = pd.read_csv(\"../asset/dataset/testdata.csv\")\n",
    "print(\"Finished reading data\")"
   ]
  },
  {
   "cell_type": "code",
   "execution_count": 3,
   "id": "3c3e4789-efd1-4e6f-b0e4-5dbd19e13190",
   "metadata": {},
   "outputs": [
    {
     "data": {
      "text/html": [
       "<div>\n",
       "<style scoped>\n",
       "    .dataframe tbody tr th:only-of-type {\n",
       "        vertical-align: middle;\n",
       "    }\n",
       "\n",
       "    .dataframe tbody tr th {\n",
       "        vertical-align: top;\n",
       "    }\n",
       "\n",
       "    .dataframe thead th {\n",
       "        text-align: right;\n",
       "    }\n",
       "</style>\n",
       "<table border=\"1\" class=\"dataframe\">\n",
       "  <thead>\n",
       "    <tr style=\"text-align: right;\">\n",
       "      <th></th>\n",
       "      <th>question</th>\n",
       "      <th>answer</th>\n",
       "      <th>knowledges</th>\n",
       "      <th>prompt</th>\n",
       "    </tr>\n",
       "  </thead>\n",
       "  <tbody>\n",
       "    <tr>\n",
       "      <th>0</th>\n",
       "      <td>ตามพระราชบัญญัติขายตรงและตลาดแบบตรง พ.ศ. 2545 ...</td>\n",
       "      <td>'สินค้า' หมายความว่า สิ่งของที่ผลิตหรือมีไว้เพ...</td>\n",
       "      <td>พระราชบัญญัติขายตรงและตลาดแบบตรง พ.ศ. 2545\\n\\n...</td>\n",
       "      <td>&lt;s&gt;&lt;|im_start|&gt;system\\nคุณคือนักกฎหมายที่จะตอบ...</td>\n",
       "    </tr>\n",
       "    <tr>\n",
       "      <th>1</th>\n",
       "      <td>หากลูกหนี้ไม่ได้กำหนดเวลาชำระหนี้ไว้ ลูกหนี้สา...</td>\n",
       "      <td>ลูกหนี้สามารถชำระหนี้ได้โดยพลัน</td>\n",
       "      <td>ประมวลกฎหมายแพ่งและพาณิชย์ - บรรพ 2 (หนี้) - ล...</td>\n",
       "      <td>&lt;s&gt;&lt;|im_start|&gt;system\\nคุณคือนักกฎหมายที่จะตอบ...</td>\n",
       "    </tr>\n",
       "    <tr>\n",
       "      <th>2</th>\n",
       "      <td>เครื่องหมายการค้าที่จดทะเบียนไว้ตามกฎหมายเดิมจ...</td>\n",
       "      <td>เครื่องหมายการค้าที่จดทะเบียนไว้ตามพระราชบัญญั...</td>\n",
       "      <td>พระราชบัญญัติเครื่องหมายการค้า (ฉบับที่ 3) พ.ศ...</td>\n",
       "      <td>&lt;s&gt;&lt;|im_start|&gt;system\\nคุณคือนักกฎหมายที่จะตอบ...</td>\n",
       "    </tr>\n",
       "    <tr>\n",
       "      <th>3</th>\n",
       "      <td>หากลูกหนี้ได้ชำระหนี้สินเต็มจำนวนแล้ว ศาลมีอำน...</td>\n",
       "      <td>ศาลมีอำนาจสั่งยกเลิกการล้มละลายหากหนี้สินของบุ...</td>\n",
       "      <td>พระราชบัญญัติล้มละลาย (ฉบับที่ 10) พ.ศ. 2561 -...</td>\n",
       "      <td>&lt;s&gt;&lt;|im_start|&gt;system\\nคุณคือนักกฎหมายที่จะตอบ...</td>\n",
       "    </tr>\n",
       "    <tr>\n",
       "      <th>4</th>\n",
       "      <td>บัตรอิเล็กทรอนิกส์ตามนิยามในประมวลกฎหมายอาญาหม...</td>\n",
       "      <td>บัตรอิเล็กทรอนิกส์หมายถึงเอกสารหรือวัตถุอื่นใด...</td>\n",
       "      <td>ประมวลกฎหมายอาญา - ภาค 1 (บทบัญญัติทัว่ไป) - ล...</td>\n",
       "      <td>&lt;s&gt;&lt;|im_start|&gt;system\\nคุณคือนักกฎหมายที่จะตอบ...</td>\n",
       "    </tr>\n",
       "    <tr>\n",
       "      <th>...</th>\n",
       "      <td>...</td>\n",
       "      <td>...</td>\n",
       "      <td>...</td>\n",
       "      <td>...</td>\n",
       "    </tr>\n",
       "    <tr>\n",
       "      <th>408</th>\n",
       "      <td>สถานศึกษา สถานฝึกและอบรม และสถานแนะนำทางจิตที่...</td>\n",
       "      <td>จะเป็นสถานศึกษา สถานฝึกและอบรม และสถานแนะนำทาง...</td>\n",
       "      <td>พระราชบัญญัติศาลเยาวชนและครอบครัวและวิธีพิจารณ...</td>\n",
       "      <td>&lt;s&gt;&lt;|im_start|&gt;system\\nคุณคือนักกฎหมายที่จะตอบ...</td>\n",
       "    </tr>\n",
       "    <tr>\n",
       "      <th>409</th>\n",
       "      <td>หากผู้ทำแผนไม่สามารถมาประชุมได้เพราะเหตุผลพิเศ...</td>\n",
       "      <td>หากผู้ทำแผนไม่สามารถมาประชุมได้เพราะเหตุผลพิเศ...</td>\n",
       "      <td>พระราชบัญญัติล้มละลาย (ฉบับที่ 10) พ.ศ. 2561 -...</td>\n",
       "      <td>&lt;s&gt;&lt;|im_start|&gt;system\\nคุณคือนักกฎหมายที่จะตอบ...</td>\n",
       "    </tr>\n",
       "    <tr>\n",
       "      <th>410</th>\n",
       "      <td>หากบุคคลใดกรอกข้อมูลเท็จลงในแบบสำรวจ จะต้องรับ...</td>\n",
       "      <td>บุคคลดังกล่าวจะต้องระวางโทษจำคุกไม่เกินหกเดือน...</td>\n",
       "      <td>พระราชบัญญัติประกันสังคม พ.ศ. 2533 (ฉบับปรับปร...</td>\n",
       "      <td>&lt;s&gt;&lt;|im_start|&gt;system\\nคุณคือนักกฎหมายที่จะตอบ...</td>\n",
       "    </tr>\n",
       "    <tr>\n",
       "      <th>411</th>\n",
       "      <td>กรรมการค่าจ้างมีวาระการดำรงตำแหน่งกี่ปี?</td>\n",
       "      <td>กรรมการค่าจ้างมีวาระการดำรงตำแหน่งคราวละสองปี</td>\n",
       "      <td>พระราชบัญญัติคุ้มครองแรงงาน (ฉบับที่ 8) พ.ศ. 2...</td>\n",
       "      <td>&lt;s&gt;&lt;|im_start|&gt;system\\nคุณคือนักกฎหมายที่จะตอบ...</td>\n",
       "    </tr>\n",
       "    <tr>\n",
       "      <th>412</th>\n",
       "      <td>หากผู้ขับขี่พบสัญญาณจราจรไฟสีเขียวที่มีคำว่า '...</td>\n",
       "      <td>ผู้ขับขี่ควรขับรถต่อไปได้ เว้นแต่จะมีเครื่องหม...</td>\n",
       "      <td>พระราชบัญญัติจราจรทางบก (ฉบับที่ 13) พ.ศ. 2565...</td>\n",
       "      <td>&lt;s&gt;&lt;|im_start|&gt;system\\nคุณคือนักกฎหมายที่จะตอบ...</td>\n",
       "    </tr>\n",
       "  </tbody>\n",
       "</table>\n",
       "<p>413 rows × 4 columns</p>\n",
       "</div>"
      ],
      "text/plain": [
       "                                              question  \\\n",
       "0    ตามพระราชบัญญัติขายตรงและตลาดแบบตรง พ.ศ. 2545 ...   \n",
       "1    หากลูกหนี้ไม่ได้กำหนดเวลาชำระหนี้ไว้ ลูกหนี้สา...   \n",
       "2    เครื่องหมายการค้าที่จดทะเบียนไว้ตามกฎหมายเดิมจ...   \n",
       "3    หากลูกหนี้ได้ชำระหนี้สินเต็มจำนวนแล้ว ศาลมีอำน...   \n",
       "4    บัตรอิเล็กทรอนิกส์ตามนิยามในประมวลกฎหมายอาญาหม...   \n",
       "..                                                 ...   \n",
       "408  สถานศึกษา สถานฝึกและอบรม และสถานแนะนำทางจิตที่...   \n",
       "409  หากผู้ทำแผนไม่สามารถมาประชุมได้เพราะเหตุผลพิเศ...   \n",
       "410  หากบุคคลใดกรอกข้อมูลเท็จลงในแบบสำรวจ จะต้องรับ...   \n",
       "411           กรรมการค่าจ้างมีวาระการดำรงตำแหน่งกี่ปี?   \n",
       "412  หากผู้ขับขี่พบสัญญาณจราจรไฟสีเขียวที่มีคำว่า '...   \n",
       "\n",
       "                                                answer  \\\n",
       "0    'สินค้า' หมายความว่า สิ่งของที่ผลิตหรือมีไว้เพ...   \n",
       "1                      ลูกหนี้สามารถชำระหนี้ได้โดยพลัน   \n",
       "2    เครื่องหมายการค้าที่จดทะเบียนไว้ตามพระราชบัญญั...   \n",
       "3    ศาลมีอำนาจสั่งยกเลิกการล้มละลายหากหนี้สินของบุ...   \n",
       "4    บัตรอิเล็กทรอนิกส์หมายถึงเอกสารหรือวัตถุอื่นใด...   \n",
       "..                                                 ...   \n",
       "408  จะเป็นสถานศึกษา สถานฝึกและอบรม และสถานแนะนำทาง...   \n",
       "409  หากผู้ทำแผนไม่สามารถมาประชุมได้เพราะเหตุผลพิเศ...   \n",
       "410  บุคคลดังกล่าวจะต้องระวางโทษจำคุกไม่เกินหกเดือน...   \n",
       "411      กรรมการค่าจ้างมีวาระการดำรงตำแหน่งคราวละสองปี   \n",
       "412  ผู้ขับขี่ควรขับรถต่อไปได้ เว้นแต่จะมีเครื่องหม...   \n",
       "\n",
       "                                            knowledges  \\\n",
       "0    พระราชบัญญัติขายตรงและตลาดแบบตรง พ.ศ. 2545\\n\\n...   \n",
       "1    ประมวลกฎหมายแพ่งและพาณิชย์ - บรรพ 2 (หนี้) - ล...   \n",
       "2    พระราชบัญญัติเครื่องหมายการค้า (ฉบับที่ 3) พ.ศ...   \n",
       "3    พระราชบัญญัติล้มละลาย (ฉบับที่ 10) พ.ศ. 2561 -...   \n",
       "4    ประมวลกฎหมายอาญา - ภาค 1 (บทบัญญัติทัว่ไป) - ล...   \n",
       "..                                                 ...   \n",
       "408  พระราชบัญญัติศาลเยาวชนและครอบครัวและวิธีพิจารณ...   \n",
       "409  พระราชบัญญัติล้มละลาย (ฉบับที่ 10) พ.ศ. 2561 -...   \n",
       "410  พระราชบัญญัติประกันสังคม พ.ศ. 2533 (ฉบับปรับปร...   \n",
       "411  พระราชบัญญัติคุ้มครองแรงงาน (ฉบับที่ 8) พ.ศ. 2...   \n",
       "412  พระราชบัญญัติจราจรทางบก (ฉบับที่ 13) พ.ศ. 2565...   \n",
       "\n",
       "                                                prompt  \n",
       "0    <s><|im_start|>system\\nคุณคือนักกฎหมายที่จะตอบ...  \n",
       "1    <s><|im_start|>system\\nคุณคือนักกฎหมายที่จะตอบ...  \n",
       "2    <s><|im_start|>system\\nคุณคือนักกฎหมายที่จะตอบ...  \n",
       "3    <s><|im_start|>system\\nคุณคือนักกฎหมายที่จะตอบ...  \n",
       "4    <s><|im_start|>system\\nคุณคือนักกฎหมายที่จะตอบ...  \n",
       "..                                                 ...  \n",
       "408  <s><|im_start|>system\\nคุณคือนักกฎหมายที่จะตอบ...  \n",
       "409  <s><|im_start|>system\\nคุณคือนักกฎหมายที่จะตอบ...  \n",
       "410  <s><|im_start|>system\\nคุณคือนักกฎหมายที่จะตอบ...  \n",
       "411  <s><|im_start|>system\\nคุณคือนักกฎหมายที่จะตอบ...  \n",
       "412  <s><|im_start|>system\\nคุณคือนักกฎหมายที่จะตอบ...  \n",
       "\n",
       "[413 rows x 4 columns]"
      ]
     },
     "execution_count": 3,
     "metadata": {},
     "output_type": "execute_result"
    }
   ],
   "source": [
    "test_data"
   ]
  },
  {
   "cell_type": "code",
   "execution_count": 4,
   "id": "46e3b04d-f774-4372-9783-e03bbff2b522",
   "metadata": {},
   "outputs": [
    {
     "data": {
      "text/plain": [
       "'<s><|im_start|>system\\nคุณคือนักกฎหมายที่จะตอบคำถามเกี่ยวกับกฎหมาย จงตอบคำถามโดยใช้ความรู้ที่ให้ดังต่อไปนี้\\nถ้าหากคุณไม่รู้คำตอบ ให้ตอบว่าไม่รู้ อย่าสร้างคำตอบขึ้นมาเอง\\nความรู้ที่ให้:\\nพระราชบัญญัติจราจรทางบก (ฉบับที่ 13) พ.ศ. 2565 - ลักษณะ 17 (เบ็ดเตล็ด)\\n\\nมาตรา 122  ผู้ขับขี่รถจักรยานยนต์และคนโดยสารรถจักรยานยนต์ต้องสวมหมวกที่จัดทำขึ้นโดยเฉพาะเพื่อป้องกันอันตรายในขณะขับขี่และโดยสารรถจักรยานยนต์\\nห้ามมิให้ผู้ขับขี่รถจักรยานยนต์ตามวรรคหนึ่งขับขี่รถจักรยานยนต์ในขณะที่คนโดยสารรถจักรยานยนต์มิได้สวมหมวกที่จัดทำขึ้นโดยเฉพาะเพื่อป้องกันอันตราย\\nลักษณะและวิธีการใช้หมวกเพื่อป้องกันอันตรายตามวรรคหนึ่ง ให้เป็นไปตามที่กำหนดในกฎกระทรวง\\nความในวรรคหนึ่งมิให้ใช้บังคับแก่ภิกษุ สามเณร นักพรต นักบวช หรือผู้นับถือลัทธิศาสนาอื่นที่ใช้ผ้าหรือสิ่งอื่นโพกศีรษะตามประเพณีนิยมนั้น หรือบุคคลใดที่กำหนดในกฎกระทรวง</s><|im_start|>user\\nหากผู้ขับขี่รถจักรยานยนต์ขับขี่โดยที่คนโดยสารไม่สวมหมวกนิรภัย จะถูกดำเนินการตามมาตราใด</s><|im_start|>assistant\\n'"
      ]
     },
     "execution_count": 4,
     "metadata": {},
     "output_type": "execute_result"
    }
   ],
   "source": [
    "test_data.iloc[365,-1]"
   ]
  },
  {
   "cell_type": "code",
   "execution_count": 12,
   "id": "ba552027-c3dc-4bad-b08b-29223dfe26f1",
   "metadata": {},
   "outputs": [],
   "source": [
    "prompt = \"\"\"'<s><|im_start|>system\\nคุณคือนักกฎหมายที่จะตอบคำถามเกี่ยวกับกฎหมาย จงตอบคำถามโดยใช้ความรู้ที่ให้ดังต่อไปนี้\\nถ้าหากคุณไม่รู้คำตอบ ให้ตอบว่าไม่รู้ อย่าสร้างคำตอบขึ้นมาเอง\\nความรู้ที่ให้:\\nพระราชบัญญัติจราจรทางบก (ฉบับที่ 13) พ.ศ. 2565 - ลักษณะ 17 (เบ็ดเตล็ด)\\n\\nมาตรา 122  ผู้ขับขี่รถจักรยานยนต์และคนโดยสารรถจักรยานยนต์ต้องสวมหมวกที่จัดทำขึ้นโดยเฉพาะเพื่อป้องกันอันตรายในขณะขับขี่และโดยสารรถจักรยานยนต์\\nห้ามมิให้ผู้ขับขี่รถจักรยานยนต์ตามวรรคหนึ่งขับขี่รถจักรยานยนต์ในขณะที่คนโดยสารรถจักรยานยนต์มิได้สวมหมวกที่จัดทำขึ้นโดยเฉพาะเพื่อป้องกันอันตราย\\nลักษณะและวิธีการใช้หมวกเพื่อป้องกันอันตรายตามวรรคหนึ่ง ให้เป็นไปตามที่กำหนดในกฎกระทรวง\\nความในวรรคหนึ่งมิให้ใช้บังคับแก่ภิกษุ สามเณร นักพรต นักบวช หรือผู้นับถือลัทธิศาสนาอื่นที่ใช้ผ้าหรือสิ่งอื่นโพกศีรษะตามประเพณีนิยมนั้น หรือบุคคลใดที่กำหนดในกฎกระทรวง</s><|im_start|>user\\nหากผู้ขับขี่รถจักรยานยนต์ขับขี่โดยที่คนโดยสารไม่สวมหมวกนิรภัย จะถูกดำเนินการตามมาตราใด</s><|im_start|>assistant\\n'\"\"\""
   ]
  },
  {
   "cell_type": "code",
   "execution_count": 13,
   "id": "90d58bfb-86af-4956-90ac-dbacd5cdecd9",
   "metadata": {},
   "outputs": [
    {
     "name": "stdout",
     "output_type": "stream",
     "text": [
      "'<s><|im_start|>system\n",
      "คุณคือนักกฎหมายที่จะตอบคำถามเกี่ยวกับกฎหมาย จงตอบคำถามโดยใช้ความรู้ที่ให้ดังต่อไปนี้\n",
      "ถ้าหากคุณไม่รู้คำตอบ ให้ตอบว่าไม่รู้ อย่าสร้างคำตอบขึ้นมาเอง\n",
      "ความรู้ที่ให้:\n",
      "พระราชบัญญัติจราจรทางบก (ฉบับที่ 13) พ.ศ. 2565 - ลักษณะ 17 (เบ็ดเตล็ด)\n",
      "\n",
      "มาตรา 122  ผู้ขับขี่รถจักรยานยนต์และคนโดยสารรถจักรยานยนต์ต้องสวมหมวกที่จัดทำขึ้นโดยเฉพาะเพื่อป้องกันอันตรายในขณะขับขี่และโดยสารรถจักรยานยนต์\n",
      "ห้ามมิให้ผู้ขับขี่รถจักรยานยนต์ตามวรรคหนึ่งขับขี่รถจักรยานยนต์ในขณะที่คนโดยสารรถจักรยานยนต์มิได้สวมหมวกที่จัดทำขึ้นโดยเฉพาะเพื่อป้องกันอันตราย\n",
      "ลักษณะและวิธีการใช้หมวกเพื่อป้องกันอันตรายตามวรรคหนึ่ง ให้เป็นไปตามที่กำหนดในกฎกระทรวง\n",
      "ความในวรรคหนึ่งมิให้ใช้บังคับแก่ภิกษุ สามเณร นักพรต นักบวช หรือผู้นับถือลัทธิศาสนาอื่นที่ใช้ผ้าหรือสิ่งอื่นโพกศีรษะตามประเพณีนิยมนั้น หรือบุคคลใดที่กำหนดในกฎกระทรวง</s><|im_start|>user\n",
      "หากผู้ขับขี่รถจักรยานยนต์ขับขี่โดยที่คนโดยสารไม่สวมหมวกนิรภัย จะถูกดำเนินการตามมาตราใด</s><|im_start|>assistant\n",
      "'\n"
     ]
    }
   ],
   "source": [
    "print(prompt)"
   ]
  },
  {
   "cell_type": "code",
   "execution_count": 14,
   "id": "c0ada18b-3661-4776-8df6-c44a1683b149",
   "metadata": {},
   "outputs": [
    {
     "data": {
      "text/plain": [
       "(\"ห้ามมิให้ผู้ขับขี่รถจักรยานยนต์ตามวรรคหนึ่งขับขี่รถจักรยานยนต์ในขณะที่คนโดยสารรถจักรยานยนต์มิได้สวมหมวกที่จัดทำขึ้นโดยเฉพาะเพื่อป้องกันอันตราย'</s>\\n'ความในวรรคหนึ่งมิให้ใช้บังคับแก่ภิกษุ สามเณร นักพรต นักบวช หรือผู้นับถือลัทธิศาสนาอื่นที่ใช้ผ้าหรือสิ่งอื่นโพกศีรษะตามประเพณีนิยมนั้น หรือบุคคลใดที่กำหนดในกฎกระทรวง'</s>\\n'ผู้ขับขี่รถจักรยานยนต์และคนโดยสารรถจักรยานยนต์ต้องสวมหมวกที่จัดทำขึ้นโดยเฉพาะเพื่อป้องกันอันตรายในขณะขับขี่และโดยสารรถจักรยานยนต์'</s>\\n'ห้ามมิให้ผู้ขับขี่รถจักรยานยนต์ตามวรรคหนึ่งขับขี่รถจักรยานยนต์ในขณะที่คนโดยสารรถจักรยานยนต์มิได้สวมหมวกที่จัดทำขึ้นโดยเฉพาะเพื่อป้องกันอันตราย'</s>\\n'ความในวรรคหนึ่งมิให้ใช้บังคับแก่ภิกษุ สามเณร นักพรต นักบวช หรือผู้นับถือลัทธิศาสนาอื่นที่ใช้ผ้าหรือสิ่งอื่นโพกศีรษะตามประเพณีนิยมนั้น หรือบุคคลใดที่กำหนดในกฎกระทรวง'</s>\\n'ผู้ขับขี่รถจักรยานยนต์และคนโดยสารรถจักรยานยนต์ต้องสวมหมวกที่จัดทำขึ้นโดยเฉพาะเพื่อป้องกันอันตรายในขณะขับขี่และโดยสารรถจักรยานยนต์'</s>\\n'ห้ามมิให้ผู้ขับขี่รถจักรยานยนต์ตามวรรคหนึ่งขับขี่รถจักรยานยนต์ในขณะที่คนโดยสารรถจักรยานยนต์มิได้สวมหมวกที่จัดทำ\",\n",
       " 86.90951347351074)"
      ]
     },
     "execution_count": 14,
     "metadata": {},
     "output_type": "execute_result"
    }
   ],
   "source": [
    "output = generate_answer_with_timer(prompt)\n",
    "output"
   ]
  },
  {
   "cell_type": "code",
   "execution_count": null,
   "id": "3f1f9660-dd8a-4e8a-8991-3cbddbaf45e9",
   "metadata": {},
   "outputs": [],
   "source": []
  }
 ],
 "metadata": {
  "kernelspec": {
   "display_name": "Python 3 (ipykernel)",
   "language": "python",
   "name": "python3"
  },
  "language_info": {
   "codemirror_mode": {
    "name": "ipython",
    "version": 3
   },
   "file_extension": ".py",
   "mimetype": "text/x-python",
   "name": "python",
   "nbconvert_exporter": "python",
   "pygments_lexer": "ipython3",
   "version": "3.9.19"
  }
 },
 "nbformat": 4,
 "nbformat_minor": 5
}
